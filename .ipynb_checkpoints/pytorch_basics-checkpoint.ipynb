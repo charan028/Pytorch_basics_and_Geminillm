{
 "cells": [
  {
   "cell_type": "code",
   "execution_count": 1,
   "id": "ddc7cbfd-0334-4add-a83c-2eb3c7dece2b",
   "metadata": {},
   "outputs": [
    {
     "name": "stdout",
     "output_type": "stream",
     "text": [
      "tensor([[[[-1.2765e+38,  1.8315e-42,  0.0000e+00],\n",
      "          [ 0.0000e+00,  0.0000e+00,  0.0000e+00]],\n",
      "\n",
      "         [[ 0.0000e+00,  0.0000e+00,  0.0000e+00],\n",
      "          [ 0.0000e+00,  0.0000e+00,  0.0000e+00]]],\n",
      "\n",
      "\n",
      "        [[[ 0.0000e+00,  0.0000e+00,  0.0000e+00],\n",
      "          [ 0.0000e+00,  0.0000e+00,  0.0000e+00]],\n",
      "\n",
      "         [[ 0.0000e+00,  0.0000e+00,  0.0000e+00],\n",
      "          [ 0.0000e+00,  0.0000e+00,  0.0000e+00]]]])\n"
     ]
    }
   ],
   "source": [
    "import torch\n",
    "x=torch.empty(2,2,2,3)\n",
    "print(x)"
   ]
  },
  {
   "cell_type": "code",
   "execution_count": 2,
   "id": "761b3828-bb6e-489c-bb36-48cc3831cb07",
   "metadata": {},
   "outputs": [
    {
     "name": "stdout",
     "output_type": "stream",
     "text": [
      "tensor([[0.2647, 0.2740],\n",
      "        [0.9297, 0.2363]])\n"
     ]
    }
   ],
   "source": [
    "y=torch.rand(2,2)\n",
    "print(y)"
   ]
  },
  {
   "cell_type": "code",
   "execution_count": 3,
   "id": "753177ff-71f9-4fb4-aab7-1b2d7a4884fe",
   "metadata": {},
   "outputs": [
    {
     "name": "stdout",
     "output_type": "stream",
     "text": [
      "tensor([[0., 0.],\n",
      "        [0., 0.]])\n",
      "tensor([[1., 1.],\n",
      "        [1., 1.],\n",
      "        [1., 1.]])\n"
     ]
    }
   ],
   "source": [
    "z=torch.zeros(2,2)\n",
    "print(z)\n",
    "t=torch.ones(3,2)\n",
    "print(t)"
   ]
  },
  {
   "cell_type": "code",
   "execution_count": 4,
   "id": "1d0c6830-5ed7-437b-9fee-1ed0a7f3ea10",
   "metadata": {},
   "outputs": [
    {
     "name": "stdout",
     "output_type": "stream",
     "text": [
      "torch.float32\n",
      "torch.int32\n",
      "torch.float16\n",
      "torch.Size([3, 2])\n"
     ]
    }
   ],
   "source": [
    "print(t.dtype)\n",
    "t1=torch.ones(3,2,dtype=torch.int)\n",
    "t2=torch.ones(3,2,dtype=torch.double)\n",
    "t2=torch.ones(3,2,dtype=torch.float16)\n",
    "print(t1.dtype)\n",
    "print(t2.dtype)\n",
    "print(t2.size())"
   ]
  },
  {
   "cell_type": "code",
   "execution_count": 5,
   "id": "31674ab7-4558-40ed-b5fe-6a65d7e1a279",
   "metadata": {},
   "outputs": [
    {
     "name": "stdout",
     "output_type": "stream",
     "text": [
      "tensor([1, 2, 3])\n"
     ]
    }
   ],
   "source": [
    "#list to tensor\n",
    "x=torch.tensor([1,2,3])\n",
    "print(x)"
   ]
  },
  {
   "cell_type": "markdown",
   "id": "d4613a7a-b2b9-45ab-9407-7551473d79d8",
   "metadata": {},
   "source": [
    "# inplace addition and normal addition function_ ==inplace addition"
   ]
  },
  {
   "cell_type": "code",
   "execution_count": 6,
   "id": "672191e3-d843-402b-8519-f7f33f13999d",
   "metadata": {},
   "outputs": [
    {
     "name": "stdout",
     "output_type": "stream",
     "text": [
      "tensor([[0.5094, 1.5791],\n",
      "        [1.1223, 0.8544]])\n",
      "tensor([[0.2741, 0.6734],\n",
      "        [0.4963, 0.3880]]) tensor([[0.2353, 0.9056],\n",
      "        [0.6259, 0.4664]])\n"
     ]
    },
    {
     "data": {
      "text/plain": [
       "tensor([[0.5094, 1.5791],\n",
       "        [1.1223, 0.8544]])"
      ]
     },
     "execution_count": 6,
     "metadata": {},
     "output_type": "execute_result"
    }
   ],
   "source": [
    "x=torch.rand(2,2)\n",
    "y=torch.rand(2,2)\n",
    "z=x+y\n",
    "print(z)\n",
    "k=torch.add(x,y)\n",
    "print(x,y)\n",
    "y.add_(x)"
   ]
  },
  {
   "cell_type": "code",
   "execution_count": 7,
   "id": "1003144c-46dc-4435-816b-459f4cde7b4b",
   "metadata": {},
   "outputs": [
    {
     "data": {
      "text/plain": [
       "tensor([[0.1396, 1.0634],\n",
       "        [0.5570, 0.3315]])"
      ]
     },
     "execution_count": 7,
     "metadata": {},
     "output_type": "execute_result"
    }
   ],
   "source": [
    "y.mul_(x)\n"
   ]
  },
  {
   "cell_type": "code",
   "execution_count": 8,
   "id": "2091cd26-7583-4672-bd16-2561ead380bc",
   "metadata": {},
   "outputs": [
    {
     "data": {
      "text/plain": [
       "tensor([[0.5094, 1.5791],\n",
       "        [1.1223, 0.8544]])"
      ]
     },
     "execution_count": 8,
     "metadata": {},
     "output_type": "execute_result"
    }
   ],
   "source": [
    "y.div_(x)"
   ]
  },
  {
   "cell_type": "markdown",
   "id": "103ed52c-2d3a-4577-9b59-49fc674eee55",
   "metadata": {},
   "source": [
    "# slicing in tensor"
   ]
  },
  {
   "cell_type": "code",
   "execution_count": 9,
   "id": "2b715618-4344-4260-ab6d-aaa5c97ce59d",
   "metadata": {},
   "outputs": [
    {
     "name": "stdout",
     "output_type": "stream",
     "text": [
      "tensor([[0.4177, 0.9852, 0.5703],\n",
      "        [0.3191, 0.4471, 0.5847],\n",
      "        [0.1598, 0.0318, 0.1104],\n",
      "        [0.9747, 0.3608, 0.5784],\n",
      "        [0.2133, 0.5150, 0.9682]])\n",
      "tensor([0.4177, 0.3191, 0.1598, 0.9747, 0.2133])\n",
      "0.4176790714263916\n"
     ]
    }
   ],
   "source": [
    "x=torch.rand(5,3)\n",
    "print(x)\n",
    "print(x[:,0])\n",
    "print(x[0,0].item())\n"
   ]
  },
  {
   "cell_type": "markdown",
   "id": "36e72dfd-77bb-459d-a963-11f60634e109",
   "metadata": {},
   "source": [
    "# change in dinmesions"
   ]
  },
  {
   "cell_type": "code",
   "execution_count": 10,
   "id": "231b5faf-ed6c-4a91-8b01-03f8e3c7a19a",
   "metadata": {},
   "outputs": [
    {
     "name": "stdout",
     "output_type": "stream",
     "text": [
      "tensor([[0.7621, 0.7938, 0.7368, 0.7458],\n",
      "        [0.5594, 0.2966, 0.1729, 0.1712],\n",
      "        [0.3641, 0.9627, 0.2618, 0.9829],\n",
      "        [0.1013, 0.3541, 0.5086, 0.6506]])\n",
      "tensor([0.7621, 0.7938, 0.7368, 0.7458, 0.5594, 0.2966, 0.1729, 0.1712, 0.3641,\n",
      "        0.9627, 0.2618, 0.9829, 0.1013, 0.3541, 0.5086, 0.6506])\n",
      "tensor([[0.7621, 0.7938, 0.7368, 0.7458],\n",
      "        [0.5594, 0.2966, 0.1729, 0.1712],\n",
      "        [0.3641, 0.9627, 0.2618, 0.9829],\n",
      "        [0.1013, 0.3541, 0.5086, 0.6506]])\n",
      "torch.Size([16])\n",
      "torch.Size([4, 4])\n"
     ]
    }
   ],
   "source": [
    "x=torch.rand(4,4)\n",
    "print(x)\n",
    "y=x.view(16)\n",
    "print(y)\n",
    "z=x.view(-1,4)\n",
    "print(z)\n",
    "z1=x.view(16)\n",
    "print(z1.size())\n",
    "print(z.size())"
   ]
  },
  {
   "cell_type": "markdown",
   "id": "6880c103-fb02-49db-9044-1018eb7087de",
   "metadata": {},
   "source": [
    "# numpy to torch conversion adding to torch will reflect the changes to numpy array"
   ]
  },
  {
   "cell_type": "code",
   "execution_count": 11,
   "id": "66740584-2901-43f7-b32e-b095d4bc3d72",
   "metadata": {},
   "outputs": [
    {
     "name": "stdout",
     "output_type": "stream",
     "text": [
      "[1. 1. 1. 1.]\n",
      "<class 'numpy.ndarray'>\n",
      "tensor([3., 3., 3., 3.])\n",
      "[3. 3. 3. 3.]\n"
     ]
    }
   ],
   "source": [
    "import numpy as np\n",
    "a=torch.ones(4)\n",
    "b=a.numpy()\n",
    "print(b)\n",
    "print(type(b))\n",
    "a.add_(2)\n",
    "print(a)\n",
    "print(b)"
   ]
  },
  {
   "cell_type": "code",
   "execution_count": 12,
   "id": "8e98d938-94e2-4a46-a9b3-d0f61783b684",
   "metadata": {},
   "outputs": [
    {
     "name": "stdout",
     "output_type": "stream",
     "text": [
      "[[3]\n",
      " [3]]\n",
      "tensor([[1],\n",
      "        [1]], dtype=torch.int32)\n"
     ]
    }
   ],
   "source": [
    "l=np.array([[1],[1]])\n",
    "b1=torch.tensor(l)\n",
    "l+=2\n",
    "print(l)\n",
    "\n",
    "print(b1)"
   ]
  },
  {
   "cell_type": "code",
   "execution_count": 13,
   "id": "ab0424fb-bf38-47f2-be53-c74c76017103",
   "metadata": {},
   "outputs": [
    {
     "name": "stdout",
     "output_type": "stream",
     "text": [
      "[1. 1. 1. 1. 1.]\n",
      "[2. 2. 2. 2. 2.]\n",
      "tensor([2., 2., 2., 2., 2.], dtype=torch.float64)\n"
     ]
    },
    {
     "data": {
      "text/plain": [
       "tensor([[False, False, False, False, False],\n",
       "        [False, False, False, False, False]])"
      ]
     },
     "execution_count": 13,
     "metadata": {},
     "output_type": "execute_result"
    }
   ],
   "source": [
    "a=np.ones(5)\n",
    "print(a)\n",
    "b=torch.from_numpy(a)\n",
    "a+=1\n",
    "print(a)\n",
    "print(b)\n",
    "b1==b"
   ]
  },
  {
   "cell_type": "code",
   "execution_count": 14,
   "id": "6e564d62-3ec3-4816-b797-ec90e63a4816",
   "metadata": {},
   "outputs": [
    {
     "name": "stdout",
     "output_type": "stream",
     "text": [
      "True\n"
     ]
    }
   ],
   "source": [
    "print(torch.cuda.is_available())"
   ]
  },
  {
   "cell_type": "markdown",
   "id": "7b56794d-1077-4bbc-a843-df9de43ce4f3",
   "metadata": {},
   "source": [
    "# cannot convert gpu tensor to numpy.only cpu tensor can be converted to numpy"
   ]
  },
  {
   "cell_type": "code",
   "execution_count": 15,
   "id": "bdfa48c5-0657-4ce1-bb2e-17099f41d2f7",
   "metadata": {},
   "outputs": [
    {
     "name": "stdout",
     "output_type": "stream",
     "text": [
      "<class 'torch.Tensor'>\n"
     ]
    }
   ],
   "source": [
    "if torch.cuda.is_available():\n",
    "    device=torch.device(\"cuda\")\n",
    "    x=torch.ones(5,device=device)\n",
    "    y=torch.ones(5)\n",
    "    y=y.to(device)\n",
    "    z=x+y\n",
    "    z=z.to(\"cpu\")\n",
    "\n",
    "    z.numpy()\n",
    "    print(type(z))\n",
    "    # z.numpy()"
   ]
  },
  {
   "cell_type": "code",
   "execution_count": 16,
   "id": "26813830-7266-44dd-82c4-78cb24d06485",
   "metadata": {},
   "outputs": [],
   "source": [
    "x=torch.ones(5,requires_grad=True)\n",
    "## means later it requires gradient descent"
   ]
  },
  {
   "cell_type": "markdown",
   "id": "422758f5-37d6-4816-bba0-1830d5b3fc5e",
   "metadata": {},
   "source": [
    "# auto grad package"
   ]
  },
  {
   "cell_type": "code",
   "execution_count": 17,
   "id": "51e7da56-89f0-42b6-aee5-a67e679a5af0",
   "metadata": {},
   "outputs": [
    {
     "name": "stdout",
     "output_type": "stream",
     "text": [
      "tensor([0.8516, 0.4622, 0.4996], requires_grad=True)\n"
     ]
    }
   ],
   "source": [
    "x=torch.rand(3,requires_grad=True)\n",
    "print(x)"
   ]
  },
  {
   "cell_type": "markdown",
   "id": "d4055ee9-c308-4b5f-a5a3-4c90d77be58c",
   "metadata": {},
   "source": [
    "# as the requires_grad=true,y will add backward function with requires_grad alng with x"
   ]
  },
  {
   "cell_type": "code",
   "execution_count": 18,
   "id": "a88fdfce-df6f-4e0c-a11e-32ffa02d73f2",
   "metadata": {},
   "outputs": [
    {
     "name": "stdout",
     "output_type": "stream",
     "text": [
      "tensor([2.8516, 2.4622, 2.4996], grad_fn=<AddBackward0>)\n",
      "tensor([16.2629, 12.1246, 12.4962], grad_fn=<MulBackward0>)\n",
      "None\n",
      "tensor([16.2629, 12.1246, 12.4962], grad_fn=<MulBackward0>)\n",
      "tensor([0.1000, 1.0000, 0.0010])\n",
      "tensor([16.2629, 12.1246, 12.4962], grad_fn=<MulBackward0>)\n",
      "tensor([1.1406, 9.8487, 0.0100])\n"
     ]
    }
   ],
   "source": [
    "y=x+2\n",
    "print(y)\n",
    "z=y*y*2\n",
    "# z=z.mean()\n",
    "print(z)\n",
    "# z.backward()##dz/dx\n",
    "print(x.grad)\n",
    "print(z)\n",
    "##jacobian matrix=partial derivates*gradient functions will get the final gradient matrix\n",
    "\n",
    "# It is also called a chain rule\n",
    "# If gradient functions is a single-valued vector or scalar vector will work or error\n",
    "\n",
    "\n",
    "# without gradient descent\n",
    "v=torch.tensor([0.1,1.0,0.001], dtype=torch.float32)\n",
    "print(v)\n",
    "print(z)\n",
    "z.backward(v)#dz/dv\n",
    "print(x.grad)\n",
    "#(dz/dv)*(dv/dz)\n",
    "# if it is a scalar we dont need to argument for backward else we need to input backward "
   ]
  },
  {
   "cell_type": "code",
   "execution_count": 19,
   "id": "080adcf8-bda2-4808-a37f-e145fd5d38eb",
   "metadata": {},
   "outputs": [
    {
     "name": "stdout",
     "output_type": "stream",
     "text": [
      "tensor([0.1662, 0.7627, 0.9482], requires_grad=True)\n",
      "tensor([0.1662, 0.7627, 0.9482])\n",
      "tensor([2.1662, 2.7627, 2.9482])\n"
     ]
    }
   ],
   "source": [
    "# auto correct package where we need to update the tensor while looping ,\n",
    "# to prevent from tracking the gradient\n",
    "\n",
    "#x.requires_grad_(False)\n",
    "#x.detach()\n",
    "#with torch.no_grad():\n",
    "x1=torch.rand(3,requires_grad=True)\n",
    "print(x1)\n",
    "x1.requires_grad_(False)\n",
    "print(x1)\n",
    "y1=x1.detach()\n",
    "print(y1+2)\n",
    "\n"
   ]
  },
  {
   "cell_type": "code",
   "execution_count": 20,
   "id": "f556addf-2bf5-4317-9839-400ef203df7a",
   "metadata": {},
   "outputs": [],
   "source": [
    "# everytiem backward is called the grad variable will store the values and update it.\n",
    "#all values are sum up\n",
    "# we need to zero before training otherwise the old gradient values get calculated in training with loss of accuracy"
   ]
  },
  {
   "cell_type": "code",
   "execution_count": 21,
   "id": "007d23f6-c459-46b0-b23e-3425908c371c",
   "metadata": {},
   "outputs": [
    {
     "name": "stdout",
     "output_type": "stream",
     "text": [
      "tensor([3., 3., 3., 3.])\n",
      "tensor([3., 3., 3., 3.])\n"
     ]
    }
   ],
   "source": [
    "weight=torch.ones(4,requires_grad=True)\n",
    "for epoch in range(2):\n",
    "    model_output=(weight*3).sum()\n",
    "    model_output.backward()\n",
    "    print(weight.grad)\n",
    "    weight.grad.zero_()"
   ]
  },
  {
   "cell_type": "code",
   "execution_count": 22,
   "id": "c65d7ba2-d75e-4081-af12-b33ef081a46c",
   "metadata": {},
   "outputs": [],
   "source": [
    "# pytorch built in optmizer,SGD-stochastic gradient descent\n",
    "# weight=torch.ones(4,requires_grad=True)\n",
    "# w=np.ones(3)\n",
    "# print(type(weight))\n",
    "# optimizer=torch.optim.SGD(w,lr=0.01)\n",
    "# # optmizer.step()\n",
    "# # optimizer.zero_grad()\n",
    "\n"
   ]
  },
  {
   "cell_type": "markdown",
   "id": "6ce06779-6a81-4ed9-bcbb-41ac0171a31d",
   "metadata": {},
   "source": [
    "# backpropagation"
   ]
  },
  {
   "cell_type": "markdown",
   "id": "eba5396d-bc7c-43fa-9f51-73f136d69c91",
   "metadata": {},
   "source": [
    " # x--> a(x)--y--(y on x)-->b(y)--z--(z on y)-->\n",
    " ## chain rule: dz/dx=dz/dy*dy/dx\n",
    " # The chain rule in calculus states that for a composite function \\( f(g(x)) \\), the derivative of \\( f \\) with respect to \\( x \\) is given by the product of the derivative of \\( f \\) with respect to its inner function \\( g \\) and the derivative of \\( g \\) with respect to \\( x \\). Mathematically, it can be expressed as: \n",
    " \n",
    "\r\n",
    "\\[ \\frac{d}{dx} [f(g(x))] = \\frac{df}{dg} \\cdot \\frac{dg}{dx} \\]\r\n",
    "\r\n",
    "In the context of partial derivatives, for a multivariable function \\( z \\) depending on variables \\( v \\) and \\( x \\), the chain rule can be extended*/ as:\r\n",
    "\r\n",
    "\\[ \\frac{\\partial z}{\\partial x} = \\frac{\\partial z}{\\partial v} \\cdot \\frac{\\partial v}{\\partial x} \\]\r\n",
    "\r\n",
    "This rule is fundamental in understanding how changes in one variable propagate through a chain of dependent functions.\r\n",
    "ctions.\r\n",
    "ctions.\r\n"
   ]
  },
  {
   "cell_type": "markdown",
   "id": "91ba378e-a062-4ec6-83f8-ee1eaa95c6af",
   "metadata": {},
   "source": [
    "The chain rule in calculus states that for a composite function \\( f(g(x)) \\), the derivative of \\( f \\) with respect to \\( x \\) is given by the product of the derivative of \\( f \\) with respect to its inner function \\( g \\) and the derivative of \\( g \\) with respect to \\( x \\). Mathematically, it can be expressed as:\r\n",
    "\r\n",
    "\\[ \\frac{d}{dx} [f(g(x))] = \\frac{df}{dg} \\cdot \\frac{dg}{dx} \\]\r\n",
    "\r\n",
    "In the context of partial derivatives, for a multivariable function \\( z \\) depending on variables \\( v \\) and \\( x \\), the chain rule can be extended as:\r\n",
    "\r\n",
    "\\[ \\frac{\\partial z}{\\partial x} = \\frac{\\partial z}{\\partial v} \\cdot \\frac{\\partial v}{\\partial x} \\]\r\n",
    "\r\n",
    "This rule is fundamental in understanding how changes in one variable propagate through a chain of dependent functions.\r\n"
   ]
  },
  {
   "cell_type": "markdown",
   "id": "8ee85f2f-2e2b-4e38-b450-a6e6c55595d7",
   "metadata": {},
   "source": [
    "# computational graph"
   ]
  },
  {
   "cell_type": "markdown",
   "id": "599cff04-b566-4fc7-bcac-6b8c70cb7989",
   "metadata": {},
   "source": [
    "# local gradients:\n",
    "# dz/dx=dx*y/dx=y\n",
    "# dz/dy=dy*x/dy=x"
   ]
  },
  {
   "cell_type": "markdown",
   "id": "dfa143eb-a591-4438-b5d4-ee05b0aee19f",
   "metadata": {},
   "source": [
    "## we need to calculate loss function of the gradient\n",
    "### chain rule for d loss/dx=d loss/dz*dz/dx\n",
    "\n",
    "### Forward pass :compute loss\n",
    "### compute local gradients\n",
    "### backward pass: compute dloss/dweights using chain rule"
   ]
  },
  {
   "cell_type": "markdown",
   "id": "a9d0efc6-2ba6-43eb-8d0c-017b67ad25d7",
   "metadata": {},
   "source": [
    "### lineaar regrssion modal:loss=(y bar -y)**2 =(wx-y)**2"
   ]
  },
  {
   "cell_type": "code",
   "execution_count": 23,
   "id": "3311e417-60bd-47cb-82b3-2b288df322bc",
   "metadata": {},
   "outputs": [
    {
     "name": "stdout",
     "output_type": "stream",
     "text": [
      "tensor(1.) tensor(2.) tensor(1., requires_grad=True)\n",
      "tensor(1., grad_fn=<MulBackward0>)\n",
      "tensor(1., grad_fn=<PowBackward0>)\n",
      "tensor(-2.)\n"
     ]
    }
   ],
   "source": [
    "#eg\n",
    "x=torch.tensor(1.0)\n",
    "y=torch.tensor(2.0)\n",
    "w=torch.tensor(1.0,requires_grad=True)\n",
    "print(x,y,w)\n",
    "# forward pass and compute loss\n",
    "y_hat=w*x\n",
    "print(y_hat)\n",
    "loss=(y_hat-y)**2\n",
    "print(loss)\n",
    "## backward pass\n",
    "loss.backward()\n",
    "print(w.grad)\n",
    "\n"
   ]
  },
  {
   "cell_type": "code",
   "execution_count": 24,
   "id": "7a4be2a7-c835-4ad1-ad66-425bb1be27ee",
   "metadata": {},
   "outputs": [],
   "source": [
    "## update weight and next forward\n",
    "\n",
    "# gradient descent using autograd"
   ]
  },
  {
   "cell_type": "markdown",
   "id": "41fcb134-6fb4-4a61-8c68-82ac0e427e0c",
   "metadata": {},
   "source": [
    "# linear regression from scratch numpy"
   ]
  },
  {
   "cell_type": "code",
   "execution_count": 25,
   "id": "cf3a17a0-661d-48d1-a1ba-1e02916e6a2f",
   "metadata": {},
   "outputs": [
    {
     "name": "stdout",
     "output_type": "stream",
     "text": [
      "Prediction before training: f(5) = 0.000\n",
      "epoch 1: w = 1.200, loss = 30.00000000\n",
      "epoch 2: w = 1.680, loss = 4.79999924\n",
      "epoch 3: w = 1.872, loss = 0.76800019\n",
      "epoch 4: w = 1.949, loss = 0.12288000\n",
      "epoch 5: w = 1.980, loss = 0.01966083\n",
      "epoch 6: w = 1.992, loss = 0.00314570\n",
      "epoch 7: w = 1.997, loss = 0.00050332\n",
      "epoch 8: w = 1.999, loss = 0.00008053\n",
      "epoch 9: w = 1.999, loss = 0.00001288\n",
      "epoch 10: w = 2.000, loss = 0.00000206\n",
      "epoch 11: w = 2.000, loss = 0.00000033\n",
      "epoch 12: w = 2.000, loss = 0.00000005\n",
      "epoch 13: w = 2.000, loss = 0.00000001\n",
      "epoch 14: w = 2.000, loss = 0.00000000\n",
      "epoch 15: w = 2.000, loss = 0.00000000\n",
      "epoch 16: w = 2.000, loss = 0.00000000\n",
      "epoch 17: w = 2.000, loss = 0.00000000\n",
      "epoch 18: w = 2.000, loss = 0.00000000\n",
      "epoch 19: w = 2.000, loss = 0.00000000\n",
      "epoch 20: w = 2.000, loss = 0.00000000\n",
      "Prediction after training: f(5) = 10.000\n"
     ]
    }
   ],
   "source": [
    "import numpy as np\n",
    "\n",
    "# linear regression\n",
    "# f = 2 * x\n",
    "X = np.array([1,2,3,4], dtype=np.float32)\n",
    "Y = np.array([2,4,6,8], dtype=np.float32)\n",
    "\n",
    "w = 0.0\n",
    "\n",
    "# model prediction\n",
    "def forward(x):\n",
    "    return w * x\n",
    "\n",
    "# loss = mean squared error (MSE)\n",
    "def loss(y, y_predicted):\n",
    "    return ((y_predicted-y)**2).mean()\n",
    "\n",
    "# gradient\n",
    "\n",
    "# MSE = 1/N * (w*x - y)**2\n",
    "# dJ/dw = 1/N 2x (w*x - y)\n",
    "def gradient(x,y,y_predicted):\n",
    "    return np.dot(2*x, y_predicted-y).mean()\n",
    "\n",
    "print(f'Prediction before training: f(5) = {forward(5):.3f}')\n",
    "\n",
    "#training\n",
    "learning_rate = 0.01\n",
    "n_iters = 20\n",
    "\n",
    "for epoch in range(n_iters):\n",
    "    #prediction = forward pass\n",
    "    y_pred = forward(X)\n",
    "\n",
    "    #loss\n",
    "    l = loss(Y, y_pred)\n",
    "\n",
    "    #Gradients\n",
    "    dw = gradient(X,Y,y_pred)\n",
    "\n",
    "    #Update weights\n",
    "    w -= learning_rate * dw\n",
    "#%1 1 represent step\n",
    "    if epoch % 1 == 0:\n",
    "        print(f'epoch {epoch+1}: w = {w:.3f}, loss = {l:.8f}')\n",
    "\n",
    "print(f'Prediction after training: f(5) = {forward(5):.3f}')"
   ]
  },
  {
   "cell_type": "markdown",
   "id": "0949deaf-5669-45ed-ac48-716615477fab",
   "metadata": {},
   "source": [
    "# linear regression from scratch pytorch"
   ]
  },
  {
   "cell_type": "code",
   "execution_count": 26,
   "id": "04c08776-dcbb-4f38-b2da-23b9c8c4c455",
   "metadata": {},
   "outputs": [
    {
     "name": "stdout",
     "output_type": "stream",
     "text": [
      "Prediction before training: f(5) = 0.000\n",
      "epoch 1: w = 0.300, loss = 30.00000000\n",
      "epoch 11: w = 1.665, loss = 1.16278565\n",
      "epoch 21: w = 1.934, loss = 0.04506890\n",
      "epoch 31: w = 1.987, loss = 0.00174685\n",
      "epoch 41: w = 1.997, loss = 0.00006770\n",
      "epoch 51: w = 1.999, loss = 0.00000262\n",
      "epoch 61: w = 2.000, loss = 0.00000010\n",
      "epoch 71: w = 2.000, loss = 0.00000000\n",
      "epoch 81: w = 2.000, loss = 0.00000000\n",
      "epoch 91: w = 2.000, loss = 0.00000000\n",
      "Prediction after training: f(5) = 10.000\n"
     ]
    }
   ],
   "source": [
    "import torch\n",
    "\n",
    "# linear regression\n",
    "# f = 2 * x\n",
    "X = torch.tensor([1,2,3,4], dtype=torch.float32)\n",
    "Y = torch.tensor([2,4,6,8], dtype=torch.float32)\n",
    "\n",
    "# w = 0.0\n",
    "w=torch.tensor(0.0,dtype=torch.float32,requires_grad=True)\n",
    "\n",
    "# model prediction\n",
    "def forward(x):\n",
    "    return w * x\n",
    "\n",
    "# loss = mean squared error (MSE)\n",
    "def loss(y, y_predicted):\n",
    "    return ((y_predicted-y)**2).mean()\n",
    "\n",
    "# gradient\n",
    "\n",
    "# MSE = 1/N * (w*x - y)**2\n",
    "# dJ/dw = 1/N 2x (w*x - y)\n",
    "# def gradient(x,y,y_predicted):\n",
    "#     return np.dot(2*x, y_predicted-y).mean()\n",
    "\n",
    "print(f'Prediction before training: f(5) = {forward(5):.3f}')\n",
    "\n",
    "#training\n",
    "learning_rate = 0.01\n",
    "n_iters = 100\n",
    "\n",
    "for epoch in range(n_iters):\n",
    "    #prediction = forward pass\n",
    "    y_pred = forward(X)\n",
    "\n",
    "    #loss\n",
    "    l = loss(Y, y_pred)\n",
    "\n",
    "    #Gradients\n",
    "    # dw = gradient(X,Y,y_pred)\n",
    "    l.backward() #dl/dw\n",
    "    with torch.no_grad():\n",
    "        w-=learning_rate*w.grad\n",
    "    \n",
    "\n",
    "    #zero gradient if not accumilate into gradient weights\n",
    "    w.grad.zero_()\n",
    "\n",
    "    #Update weights\n",
    "    # w -= learning_rate * dw\n",
    "#%1 1 represent step\n",
    "    if epoch % 10 == 0:\n",
    "        print(f'epoch {epoch+1}: w = {w:.3f}, loss = {l:.8f}')\n",
    "\n",
    "print(f'Prediction after training: f(5) = {forward(5):.3f}')"
   ]
  },
  {
   "cell_type": "markdown",
   "id": "404b00eb-433a-4f7d-b1e8-8ebcfaac0983",
   "metadata": {},
   "source": [
    "# training pipeline model/loss/optmizer"
   ]
  },
  {
   "cell_type": "code",
   "execution_count": 27,
   "id": "07455f10-0f1a-4cf2-a42e-6e64978689ff",
   "metadata": {},
   "outputs": [
    {
     "name": "stdout",
     "output_type": "stream",
     "text": [
      "4 1\n",
      "Prediction before training: f(5) = -1.309\n",
      "tensor([5.])\n",
      "tensor([-1.3089], grad_fn=<ViewBackward0>)\n",
      "epoch 1:w=0.018, loss = 37.17159653\n",
      "epoch 11:w=1.421, loss = 1.09896004\n",
      "epoch 21:w=1.655, loss = 0.15768743\n",
      "epoch 31:w=1.700, loss = 0.12581109\n",
      "epoch 41:w=1.714, loss = 0.11790098\n",
      "epoch 51:w=1.723, loss = 0.11102334\n",
      "epoch 61:w=1.732, loss = 0.10456075\n",
      "epoch 71:w=1.740, loss = 0.09847481\n",
      "epoch 81:w=1.747, loss = 0.09274311\n",
      "epoch 91:w=1.755, loss = 0.08734493\n",
      "Prediction after training: f(5) = 9.508\n"
     ]
    }
   ],
   "source": [
    "# 1) design model(ip,op size,forward pass)\n",
    "#2) construct loss and optmizer\n",
    "# 3 training loop\n",
    "# forward pass: computer prediction\n",
    "# backward pass:gradients\n",
    "# -update weights\n",
    "\n",
    "import torch \n",
    "import torch.nn as nn\n",
    "\n",
    "\n",
    "# linear regression\n",
    "# f = 2 * x\n",
    "X = torch.tensor([[1],[2],[3],[4]], dtype=torch.float32)\n",
    "Y = torch.tensor([[2],[4],[6],[8]], dtype=torch.float32)\n",
    "X_test=torch.tensor([5],dtype=torch.float32)\n",
    "\n",
    "# w = 0.0\n",
    "# w=torch.tensor(0.0,dtype=torch.float32,requires_grad=True)\n",
    "# model knows the parameter \n",
    "n_samples,n_features=X.shape\n",
    "print(n_samples,n_features)\n",
    "input_size=n_features\n",
    "output_size=n_features\n",
    "model=nn.Linear(input_size,output_size)\n",
    "\n",
    "# model prediction\n",
    "# def forward(x):\n",
    "#     return w * x\n",
    "\n",
    "\n",
    "\n",
    "\n",
    "# loss = mean squared error (MSE)\n",
    "# def loss(y, y_predicted):\n",
    "#     return ((y_predicted-y)**2).mean()\n",
    "loss=nn.MSELoss()\n",
    "# optimizer=torch.optim.SGD([w],lr=learning_rate)\n",
    "# optimizer=torch.optim.SGD(model.parameters(),lr=learning_rate)\n",
    "# print(X_test)\n",
    "# print(model(X_test))\n",
    "\n",
    "# gradient\n",
    "\n",
    "# MSE = 1/N * (w*x - y)**2\n",
    "# dJ/dw = 1/N 2x (w*x - y)\n",
    "# def gradient(x,y,y_predicted):\n",
    "#     return np.dot(2*x, y_predicted-y).mean()\n",
    "\n",
    "# print(f'Prediction before training: f(5) = {forward(5):.3f}')\n",
    "print(f'Prediction before training: f(5) = {model(X_test).item():.3f}')\n",
    "optimizer=torch.optim.SGD(model.parameters(),lr=learning_rate)\n",
    "print(X_test)\n",
    "print(model(X_test))\n",
    "#training\n",
    "learning_rate = 0.01\n",
    "n_iters = 100\n",
    "\n",
    "for epoch in range(n_iters):\n",
    "    #prediction = forward pass\n",
    "    # y_pred = forward(X)\n",
    "    y_pred=model(X)\n",
    "\n",
    "    #loss\n",
    "    l = loss(Y, y_pred)\n",
    "\n",
    "    #Gradients\n",
    "    # dw = gradient(X,Y,y_pred)\n",
    "    l.backward() #dl/dw\n",
    "    # with torch.no_grad():\n",
    "    #     w-=learning_rate*w.grad\n",
    "    optimizer.step()\n",
    "    optimizer.zero_grad()\n",
    "    \n",
    "    \n",
    "\n",
    "    #zero gradient if not accumilate into gradient weights\n",
    "    # w.grad.zero_()\n",
    "\n",
    "    #Update weights\n",
    "    # w -= learning_rate * dw\n",
    "#%1 1 represent step\n",
    "    if epoch % 10 == 0:\n",
    "        # unpacking weights and bias\n",
    "        [w,b]=model.parameters()\n",
    "        print(f'epoch {epoch+1}:w={w[0][0]:.3f}, loss = {l:.8f}')\n",
    "        \n",
    "        # print(f'epoch {epoch+1}: w = {w:.3f}, loss = {l:.8f}')\n",
    "\n",
    "# print(f'Prediction after training: f(5) = {forward(5):.3f}')\n",
    "print(f'Prediction after training: f(5) = {model(X_test).item():.3f}')\n",
    "\n",
    "\n"
   ]
  },
  {
   "cell_type": "markdown",
   "id": "2e05f7be-83f7-4ff9-bce0-0591b00991dc",
   "metadata": {},
   "source": [
    "# custom linear regression model"
   ]
  },
  {
   "cell_type": "code",
   "execution_count": 28,
   "id": "784d716c-5632-4a00-afe4-56783039662b",
   "metadata": {},
   "outputs": [
    {
     "name": "stdout",
     "output_type": "stream",
     "text": [
      "4 1\n",
      "Prediction before training: f(5) = -1.093\n",
      "tensor([5.])\n",
      "tensor([-1.0928], grad_fn=<ViewBackward0>)\n",
      "epoch 1:w=0.289, loss = 40.62024307\n",
      "epoch 11:w=1.747, loss = 1.05198038\n",
      "epoch 21:w=1.981, loss = 0.02819544\n",
      "epoch 31:w=2.018, loss = 0.00165074\n",
      "epoch 41:w=2.024, loss = 0.00091035\n",
      "epoch 51:w=2.024, loss = 0.00084070\n",
      "epoch 61:w=2.023, loss = 0.00079133\n",
      "epoch 71:w=2.023, loss = 0.00074526\n",
      "epoch 81:w=2.022, loss = 0.00070187\n",
      "epoch 91:w=2.021, loss = 0.00066103\n",
      "Prediction after training: f(5) = 10.043\n"
     ]
    }
   ],
   "source": [
    "# 1) design model(ip,op size,forward pass)\n",
    "#2) construct loss and optmizer\n",
    "# 3 training loop\n",
    "# forward pass: computer prediction\n",
    "# backward pass:gradients\n",
    "# -update weights\n",
    "\n",
    "import torch \n",
    "import torch.nn as nn\n",
    "\n",
    "\n",
    "# linear regression\n",
    "# f = 2 * x\n",
    "X = torch.tensor([[1],[2],[3],[4]], dtype=torch.float32)\n",
    "Y = torch.tensor([[2],[4],[6],[8]], dtype=torch.float32)\n",
    "X_test=torch.tensor([5],dtype=torch.float32)\n",
    "\n",
    "# w = 0.0\n",
    "# w=torch.tensor(0.0,dtype=torch.float32,requires_grad=True)\n",
    "# model knows the parameter \n",
    "n_samples,n_features=X.shape\n",
    "print(n_samples,n_features)\n",
    "input_size=n_features\n",
    "output_size=n_features\n",
    "# model=nn.Linear(input_size,output_size)\n",
    "\n",
    "class LinearRegression(nn.Module):\n",
    "    def __init__(self,input_dim,output_dim):\n",
    "        super(LinearRegression,self).__init__()\n",
    "        #define layer\n",
    "        self.lin=nn.Linear(input_dim,output_dim)\n",
    "    def forward(self,x):\n",
    "        return self.lin(x)\n",
    "        \n",
    "model=LinearRegression(input_size,output_size)\n",
    "        \n",
    "\n",
    "# model prediction\n",
    "# def forward(x):\n",
    "#     return w * x\n",
    "\n",
    "\n",
    "\n",
    "\n",
    "# loss = mean squared error (MSE)\n",
    "# def loss(y, y_predicted):\n",
    "#     return ((y_predicted-y)**2).mean()\n",
    "loss=nn.MSELoss()\n",
    "# optimizer=torch.optim.SGD([w],lr=learning_rate)\n",
    "# optimizer=torch.optim.SGD(model.parameters(),lr=learning_rate)\n",
    "# print(X_test)\n",
    "# print(model(X_test))\n",
    "\n",
    "# gradient\n",
    "\n",
    "# MSE = 1/N * (w*x - y)**2\n",
    "# dJ/dw = 1/N 2x (w*x - y)\n",
    "# def gradient(x,y,y_predicted):\n",
    "#     return np.dot(2*x, y_predicted-y).mean()\n",
    "\n",
    "# print(f'Prediction before training: f(5) = {forward(5):.3f}')\n",
    "print(f'Prediction before training: f(5) = {model(X_test).item():.3f}')\n",
    "optimizer=torch.optim.SGD(model.parameters(),lr=learning_rate)\n",
    "print(X_test)\n",
    "print(model(X_test))\n",
    "#training\n",
    "learning_rate = 0.01\n",
    "n_iters = 100\n",
    "\n",
    "for epoch in range(n_iters):\n",
    "    #prediction = forward pass\n",
    "    # y_pred = forward(X)\n",
    "    y_pred=model(X)\n",
    "\n",
    "    #loss\n",
    "    l = loss(Y, y_pred)\n",
    "\n",
    "    #Gradients\n",
    "    # dw = gradient(X,Y,y_pred)\n",
    "    l.backward() #dl/dw\n",
    "    # with torch.no_grad():\n",
    "    #     w-=learning_rate*w.grad\n",
    "    optimizer.step()\n",
    "    optimizer.zero_grad()\n",
    "    \n",
    "    \n",
    "\n",
    "    #zero gradient if not accumilate into gradient weights\n",
    "    # w.grad.zero_()\n",
    "\n",
    "    #Update weights\n",
    "    # w -= learning_rate * dw\n",
    "#%1 1 represent step\n",
    "    if epoch % 10 == 0:\n",
    "        # unpacking weights and bias\n",
    "        [w,b]=model.parameters()\n",
    "        print(f'epoch {epoch+1}:w={w[0][0]:.3f}, loss = {l:.8f}')\n",
    "        \n",
    "        # print(f'epoch {epoch+1}: w = {w:.3f}, loss = {l:.8f}')\n",
    "\n",
    "# print(f'Prediction after training: f(5) = {forward(5):.3f}')\n",
    "print(f'Prediction after training: f(5) = {model(X_test).item():.3f}')\n",
    "\n",
    "\n"
   ]
  },
  {
   "cell_type": "markdown",
   "id": "3b99d2dc-44d5-4f9c-b5e7-17017935ea37",
   "metadata": {},
   "source": [
    "# linear regression"
   ]
  },
  {
   "cell_type": "code",
   "execution_count": 29,
   "id": "714c8662-784e-48b8-8b42-bc8ccc4ca0f8",
   "metadata": {},
   "outputs": [],
   "source": [
    "import torch\n",
    "import torch.nn as nn\n",
    "\n",
    "import numpy as np\n",
    "from sklearn import datasets\n",
    "import matplotlib.pyplot as plt\n"
   ]
  },
  {
   "cell_type": "markdown",
   "id": "c2b0bd8d-1302-4588-bcc0-43565b65d85b",
   "metadata": {},
   "source": [
    "# prepare data"
   ]
  },
  {
   "cell_type": "code",
   "execution_count": 30,
   "id": "8f9f1c04-090b-41b2-b354-71f29eb6546b",
   "metadata": {},
   "outputs": [
    {
     "name": "stdout",
     "output_type": "stream",
     "text": [
      "<class 'numpy.ndarray'>\n"
     ]
    }
   ],
   "source": [
    "X_numpy,Y_numpy=datasets.make_regression(n_samples=100,n_features=1,noise=20,random_state=1)\n",
    "\n",
    "# X_numpy=numpy()\n",
    "# Y_numpy=np.arr(Y_numpy)\n",
    "print(type(X_numpy))\n",
    "X=torch.from_numpy(X_numpy.astype(np.float32))\n",
    "Y=torch.from_numpy(Y_numpy.astype(np.float32))\n",
    "\n",
    "y=Y.view(Y.shape[0],1)\n",
    "n_samples,n_features=X.shape\n",
    "# 1) model 1\n"
   ]
  },
  {
   "cell_type": "code",
   "execution_count": null,
   "id": "836f6998-c894-4a09-9ac1-7e96465e5b99",
   "metadata": {},
   "outputs": [],
   "source": []
  },
  {
   "cell_type": "code",
   "execution_count": null,
   "id": "42261d98-c333-463e-87f1-509e7c24b04e",
   "metadata": {},
   "outputs": [],
   "source": []
  },
  {
   "cell_type": "markdown",
   "id": "e2fcdecd-7571-4cc7-8565-817d5ad9767a",
   "metadata": {},
   "source": [
    "# model"
   ]
  },
  {
   "cell_type": "code",
   "execution_count": 31,
   "id": "e581a38d-6647-474c-98c8-984d58f69f81",
   "metadata": {},
   "outputs": [],
   "source": [
    "input_size=n_features\n",
    "output_size=1\n",
    "model=nn.Linear(input_size,output_size)\n"
   ]
  },
  {
   "cell_type": "code",
   "execution_count": null,
   "id": "efeac47c-fdcd-42a5-a02d-30b4ab1ff7e4",
   "metadata": {},
   "outputs": [],
   "source": []
  },
  {
   "cell_type": "code",
   "execution_count": null,
   "id": "846ca57a-7fa7-4cf1-bee8-265f3956a96f",
   "metadata": {},
   "outputs": [],
   "source": []
  },
  {
   "cell_type": "code",
   "execution_count": null,
   "id": "1f61ec0c-5884-41e0-9a6c-a9b028a73ece",
   "metadata": {},
   "outputs": [],
   "source": []
  },
  {
   "cell_type": "markdown",
   "id": "87cebd69-cf62-4694-9345-28e7960bf8bf",
   "metadata": {},
   "source": [
    "# loss & optimizer"
   ]
  },
  {
   "cell_type": "code",
   "execution_count": 32,
   "id": "d9510526-8dbb-4e16-b745-7a5042cb25b6",
   "metadata": {},
   "outputs": [],
   "source": [
    "learning_rate=0.01\n",
    "criterion=nn.MSELoss()\n",
    "optimizer=torch.optim.SGD(model.parameters(),lr=learning_rate)"
   ]
  },
  {
   "cell_type": "code",
   "execution_count": null,
   "id": "c3d1bf65-a1ee-407b-8c8a-d87c3b1a26b5",
   "metadata": {},
   "outputs": [],
   "source": []
  },
  {
   "cell_type": "code",
   "execution_count": null,
   "id": "cab1c69b-39e6-4d81-895c-51441626a857",
   "metadata": {},
   "outputs": [],
   "source": []
  },
  {
   "cell_type": "code",
   "execution_count": null,
   "id": "59ceae69-89b4-4298-8838-630190fa21f4",
   "metadata": {},
   "outputs": [],
   "source": []
  },
  {
   "cell_type": "markdown",
   "id": "f03d3fbb-2949-4cc0-a6ce-acfbe98bbe22",
   "metadata": {},
   "source": [
    "# training loop"
   ]
  },
  {
   "cell_type": "code",
   "execution_count": 33,
   "id": "ad3f9d8e-5e40-4970-b498-dbc1bed6683f",
   "metadata": {},
   "outputs": [
    {
     "name": "stdout",
     "output_type": "stream",
     "text": [
      "epoch:10,loss=4379.3813\n",
      "epoch:20,loss=3268.0212\n",
      "epoch:30,loss=2463.7412\n",
      "epoch:40,loss=1881.0789\n",
      "epoch:50,loss=1458.5557\n",
      "epoch:60,loss=1151.8824\n",
      "epoch:70,loss=929.1100\n",
      "epoch:80,loss=767.1602\n",
      "epoch:90,loss=649.3438\n",
      "epoch:100,loss=563.5790\n"
     ]
    },
    {
     "data": {
      "image/png": "[encoded data removed]",
      "text/plain": [
       "<Figure size 640x480 with 1 Axes>"
      ]
     },
     "metadata": {},
     "output_type": "display_data"
    }
   ],
   "source": [
    "no_epoch=100\n",
    "for epoch in range(no_epoch):\n",
    "    # forward pass and loss\n",
    "    y_pred=model(X)\n",
    "    loss=criterion(y_pred,y)\n",
    "    # backward pass-calculate the gradient descent\n",
    "    loss.backward()\n",
    "    # update the  weights  step\n",
    "    optimizer.step()\n",
    "    #zero the backward trainig model\n",
    "    optimizer.zero_grad()\n",
    "    if(epoch+1)%10==0:\n",
    "        print(f'epoch:{epoch+1},loss={loss.item():.4f}')\n",
    "# plot\n",
    "predict=model(X).detach().numpy()\n",
    "plt.plot(X_numpy,Y_numpy,'ro')\n",
    "plt.plot(X_numpy,predict,'b')\n",
    "plt.show()\n",
    "    \n",
    "\n",
    "    \n",
    "    "
   ]
  },
  {
   "cell_type": "markdown",
   "id": "c1c78f0b-f224-4ae7-892b-f027d26a2114",
   "metadata": {},
   "source": [
    "# Logistic Regression"
   ]
  },
  {
   "cell_type": "code",
   "execution_count": 34,
   "id": "61c2902e-f31b-4a6f-a241-1e6d04e941b9",
   "metadata": {},
   "outputs": [],
   "source": [
    "import torch\n",
    "import torch.nn as nn\n",
    "\n",
    "import numpy as np\n",
    "from sklearn import datasets\n",
    "from sklearn.preprocessing import StandardScaler\n",
    "from sklearn.model_selection import train_test_split\n",
    "import matplotlib.pyplot as plt\n"
   ]
  },
  {
   "cell_type": "markdown",
   "id": "0ce6ca0c-7bf1-4823-9577-225bb5588516",
   "metadata": {},
   "source": [
    "# prepare data"
   ]
  },
  {
   "cell_type": "code",
   "execution_count": 35,
   "id": "ede3a8a5-b9d3-439d-a6fe-0098ca051695",
   "metadata": {},
   "outputs": [
    {
     "name": "stdout",
     "output_type": "stream",
     "text": [
      "569 30\n"
     ]
    }
   ],
   "source": [
    "# binary classification data from sklearn\n",
    "\n",
    "bc=datasets.load_breast_cancer()\n",
    "X,Y=bc.data,bc.target\n",
    "n_samples,n_features=X.shape\n",
    "print(n_samples,n_features)"
   ]
  },
  {
   "cell_type": "code",
   "execution_count": 36,
   "id": "cf57ac7b-56a0-4f5e-a188-3a3f614e6dda",
   "metadata": {},
   "outputs": [],
   "source": [
    "X_train,X_test,Y_train,Y_test=train_test_split(X,Y,test_size=0.2,random_state=1234)\n",
    "#scale the feature\n",
    "#zero mean and unit variance\n",
    "#always recommended for logistic regression standard scaler\n",
    "sc=StandardScaler()\n",
    "X_train=sc.fit_transform(X_train)\n",
    "X_test=sc.transform(X_test)\n",
    "# coverting to tensor\n",
    "X_train =torch.from_numpy(X_train.astype(np.float32))\n",
    "X_test =torch.from_numpy(X_test.astype(np.float32))\n",
    "Y_train =torch.from_numpy(Y_train.astype(np.float32))\n",
    "Y_test =torch.from_numpy(Y_test.astype(np.float32))\n",
    "# resize to Y_train to columnumar\n",
    "Y_train=Y_train.view(Y_train.shape[0],1)\n",
    "Y_test=Y_test.view(Y_test.shape[0],1)"
   ]
  },
  {
   "cell_type": "code",
   "execution_count": null,
   "id": "250420bc-4d53-4551-b270-446720a6273e",
   "metadata": {},
   "outputs": [],
   "source": []
  },
  {
   "cell_type": "code",
   "execution_count": null,
   "id": "53521c60-12bb-4a56-8645-ff33e5d77256",
   "metadata": {},
   "outputs": [],
   "source": []
  },
  {
   "cell_type": "code",
   "execution_count": null,
   "id": "4af42e67-ff10-4ce7-a3ae-38f27e2bea6a",
   "metadata": {},
   "outputs": [],
   "source": []
  },
  {
   "cell_type": "code",
   "execution_count": null,
   "id": "3725e27b-3f46-4a0d-9f7e-8d305f8a798f",
   "metadata": {},
   "outputs": [],
   "source": []
  },
  {
   "cell_type": "markdown",
   "id": "801582cb-fd0f-4df3-ab99-83a5fea7a053",
   "metadata": {},
   "source": [
    "# model"
   ]
  },
  {
   "cell_type": "code",
   "execution_count": 37,
   "id": "2b3ba9a9-85b4-40e4-8993-652f3889dad6",
   "metadata": {},
   "outputs": [],
   "source": [
    "# f=wx+b,(weiights and bais, sigmod at the end\n",
    "class LogisticRegression(nn.Module):\n",
    "    def __init__(self,n_input_features):\n",
    "        super(LogisticRegression,self).__init__()\n",
    "        # required only one op\n",
    "        self.linear=nn.Linear(n_input_features,1)\n",
    "    def forward(self,x):\n",
    "        Y_predict=torch.sigmoid(self.linear(x))\n",
    "        return Y_predict\n",
    "model=LogisticRegression(n_features)\n"
   ]
  },
  {
   "cell_type": "code",
   "execution_count": null,
   "id": "0bb95f03-80b8-4b98-b3a4-b0248044f498",
   "metadata": {},
   "outputs": [],
   "source": []
  },
  {
   "cell_type": "markdown",
   "id": "70d92d7b-64de-4ac6-b9c5-06fa7fd6daba",
   "metadata": {},
   "source": [
    "# loss and optmizer"
   ]
  },
  {
   "cell_type": "code",
   "execution_count": 38,
   "id": "121f7a14-0648-484e-bade-e95e816193f0",
   "metadata": {},
   "outputs": [],
   "source": [
    "criterian=nn.BCELoss()\n",
    "learning_rate=0.01\n",
    "optmizer=torch.optim.SGD(model.parameters(),lr=learning_rate)\n"
   ]
  },
  {
   "cell_type": "code",
   "execution_count": null,
   "id": "16736a1c-84f7-4586-adbe-f1f58686da14",
   "metadata": {},
   "outputs": [],
   "source": []
  },
  {
   "cell_type": "markdown",
   "id": "b7e7d423-5a10-4882-8145-4d252962a6ea",
   "metadata": {},
   "source": [
    "# training loop"
   ]
  },
  {
   "cell_type": "code",
   "execution_count": 39,
   "id": "a904c474-79b6-466d-9cea-438684859fdd",
   "metadata": {},
   "outputs": [
    {
     "name": "stdout",
     "output_type": "stream",
     "text": [
      "epoch:10,loss=0.1238\n",
      "epoch:20,loss=0.0456\n",
      "epoch:30,loss=0.0369\n",
      "epoch:40,loss=0.0350\n",
      "epoch:50,loss=0.0335\n",
      "epoch:60,loss=0.0320\n",
      "epoch:70,loss=0.0304\n",
      "epoch:80,loss=0.0289\n",
      "epoch:90,loss=0.0276\n",
      "epoch:100,loss=0.0264\n",
      "accuracy=0.9123\n"
     ]
    }
   ],
   "source": [
    "nu_of_epochs=100\n",
    "for epoch in range(nu_of_epochs):\n",
    "    y_predict=model(X_train)\n",
    "    loss=criterion(y_predict,Y_train)\n",
    "\n",
    "    loss.backward()\n",
    "\n",
    "    optmizer.step()\n",
    "\n",
    "    optimizer.zero_grad()\n",
    "    if(epoch+1) %10==0:\n",
    "        print(f'epoch:{epoch+1},loss={loss.item():.4f}')\n",
    "# without continuing the computation graph wi the training model doing prediction\n",
    "with torch.no_grad():\n",
    "    y_predict=model(X_test)\n",
    "    y_predict_cls=y_predict.round()\n",
    "    acc=y_predict_cls.eq(Y_test).sum()/float(Y_test.shape[0])\n",
    "    print(f'accuracy={acc:.4f}')\n",
    "    "
   ]
  },
  {
   "cell_type": "markdown",
   "id": "7d0f58fc-d140-497b-a914-0ebb5b0c365c",
   "metadata": {},
   "source": [
    "# Dataset & DataLoader"
   ]
  },
  {
   "cell_type": "markdown",
   "id": "4d99adde-b432-4a01-bb2a-85023078647f",
   "metadata": {},
   "source": [
    "- epoch =1 forward and backward pass of ALL training samples\n",
    "- batch_size=no of training samples in one forward & backward pass\n",
    "-  no of iterations =no of passes,each pass using [batch_size] no of samples\n",
    "- eg: 100 samples,batch_size=20-->100/20= 5 iterations for 1 epoch"
   ]
  },
  {
   "cell_type": "code",
   "execution_count": 40,
   "id": "cf0f23bd-f505-4c13-8515-ac1635015c10",
   "metadata": {},
   "outputs": [],
   "source": [
    "import torch\n",
    "import torchvision\n",
    "from torch.utils.data import Dataset,DataLoader\n",
    "import numpy as np\n",
    "import math\n",
    "\n"
   ]
  },
  {
   "cell_type": "code",
   "execution_count": 41,
   "id": "cf7d09a7-2498-4969-9be5-51872a803e76",
   "metadata": {},
   "outputs": [
    {
     "name": "stdout",
     "output_type": "stream",
     "text": [
      "tensor([[1.1650e+01, 1.6700e+00, 2.6200e+00, 2.6000e+01, 8.8000e+01, 1.9200e+00,\n",
      "         1.6100e+00, 4.0000e-01, 1.3400e+00, 2.6000e+00, 1.3600e+00, 3.2100e+00,\n",
      "         5.6200e+02],\n",
      "        [1.2510e+01, 1.7300e+00, 1.9800e+00, 2.0500e+01, 8.5000e+01, 2.2000e+00,\n",
      "         1.9200e+00, 3.2000e-01, 1.4800e+00, 2.9400e+00, 1.0400e+00, 3.5700e+00,\n",
      "         6.7200e+02],\n",
      "        [1.3870e+01, 1.9000e+00, 2.8000e+00, 1.9400e+01, 1.0700e+02, 2.9500e+00,\n",
      "         2.9700e+00, 3.7000e-01, 1.7600e+00, 4.5000e+00, 1.2500e+00, 3.4000e+00,\n",
      "         9.1500e+02],\n",
      "        [1.3500e+01, 1.8100e+00, 2.6100e+00, 2.0000e+01, 9.6000e+01, 2.5300e+00,\n",
      "         2.6100e+00, 2.8000e-01, 1.6600e+00, 3.5200e+00, 1.1200e+00, 3.8200e+00,\n",
      "         8.4500e+02]]) tensor([[2.],\n",
      "        [2.],\n",
      "        [1.],\n",
      "        [1.]])\n"
     ]
    }
   ],
   "source": [
    "class WineDataset(Dataset):\n",
    "    def __init__(self):\n",
    "        xy=np.loadtxt('./wine.csv',delimiter=',',dtype=np.float32,skiprows=1)\n",
    "        self.x=torch.from_numpy(xy[:,1:])\n",
    "        self.y=torch.from_numpy(xy[:,[0]]) #np samples ,1\n",
    "        self.n_samples=xy.shape[0]\n",
    "        \n",
    "    def __getitem__(self,index):\n",
    "        return self.x[index],self.y[index]\n",
    "\n",
    "    def __len__(self):\n",
    "        return self.n_samples\n",
    "dataset=WineDataset()\n",
    "# first_data=dataset[0]\n",
    "# features,labels=first_data\n",
    "# print(features,labels)\n",
    "\n",
    "# num_workers=no of sub processors\n",
    "\n",
    "dataloader=DataLoader(dataset=dataset,batch_size=4,shuffle=True)\n",
    "# dataiter=iter(dataloader)\n",
    "data=next(iter(dataloader))\n",
    "# data=next(dataiter)\n",
    "features,labels=data\n",
    "print(features,labels)\n"
   ]
  },
  {
   "cell_type": "markdown",
   "id": "3fbc0210-d94b-41d6-9563-b4e89ca87786",
   "metadata": {},
   "source": [
    "# training loops "
   ]
  },
  {
   "cell_type": "code",
   "execution_count": 42,
   "id": "07591663-ee93-44ff-ba10-02c6b38aa1be",
   "metadata": {},
   "outputs": [
    {
     "name": "stdout",
     "output_type": "stream",
     "text": [
      "178 45\n",
      "epoch  1/2,step 5/45,inputs torch.Size([4, 13])\n",
      "epoch  1/2,step 10/45,inputs torch.Size([4, 13])\n",
      "epoch  1/2,step 15/45,inputs torch.Size([4, 13])\n",
      "epoch  1/2,step 20/45,inputs torch.Size([4, 13])\n",
      "epoch  1/2,step 25/45,inputs torch.Size([4, 13])\n",
      "epoch  1/2,step 30/45,inputs torch.Size([4, 13])\n",
      "epoch  1/2,step 35/45,inputs torch.Size([4, 13])\n",
      "epoch  1/2,step 40/45,inputs torch.Size([4, 13])\n",
      "epoch  1/2,step 45/45,inputs torch.Size([2, 13])\n",
      "epoch  2/2,step 5/45,inputs torch.Size([4, 13])\n",
      "epoch  2/2,step 10/45,inputs torch.Size([4, 13])\n",
      "epoch  2/2,step 15/45,inputs torch.Size([4, 13])\n",
      "epoch  2/2,step 20/45,inputs torch.Size([4, 13])\n",
      "epoch  2/2,step 25/45,inputs torch.Size([4, 13])\n",
      "epoch  2/2,step 30/45,inputs torch.Size([4, 13])\n",
      "epoch  2/2,step 35/45,inputs torch.Size([4, 13])\n",
      "epoch  2/2,step 40/45,inputs torch.Size([4, 13])\n",
      "epoch  2/2,step 45/45,inputs torch.Size([2, 13])\n"
     ]
    }
   ],
   "source": [
    "no_epochs=2\n",
    "total_samples=len(dataset)\n",
    "n_iterations=math.ceil(total_samples/4)\n",
    "print(total_samples,n_iterations)\n",
    "\n",
    "for epoch in range(no_epochs):\n",
    "    for i,(inputs,labels) in enumerate(dataloader):\n",
    "        #forward,update every 5 th step print some information\n",
    "        if(i+1)%5==0:\n",
    "            print(f'epoch  {epoch+1}/{no_epochs},step {i+1}/{n_iterations},inputs {inputs.shape}')"
   ]
  },
  {
   "cell_type": "code",
   "execution_count": 43,
   "id": "22a5616c-3e89-4ec3-9aed-63eac8a34c71",
   "metadata": {},
   "outputs": [],
   "source": [
    "# batch size 4,13 features"
   ]
  },
  {
   "cell_type": "code",
   "execution_count": 44,
   "id": "ea187324-d4d7-49a4-8806-d5479f79b87e",
   "metadata": {},
   "outputs": [],
   "source": [
    "# tochvision.datasets.MNIST()"
   ]
  },
  {
   "cell_type": "markdown",
   "id": "a5e4452e-1bc8-4b8a-b482-abe9c5a7cbaf",
   "metadata": {},
   "source": [
    "# dataset transforms"
   ]
  },
  {
   "cell_type": "code",
   "execution_count": 45,
   "id": "ac102c5a-e6a1-4d43-a0d8-f6bdc6dd35c0",
   "metadata": {},
   "outputs": [],
   "source": [
    "dataset=torchvision.datasets.MNIST(root='./data',transform=torchvision.transforms.ToTensor(),download=True)"
   ]
  },
  {
   "cell_type": "code",
   "execution_count": 46,
   "id": "92c09ea5-7a02-4c1c-b351-fdf23a09c221",
   "metadata": {},
   "outputs": [
    {
     "name": "stdout",
     "output_type": "stream",
     "text": [
      "[1.423e+01 1.710e+00 2.430e+00 1.560e+01 1.270e+02 2.800e+00 3.060e+00\n",
      " 2.800e-01 2.290e+00 5.640e+00 1.040e+00 3.920e+00 1.065e+03] [1.]\n",
      "<class 'numpy.ndarray'> <class 'numpy.ndarray'>\n",
      "tensor([2.8460e+01, 3.4200e+00, 4.8600e+00, 3.1200e+01, 2.5400e+02, 5.6000e+00,\n",
      "        6.1200e+00, 5.6000e-01, 4.5800e+00, 1.1280e+01, 2.0800e+00, 7.8400e+00,\n",
      "        2.1300e+03]) tensor([1.])\n",
      "<class 'torch.Tensor'> <class 'torch.Tensor'>\n"
     ]
    }
   ],
   "source": [
    "class WineDataset(Dataset):\n",
    "    def __init__(self,transform=None):\n",
    "        xy=np.loadtxt('./wine.csv',delimiter=',',dtype=np.float32,skiprows=1)\n",
    "        self.n_samples=xy.shape[0]\n",
    "        self.x=xy[:,1:]\n",
    "        self.y=xy[:,[0]] #np samples ,1\n",
    "       \n",
    "        self.transform=transform\n",
    "        \n",
    "    def __getitem__(self,index):\n",
    "        sample= self.x[index],self.y[index]\n",
    "        if self.transform:\n",
    "            sample=self.transform(sample)\n",
    "        # return self.x[index],self.y[index]\n",
    "        \n",
    "        return sample\n",
    "\n",
    "    def __len__(self):\n",
    "        return self.n_samples\n",
    "class ToTensor:\n",
    "    def __call__(self,sample):\n",
    "        inputs,targets=sample\n",
    "        return torch.from_numpy(inputs),torch.from_numpy(targets)\n",
    "\n",
    "class MulTransform:\n",
    "    def __init__(self,factor):\n",
    "        self.factor=factor\n",
    "    def __call__(self,sample):\n",
    "        inputs,target=sample\n",
    "        inputs*=self.factor\n",
    "        return inputs,target\n",
    "\n",
    "\n",
    "\n",
    "dataset1=WineDataset(transform=None)\n",
    "first=dataset1[0]\n",
    "fea,lab=first\n",
    "print(fea,lab)\n",
    "print(type(fea),type(lab))\n",
    "# dataset1=WineDataset(transform=ToTensor())\n",
    "# first=dataset1[0]\n",
    "# fea,lab=first\n",
    "# print(type(fea),type(lab))\n",
    "\n",
    "\n",
    "composed=torchvision.transforms.Compose([ToTensor(),MulTransform(2)])\n",
    "        \n",
    "dataset=WineDataset(transform=composed)\n",
    "first=dataset[0]\n",
    "fea,lab=first\n",
    "print(fea,lab)\n",
    "print(type(fea),type(lab))\n",
    "# first_data=dataset[0]\n",
    "# features,labels=first_data\n",
    "# print(features,labels)\n",
    "\n",
    "# num_workers=no of sub processors\n",
    "\n",
    "# dataloader=DataLoader(dataset=dataset,batch_size=4,shuffle=True)\n",
    "# dataiter=iter(dataloader)\n",
    "# data=next(iter(dataloader))\n",
    "# data=next(dataiter)\n",
    "# features,labels=data\n",
    "# print(features,labels)\n"
   ]
  },
  {
   "cell_type": "markdown",
   "id": "a9626bc5-23bb-4006-ba6f-dbef73b84bba",
   "metadata": {},
   "source": [
    "# softmax, cross entropy"
   ]
  },
  {
   "cell_type": "code",
   "execution_count": 47,
   "id": "9a3453bc-f9cd-47b8-8cda-2c2cb1a6dba0",
   "metadata": {},
   "outputs": [
    {
     "name": "stdout",
     "output_type": "stream",
     "text": [
      "softmax numpy: [0.65900114 0.24243297 0.09856589]\n"
     ]
    }
   ],
   "source": [
    "def softmax(x):\n",
    "    return np.exp(x)/np.sum(np.exp(x),axis=0)\n",
    "x=np.array([2.0,1.0,0.1])\n",
    "op=softmax(x)\n",
    "print('softmax numpy:',op)"
   ]
  },
  {
   "cell_type": "code",
   "execution_count": 48,
   "id": "795e3b83-1ff6-49c1-bc0a-aed65e3c8612",
   "metadata": {},
   "outputs": [
    {
     "name": "stdout",
     "output_type": "stream",
     "text": [
      "tensor([0.6590, 0.2424, 0.0986])\n"
     ]
    }
   ],
   "source": [
    "x=torch.tensor([2.0,1.0,0.1])\n",
    "op1=torch.softmax(x,dim=0)\n",
    "print(op1)"
   ]
  },
  {
   "cell_type": "code",
   "execution_count": 49,
   "id": "9ca19275-8dc9-4fae-99ad-a0e08afa971d",
   "metadata": {},
   "outputs": [
    {
     "name": "stdout",
     "output_type": "stream",
     "text": [
      "0.35667494393873245 2.3025850929940455\n"
     ]
    }
   ],
   "source": [
    "def cross_entropy(actual,predicted):\n",
    "    loss=-np.sum(actual*np.log(predicted))\n",
    "    return loss #/float (predicted.shape[0])\n",
    "# y must be one hot encoded\n",
    "# if class 0:[1,0,0]\n",
    "# if class 1:[0,1,0]\n",
    "# if class 3:[0,0,1]\n",
    "Y=np.array([1,0,0])\n",
    "y_pred_g=np.array([0.7,0.2,0.1])\n",
    "y_pred_bad=np.array([0.1,0.3,0.6])\n",
    "l1=cross_entropy(Y,y_pred_g)\n",
    "l2=cross_entropy(Y,y_pred_bad)\n",
    "print(l1,l2)"
   ]
  },
  {
   "cell_type": "markdown",
   "id": "df37d346-b69d-4cc7-a59c-81281ecc9775",
   "metadata": {},
   "source": [
    "## careful!\n",
    "- nn.crossentropyloss applies\n",
    "- nn.logsoftmax+nn.NLLLoss(negative log likehood)\n",
    "- no softmax in last layer\n",
    "- y has class labels,not one-hot\n",
    "- y_pred has raw score (logidy),no softmax"
   ]
  },
  {
   "cell_type": "code",
   "execution_count": 50,
   "id": "9127dafa-043f-49da-97d7-48baab1ad0e8",
   "metadata": {},
   "outputs": [
    {
     "name": "stdout",
     "output_type": "stream",
     "text": [
      "0.4170299470424652\n",
      "1.840616226196289\n"
     ]
    }
   ],
   "source": [
    "loss=nn.CrossEntropyLoss()\n",
    "Y=torch.tensor([0])\n",
    "# nsamples * nclass= 1x 3\n",
    "y_pred_g=torch.tensor([[2.0,1.0,0.1]])\n",
    "y_pred_bad=torch.tensor([[0.5,2.0,0.3]])\n",
    "l1=loss(y_pred_g,Y)\n",
    "l2=loss(y_pred_bad,Y)\n",
    "print(l1.item())\n",
    "print(l2.item())"
   ]
  },
  {
   "cell_type": "code",
   "execution_count": 51,
   "id": "79d2bc39-ca69-4e1b-a4ab-51a8cb40d45c",
   "metadata": {},
   "outputs": [
    {
     "name": "stdout",
     "output_type": "stream",
     "text": [
      "tensor([0]) tensor([1])\n"
     ]
    }
   ],
   "source": [
    "_,p1=torch.max(y_pred_g,1)\n",
    "_,p2=torch.max(y_pred_bad,1)\n",
    "print(p1,p2)"
   ]
  },
  {
   "cell_type": "code",
   "execution_count": 52,
   "id": "08fc4c61-1ff2-46ce-bd1a-5bd2d283636d",
   "metadata": {},
   "outputs": [
    {
     "name": "stdout",
     "output_type": "stream",
     "text": [
      "0.17737407982349396\n",
      "1.1480108499526978\n",
      "tensor([2, 0, 1]) tensor([0, 2, 0])\n"
     ]
    }
   ],
   "source": [
    "loss=nn.CrossEntropyLoss()\n",
    "Y=torch.tensor([2,0,1])\n",
    "# nsamples * nclass= 1x 3\n",
    "y_pred_g=torch.tensor([[0.0,1.0,4.0],[2.0,1.0,0.1],[0.5,4.0,0.1]])\n",
    "y_pred_bad=torch.tensor([[4.0,1.0,4.0],[2.0,1.0,3.0],[5.0,4.0,0.1]])\n",
    "l1=loss(y_pred_g,Y)\n",
    "l2=loss(y_pred_bad,Y)\n",
    "print(l1.item())\n",
    "print(l2.item())\n",
    "_,p1=torch.max(y_pred_g,1)\n",
    "_,p2=torch.max(y_pred_bad,1)\n",
    "print(p1,p2)"
   ]
  },
  {
   "cell_type": "markdown",
   "id": "c3fa30a6-6b2c-493c-ac8c-22ce839ec680",
   "metadata": {},
   "source": [
    "# multi classs"
   ]
  },
  {
   "cell_type": "code",
   "execution_count": 53,
   "id": "5c964aa9-48db-4a47-b5bd-402f1d12aeaf",
   "metadata": {},
   "outputs": [],
   "source": [
    "class NeuralNet2(nn.Module):\n",
    "    def __init__(self,input_size,hidden_size,num_classes):\n",
    "        super(NeuralNet2,self).__init__()\n",
    "        self.linear1=nn.Linear(input_size,hidden_size)\n",
    "        self.relu =nn.ReLU() #ctivation function bw\n",
    "        self.linear2=nn.Linear(hidden_size,num_classes)\n",
    "    def forward(self,x):\n",
    "        out=self.linear1(x)\n",
    "        out=self.relu(out)\n",
    "        out=self.linear2(out)\n",
    "        return out\n",
    "        # no soft max\n",
    "model =NeuralNet2(input_size=28*28,hidden_size=5,num_classes=3)\n",
    "criterian=nn.CrossEntropyLoss()"
   ]
  },
  {
   "cell_type": "markdown",
   "id": "0da08397-dd0e-4985-a03e-3224adde1021",
   "metadata": {},
   "source": [
    "# binary classification"
   ]
  },
  {
   "cell_type": "code",
   "execution_count": 54,
   "id": "0e0dab75-5089-4706-acfc-e91de5bfd41c",
   "metadata": {},
   "outputs": [],
   "source": [
    "class NeuralNet1(nn.Module):\n",
    "    def __init__(self,input_size,hidden_size,num_classes):\n",
    "        super(NeuralNet1,self).__init__()\n",
    "        self.linear1=nn.Linear(input_size,hidden_size)\n",
    "        self.relu =nn.ReLU() #ctivation function bw\n",
    "        self.linear2=nn.Linear(hidden_size,1) #op layer 1\n",
    "    def forward(self,x):\n",
    "        out=self.linear1(x)\n",
    "        out=self.relu(out)\n",
    "        out=self.linear2(out)\n",
    "        #sigmoid at the end\n",
    "        y_pred=torch.sigmoid(out)\n",
    "        return out\n",
    "        # no soft max\n",
    "model =NeuralNet1(input_size=28*28,hidden_size=5,num_classes=3)\n",
    "criterian=nn.BCELoss() #binary cross entropy loss\n"
   ]
  },
  {
   "cell_type": "markdown",
   "id": "5389e430-1b5f-4fc9-912f-50602e8123e7",
   "metadata": {},
   "source": [
    "# Activation function"
   ]
  },
  {
   "cell_type": "markdown",
   "id": "0fdef1db-7ce8-4573-a1c6-df5f60603b08",
   "metadata": {},
   "source": [
    "# it decides whether a neuron should be active or not by applying non linear transformation"
   ]
  },
  {
   "cell_type": "markdown",
   "id": "703c35b2-c488-4ac7-8d9a-556040e18a8b",
   "metadata": {},
   "source": [
    "### in between model there hs be non linear function so tht our model will learn ,otherwise it will be plain linear model"
   ]
  },
  {
   "cell_type": "markdown",
   "id": "8ce57be3-3243-4df5-97f9-c26dccebedea",
   "metadata": {},
   "source": [
    "# ppopular activation functions\n",
    "- step function(not used prctically)\n",
    "- sigmoid (typically last layer for binary classification)\n",
    "- tanH (-1 to 1),(hidden layer,scaled sigmoid function)\n",
    "- ReLU(most popular,max(0,x))(non linear)(best when dilema to choose the function)\n",
    "- Leaky ReLU(if x>=0,x else a.x)(vanishing gradient problem)(weight dont update certain time)\n",
    "- Softmax(good in last layer,multi class classification sqached in 0-1)"
   ]
  },
  {
   "cell_type": "code",
   "execution_count": 55,
   "id": "bc80c4af-9350-4299-ada4-11ac8ff0dc89",
   "metadata": {},
   "outputs": [],
   "source": [
    "class NeuralNet(nn.Module):\n",
    "    def __init__(self,input_size,hidden_size,num_classes):\n",
    "        super(NeuralNet,self).__init__()\n",
    "        self.linear1=nn.Linear(input_size,hidden_size)\n",
    "        self.relu =nn.ReLU() #ctivation function bw\n",
    "        self.linear2=nn.Linear(hidden_size,1) #op layer 1\n",
    "        self.sigmoid=nn.Sigmoid()\n",
    "    def forward(self,x):\n",
    "        out=self.linear1(x)\n",
    "        out=self.relu(out)\n",
    "        out=self.linear2(out)\n",
    "        #sigmoid at the end\n",
    "        y_pred=torch.sigmoid(out)\n",
    "        return out\n",
    "        # no soft max\n",
    "model =NeuralNet(input_size=28*28,hidden_size=5,num_classes=3)\n",
    "criterian=nn.BCELoss() #binary cross entropy loss\n"
   ]
  },
  {
   "cell_type": "code",
   "execution_count": 56,
   "id": "673a6d35-1773-4c7d-ac44-821f83076e95",
   "metadata": {},
   "outputs": [],
   "source": [
    "class NeuralNet(nn.Module):\n",
    "    def __init__(self,input_size,hidden_size,num_classes):\n",
    "        super(NeuralNet,self).__init__()\n",
    "        self.linear1=nn.Linear(input_size,hidden_size)\n",
    "   \n",
    "        self.linear2=nn.Linear(hidden_size,1) #op layer 1\n",
    "\n",
    "    def forward(self,x):\n",
    "      \n",
    "        out=self.relu(self.linear1(x))\n",
    "     \n",
    "        #sigmoid at the end\n",
    "        y_pred=torch.sigmoid(self.linear2(out))\n",
    "        return out\n",
    "        # no soft max\n",
    "model =NeuralNet(input_size=28*28,hidden_size=5,num_classes=3)\n",
    "criterian=nn.BCELoss() #binary cross entropy loss\n"
   ]
  },
  {
   "cell_type": "markdown",
   "id": "6058312a-f783-4b8c-ad07-9fa48e2bc40c",
   "metadata": {},
   "source": [
    "# both are same"
   ]
  },
  {
   "cell_type": "markdown",
   "id": "d0b124bb-4a4c-4cf5-9efa-d232be14a350",
   "metadata": {},
   "source": [
    "# feed forward net\n",
    "- MNIST\n",
    "- DataLoader,Transformation\n",
    "- Multilayer Neural Net,activation function\n",
    "- loss and optmizer\n",
    "- training loop(batch training)\n",
    "- model evaluation\n",
    "- GPU support"
   ]
  },
  {
   "cell_type": "code",
   "execution_count": 57,
   "id": "5bcb3ea9-ecbd-4083-bead-89eb64c540cd",
   "metadata": {},
   "outputs": [],
   "source": [
    "#device config\n",
    "device=torch.device('cuda' if torch.cuda.is_available() else 'cpu')\n",
    "ip_size=784 #28*28\n",
    "hidden =100\n",
    "no_classes=10\n",
    "no_of_epochs=2\n",
    "batch_size=100\n",
    "l_r=0.001\n",
    "\n",
    "\n"
   ]
  },
  {
   "cell_type": "code",
   "execution_count": 58,
   "id": "fa353a6d-d62b-4a71-9e97-5ab3075b5c9b",
   "metadata": {},
   "outputs": [],
   "source": [
    "#MNIST\n",
    "train_dataset=torchvision.datasets.MNIST(root='./data',train=True,transform= torchvision.transforms.ToTensor(),download=True)\n",
    "test_dataset=torchvision.datasets.MNIST(root='./data',train=True,transform= torchvision.transforms.ToTensor())\n",
    "train_loader=torch.utils.data.DataLoader(dataset=train_dataset,batch_size=batch_size,shuffle=True)\n",
    "test_loader=torch.utils.data.DataLoader(dataset=test_dataset,batch_size=batch_size,shuffle=False)"
   ]
  },
  {
   "cell_type": "code",
   "execution_count": 59,
   "id": "c45c4cc6-e2b0-47f9-a634-82a09e995cb5",
   "metadata": {},
   "outputs": [
    {
     "name": "stdout",
     "output_type": "stream",
     "text": [
      "torch.Size([100, 1, 28, 28]) torch.Size([4, 13])\n"
     ]
    }
   ],
   "source": [
    "examples=iter(train_loader)\n",
    "samples,labels=next(examples)\n",
    "print(samples.shape,features.shape)"
   ]
  },
  {
   "cell_type": "code",
   "execution_count": 60,
   "id": "2ee5dc2e-bc1d-4a12-8e85-a57d8df3bedb",
   "metadata": {},
   "outputs": [],
   "source": [
    "#100 batch size 1 only one channels 28 28 image size"
   ]
  },
  {
   "cell_type": "code",
   "execution_count": 61,
   "id": "9f3b7b40-385c-45fb-8b6f-8d4c530a28e3",
   "metadata": {},
   "outputs": [
    {
     "data": {
      "image/png": "[encoded data removed]",
      "text/plain": [
       "<Figure size 640x480 with 6 Axes>"
      ]
     },
     "metadata": {},
     "output_type": "display_data"
    }
   ],
   "source": [
    "for i in range(6):\n",
    "    #2 r,3 c, i+!\n",
    "    plt.subplot(2,3,i+1)\n",
    "    plt.imshow(samples[i][0],cmap='gray')\n",
    "# plt.show()"
   ]
  },
  {
   "cell_type": "code",
   "execution_count": 62,
   "id": "59168ae9-3371-466b-b3c0-b677e5300cd9",
   "metadata": {},
   "outputs": [],
   "source": [
    "# class NeuralNet(nn.Module):\n",
    "#     def __init__(self,input_size,hidden_size,num_classes):\n",
    "#         super(NeuralNet,self).__init__()\n",
    "#         self.l1=nn.Linear(input_size,hidden_size)\n",
    "#         self.relu=nn.ReLU()\n",
    "#         self.l2=nn.Linear(hidden_size,num_classes)\n",
    "#     def forward(self,x):\n",
    "#         out=self.l1(x)\n",
    "#         out=self.relu(out)\n",
    "#         out=self.l2(out)\n",
    "#         return out\n",
    "# model=NeuralNet(input_size,hidden,no_classes)\n",
    "# #loss optmizer\n",
    "# criterion=nn.CrossEntropyLoss()\n",
    "# optimizer=torch.optim.Adam(model.parameters(),lr=learning_rate)\n",
    "# # training loop\n",
    "# n_total_steps=len(train_loader)\n",
    "# for epoch in range(no_of_epochs):\n",
    "#     for i,(images,labels) in enumerate(train_loader):\n",
    "#         #reshape 100 ,1, 28,28\n",
    "#         images=images.reshape(-1,28*28).to(device)\n",
    "#         labels=labels.to(device)\n",
    "\n",
    "#         #forward\n",
    "#         outputs=model(images)\n",
    "#         loss=criterion(outputs,labels)\n",
    "#         #backwards\n",
    "#         optimizer.zero_grad()\n",
    "#         loss.backward()\n",
    "#         optimizer.step()\n",
    "#         if(i+1)%100==0:\n",
    "#             print(f'epoch {epoch+1}/{num_of_epochs},steps {i+1}/{n_total_steps},loss={loss.item()}:.4f')\n",
    "# # testing\n",
    "# with torch.no_grad():\n",
    "#     n_correct=0\n",
    "#     n_samples=0\n",
    "#     for images,lables in test_loader:\n",
    "#         images=images.reshape(-1,28*28).to(device)\n",
    "#         labels=labels.to(device)\n",
    "#         output=model(images)\n",
    "#         #value,index\n",
    "#         _,predictions=torch.mx(outputs,1)\n",
    "#         n_samples+=lables.shape[0]\n",
    "#         n_correct=(predictions==labels).sum().item()\n",
    "#     acc=100.0*n_correct/n_samples\n",
    "#     print(acc)\n",
    "        \n",
    "\n",
    "\n",
    "        "
   ]
  },
  {
   "cell_type": "code",
   "execution_count": 63,
   "id": "bb9961cf-e24b-406a-8de3-635383be0854",
   "metadata": {},
   "outputs": [
    {
     "data": {
      "image/png": "[encoded data removed]",
      "text/plain": [
       "<Figure size 640x480 with 6 Axes>"
      ]
     },
     "metadata": {},
     "output_type": "display_data"
    },
    {
     "name": "stdout",
     "output_type": "stream",
     "text": [
      "Epoch [1/2], Step [100/600], Loss: 0.3385\n",
      "Epoch [1/2], Step [200/600], Loss: 0.4287\n",
      "Epoch [1/2], Step [300/600], Loss: 0.1301\n",
      "Epoch [1/2], Step [400/600], Loss: 0.2576\n",
      "Epoch [1/2], Step [500/600], Loss: 0.1955\n",
      "Epoch [1/2], Step [600/600], Loss: 0.1855\n",
      "Epoch [2/2], Step [100/600], Loss: 0.2146\n",
      "Epoch [2/2], Step [200/600], Loss: 0.1150\n",
      "Epoch [2/2], Step [300/600], Loss: 0.1166\n",
      "Epoch [2/2], Step [400/600], Loss: 0.1433\n",
      "Epoch [2/2], Step [500/600], Loss: 0.0514\n",
      "Epoch [2/2], Step [600/600], Loss: 0.0794\n",
      "Accuracy of the network on the 10000 test images: 97.08 %\n"
     ]
    }
   ],
   "source": [
    "import torch\n",
    "import torch.nn as nn\n",
    "import torchvision\n",
    "import torchvision.transforms as transforms\n",
    "import matplotlib.pyplot as plt\n",
    "\n",
    "# Device configuration\n",
    "device = torch.device('cuda' if torch.cuda.is_available() else 'cpu')\n",
    "\n",
    "# Hyper-parameters \n",
    "input_size = 784 # 28x28\n",
    "hidden_size = 500 \n",
    "num_classes = 10\n",
    "num_epochs = 2\n",
    "batch_size = 100\n",
    "learning_rate = 0.001\n",
    "\n",
    "# MNIST dataset \n",
    "train_dataset = torchvision.datasets.MNIST(root='./data', \n",
    "                                           train=True, \n",
    "                                           transform=transforms.ToTensor(),  \n",
    "                                           download=True)\n",
    "\n",
    "test_dataset = torchvision.datasets.MNIST(root='./data', \n",
    "                                          train=False, \n",
    "                                          transform=transforms.ToTensor())\n",
    "\n",
    "# Data loader\n",
    "train_loader = torch.utils.data.DataLoader(dataset=train_dataset, \n",
    "                                           batch_size=batch_size, \n",
    "                                           shuffle=True)\n",
    "\n",
    "test_loader = torch.utils.data.DataLoader(dataset=test_dataset, \n",
    "                                          batch_size=batch_size, \n",
    "                                          shuffle=False)\n",
    "\n",
    "examples = iter(test_loader)\n",
    "example_data, example_targets = next(examples)\n",
    "\n",
    "for i in range(6):\n",
    "    plt.subplot(2,3,i+1)\n",
    "    plt.imshow(example_data[i][0], cmap='gray')\n",
    "plt.show()\n",
    "\n",
    "# Fully connected neural network with one hidden layer\n",
    "class NeuralNet(nn.Module):\n",
    "    def __init__(self, input_size, hidden_size, num_classes):\n",
    "        super(NeuralNet, self).__init__()\n",
    "        self.input_size = input_size\n",
    "        self.l1 = nn.Linear(input_size, hidden_size) \n",
    "        self.relu = nn.ReLU()\n",
    "        self.l2 = nn.Linear(hidden_size, num_classes)  \n",
    "    \n",
    "    def forward(self, x):\n",
    "        out = self.l1(x)\n",
    "        out = self.relu(out)\n",
    "        out = self.l2(out)\n",
    "        # no activation and no softmax at the end\n",
    "        return out\n",
    "\n",
    "model = NeuralNet(input_size, hidden_size, num_classes).to(device)\n",
    "\n",
    "# Loss and optimizer\n",
    "criterion = nn.CrossEntropyLoss()\n",
    "optimizer = torch.optim.Adam(model.parameters(), lr=learning_rate)  \n",
    "\n",
    "# Train the model\n",
    "n_total_steps = len(train_loader)\n",
    "for epoch in range(num_epochs):\n",
    "    for i, (images, labels) in enumerate(train_loader):  \n",
    "        # origin shape: [100, 1, 28, 28]\n",
    "        # resized: [100, 784]\n",
    "        images = images.reshape(-1, 28*28).to(device)\n",
    "        labels = labels.to(device)\n",
    "        \n",
    "        # Forward pass\n",
    "        outputs = model(images)\n",
    "        loss = criterion(outputs, labels)\n",
    "        \n",
    "        # Backward and optimize\n",
    "        optimizer.zero_grad()\n",
    "        loss.backward()\n",
    "        optimizer.step()\n",
    "        \n",
    "        if (i+1) % 100 == 0:\n",
    "            print (f'Epoch [{epoch+1}/{num_epochs}], Step [{i+1}/{n_total_steps}], Loss: {loss.item():.4f}')\n",
    "\n",
    "# Test the model\n",
    "# In test phase, we don't need to compute gradients (for memory efficiency)\n",
    "with torch.no_grad():\n",
    "    n_correct = 0\n",
    "    n_samples = 0\n",
    "    for images, labels in test_loader:\n",
    "        images = images.reshape(-1, 28*28).to(device)\n",
    "        labels = labels.to(device)\n",
    "        outputs = model(images)\n",
    "        # max returns (value ,index)\n",
    "        _, predicted = torch.max(outputs.data, 1)\n",
    "        n_samples += labels.size(0)\n",
    "        n_correct += (predicted == labels).sum().item()\n",
    "\n",
    "    acc = 100.0 * n_correct / n_samples\n",
    "    print(f'Accuracy of the network on the 10000 test images: {acc} %')"
   ]
  },
  {
   "cell_type": "markdown",
   "id": "6e3e4d22-7f23-49ef-b178-84725dd83a1b",
   "metadata": {},
   "source": [
    "# CNN\n",
    "- works on image dataset,images,label\n",
    "- filter 1 st position,opertion ,transforms to resulting image\n",
    "- maxpool downsize the image,"
   ]
  },
  {
   "cell_type": "code",
   "execution_count": 64,
   "id": "bb99dc5f-6608-475e-a19b-a0e5712dfdde",
   "metadata": {},
   "outputs": [
    {
     "name": "stdout",
     "output_type": "stream",
     "text": [
      "Files already downloaded and verified\n",
      "Files already downloaded and verified\n"
     ]
    },
    {
     "data": {
      "image/png": "[encoded data removed]",
      "text/plain": [
       "<Figure size 640x480 with 1 Axes>"
      ]
     },
     "metadata": {},
     "output_type": "display_data"
    },
    {
     "name": "stdout",
     "output_type": "stream",
     "text": [
      "Epoch [1/5], Step [2000/12500], Loss: 2.3363\n",
      "Epoch [1/5], Step [4000/12500], Loss: 2.3091\n",
      "Epoch [1/5], Step [6000/12500], Loss: 2.2825\n",
      "Epoch [1/5], Step [8000/12500], Loss: 2.2982\n",
      "Epoch [1/5], Step [10000/12500], Loss: 2.1256\n",
      "Epoch [1/5], Step [12000/12500], Loss: 2.4322\n",
      "Epoch [2/5], Step [2000/12500], Loss: 1.8768\n",
      "Epoch [2/5], Step [4000/12500], Loss: 1.8689\n",
      "Epoch [2/5], Step [6000/12500], Loss: 2.6070\n",
      "Epoch [2/5], Step [8000/12500], Loss: 2.3478\n",
      "Epoch [2/5], Step [10000/12500], Loss: 1.9045\n",
      "Epoch [2/5], Step [12000/12500], Loss: 1.5584\n",
      "Epoch [3/5], Step [2000/12500], Loss: 1.0748\n",
      "Epoch [3/5], Step [4000/12500], Loss: 2.5793\n",
      "Epoch [3/5], Step [6000/12500], Loss: 0.8235\n",
      "Epoch [3/5], Step [8000/12500], Loss: 1.0011\n",
      "Epoch [3/5], Step [10000/12500], Loss: 1.5248\n",
      "Epoch [3/5], Step [12000/12500], Loss: 1.5756\n",
      "Epoch [4/5], Step [2000/12500], Loss: 1.4876\n",
      "Epoch [4/5], Step [4000/12500], Loss: 1.6201\n",
      "Epoch [4/5], Step [6000/12500], Loss: 1.0323\n",
      "Epoch [4/5], Step [8000/12500], Loss: 1.2854\n",
      "Epoch [4/5], Step [10000/12500], Loss: 1.4030\n",
      "Epoch [4/5], Step [12000/12500], Loss: 2.0139\n",
      "Epoch [5/5], Step [2000/12500], Loss: 2.0537\n",
      "Epoch [5/5], Step [4000/12500], Loss: 1.7333\n",
      "Epoch [5/5], Step [6000/12500], Loss: 1.8191\n",
      "Epoch [5/5], Step [8000/12500], Loss: 1.6360\n",
      "Epoch [5/5], Step [10000/12500], Loss: 0.9490\n",
      "Epoch [5/5], Step [12000/12500], Loss: 0.8575\n",
      "Finished Training\n",
      "Accuracy of the network: 50.43 %\n",
      "Accuracy of plane: 62.1 %\n",
      "Accuracy of car: 62.5 %\n",
      "Accuracy of bird: 35.8 %\n",
      "Accuracy of cat: 13.5 %\n",
      "Accuracy of deer: 30.3 %\n",
      "Accuracy of dog: 55.2 %\n",
      "Accuracy of frog: 71.8 %\n",
      "Accuracy of horse: 57.7 %\n",
      "Accuracy of ship: 55.9 %\n",
      "Accuracy of truck: 59.5 %\n"
     ]
    }
   ],
   "source": [
    "import torch\n",
    "import torch.nn as nn\n",
    "import torch.nn.functional as F\n",
    "import torchvision\n",
    "import torchvision.transforms as transforms\n",
    "import matplotlib.pyplot as plt\n",
    "import numpy as np\n",
    "\n",
    "# Device configuration\n",
    "device = torch.device('cuda' if torch.cuda.is_available() else 'cpu')\n",
    "\n",
    "# Hyper-parameters \n",
    "num_epochs = 5\n",
    "batch_size = 4\n",
    "learning_rate = 0.001\n",
    "\n",
    "# dataset has PILImage images of range [0, 1]. \n",
    "# We transform them to Tensors of normalized range [-1, 1]\n",
    "transform = transforms.Compose(\n",
    "    [transforms.ToTensor(),\n",
    "     transforms.Normalize((0.5, 0.5, 0.5), (0.5, 0.5, 0.5))])\n",
    "\n",
    "# CIFAR10: 60000 32x32 color images in 10 classes, with 6000 images per class\n",
    "train_dataset = torchvision.datasets.CIFAR10(root='./data', train=True,\n",
    "                                        download=True, transform=transform)\n",
    "\n",
    "test_dataset = torchvision.datasets.CIFAR10(root='./data', train=False,\n",
    "                                       download=True, transform=transform)\n",
    "\n",
    "train_loader = torch.utils.data.DataLoader(train_dataset, batch_size=batch_size,\n",
    "                                          shuffle=True)\n",
    "\n",
    "test_loader = torch.utils.data.DataLoader(test_dataset, batch_size=batch_size,\n",
    "                                         shuffle=False)\n",
    "\n",
    "classes = ('plane', 'car', 'bird', 'cat',\n",
    "           'deer', 'dog', 'frog', 'horse', 'ship', 'truck')\n",
    "\n",
    "def imshow(img):\n",
    "    img = img / 2 + 0.5  # unnormalize\n",
    "    npimg = img.numpy()\n",
    "    plt.imshow(np.transpose(npimg, (1, 2, 0)))\n",
    "    plt.show()\n",
    "\n",
    "\n",
    "# get some random training images\n",
    "dataiter = iter(train_loader)\n",
    "images, labels = next(dataiter)\n",
    "\n",
    "# show images\n",
    "imshow(torchvision.utils.make_grid(images))\n",
    "\n",
    "class ConvNet(nn.Module):\n",
    "    def __init__(self):\n",
    "        super(ConvNet, self).__init__()\n",
    "        self.conv1 = nn.Conv2d(3, 6, 5)\n",
    "        self.pool = nn.MaxPool2d(2, 2)\n",
    "        self.conv2 = nn.Conv2d(6, 16, 5)\n",
    "        self.fc1 = nn.Linear(16 * 5 * 5, 120)\n",
    "        self.fc2 = nn.Linear(120, 84)\n",
    "        self.fc3 = nn.Linear(84, 10)\n",
    "\n",
    "    def forward(self, x):\n",
    "        # -> n, 3, 32, 32\n",
    "        x = self.pool(F.relu(self.conv1(x)))  # -> n, 6, 14, 14\n",
    "        x = self.pool(F.relu(self.conv2(x)))  # -> n, 16, 5, 5\n",
    "        x = x.view(-1, 16 * 5 * 5)            # -> n, 400\n",
    "        x = F.relu(self.fc1(x))               # -> n, 120\n",
    "        x = F.relu(self.fc2(x))               # -> n, 84\n",
    "        x = self.fc3(x)                       # -> n, 10\n",
    "        return x\n",
    "\n",
    "\n",
    "model = ConvNet().to(device)\n",
    "\n",
    "criterion = nn.CrossEntropyLoss()\n",
    "optimizer = torch.optim.SGD(model.parameters(), lr=learning_rate)\n",
    "\n",
    "n_total_steps = len(train_loader)\n",
    "for epoch in range(num_epochs):\n",
    "    for i, (images, labels) in enumerate(train_loader):\n",
    "        # origin shape: [4, 3, 32, 32] = 4, 3, 1024\n",
    "        # input_layer: 3 input channels, 6 output channels, 5 kernel size\n",
    "        images = images.to(device)\n",
    "        labels = labels.to(device)\n",
    "\n",
    "        # Forward pass\n",
    "        outputs = model(images)\n",
    "        loss = criterion(outputs, labels)\n",
    "\n",
    "        # Backward and optimize\n",
    "        optimizer.zero_grad()\n",
    "        loss.backward()\n",
    "        optimizer.step()\n",
    "\n",
    "        if (i+1) % 2000 == 0:\n",
    "            print (f'Epoch [{epoch+1}/{num_epochs}], Step [{i+1}/{n_total_steps}], Loss: {loss.item():.4f}')\n",
    "\n",
    "print('Finished Training')\n",
    "PATH = './cnn.pth'\n",
    "torch.save(model.state_dict(), PATH)\n",
    "\n",
    "with torch.no_grad():\n",
    "    n_correct = 0\n",
    "    n_samples = 0\n",
    "    n_class_correct = [0 for i in range(10)]\n",
    "    n_class_samples = [0 for i in range(10)]\n",
    "    for images, labels in test_loader:\n",
    "        images = images.to(device)\n",
    "        labels = labels.to(device)\n",
    "        outputs = model(images)\n",
    "        # max returns (value ,index)\n",
    "        _, predicted = torch.max(outputs, 1)\n",
    "        n_samples += labels.size(0)\n",
    "        n_correct += (predicted == labels).sum().item()\n",
    "        \n",
    "        for i in range(batch_size):\n",
    "            label = labels[i]\n",
    "            pred = predicted[i]\n",
    "            if (label == pred):\n",
    "                n_class_correct[label] += 1\n",
    "            n_class_samples[label] += 1\n",
    "\n",
    "    acc = 100.0 * n_correct / n_samples\n",
    "    print(f'Accuracy of the network: {acc} %')\n",
    "\n",
    "    for i in range(10):\n",
    "        acc = 100.0 * n_class_correct[i] / n_class_samples[i]\n",
    "        print(f'Accuracy of {classes[i]}: {acc} %')\n"
   ]
  },
  {
   "cell_type": "markdown",
   "id": "4c8a4475-a8da-4eda-a766-7b968aa55920",
   "metadata": {},
   "source": [
    "# Transfer Learning"
   ]
  },
  {
   "cell_type": "code",
   "execution_count": 74,
   "id": "13166eda-9150-4b47-890d-978bcaf9a37f",
   "metadata": {},
   "outputs": [
    {
     "name": "stdout",
     "output_type": "stream",
     "text": [
      "['ants', 'bees']\n"
     ]
    },
    {
     "data": {
      "image/png": "[encoded data removed]",
      "text/plain": [
       "<Figure size 640x480 with 1 Axes>"
      ]
     },
     "metadata": {},
     "output_type": "display_data"
    },
    {
     "name": "stderr",
     "output_type": "stream",
     "text": [
      "C:\\Users\\merug\\anaconda3\\envs\\cuda\\Lib\\site-packages\\torchvision\\models\\_utils.py:208: UserWarning: The parameter 'pretrained' is deprecated since 0.13 and may be removed in the future, please use 'weights' instead.\n",
      "  warnings.warn(\n",
      "C:\\Users\\merug\\anaconda3\\envs\\cuda\\Lib\\site-packages\\torchvision\\models\\_utils.py:223: UserWarning: Arguments other than a weight enum or `None` for 'weights' are deprecated since 0.13 and may be removed in the future. The current behavior is equivalent to passing `weights=ResNet18_Weights.IMAGENET1K_V1`. You can also use `weights=ResNet18_Weights.DEFAULT` to get the most up-to-date weights.\n",
      "  warnings.warn(msg)\n",
      "Downloading: \"https://download.pytorch.org/models/resnet18-f37072fd.pth\" to C:\\Users\\merug/.cache\\torch\\hub\\checkpoints\\resnet18-f37072fd.pth\n",
      "52.4%IOPub message rate exceeded.\n",
      "The Jupyter server will temporarily stop sending output\n",
      "to the client in order to avoid crashing it.\n",
      "To change this limit, set the config variable\n",
      "`--ServerApp.iopub_msg_rate_limit`.\n",
      "\n",
      "Current values:\n",
      "ServerApp.iopub_msg_rate_limit=1000.0 (msgs/sec)\n",
      "ServerApp.rate_limit_window=3.0 (secs)\n",
      "\n"
     ]
    },
    {
     "name": "stdout",
     "output_type": "stream",
     "text": [
      "Epoch 0/24\n",
      "----------\n",
      "train Loss: 0.6589 Acc: 0.5943\n",
      "val Loss: 0.5176 Acc: 0.7582\n",
      "\n",
      "Epoch 1/24\n",
      "----------\n",
      "train Loss: 0.5263 Acc: 0.7705\n",
      "val Loss: 0.3678 Acc: 0.8824\n",
      "\n",
      "Epoch 2/24\n",
      "----------\n",
      "train Loss: 0.4759 Acc: 0.8074\n",
      "val Loss: 0.3153 Acc: 0.9150\n",
      "\n",
      "Epoch 3/24\n",
      "----------\n",
      "train Loss: 0.4261 Acc: 0.8197\n",
      "val Loss: 0.2623 Acc: 0.9346\n",
      "\n",
      "Epoch 4/24\n",
      "----------\n",
      "train Loss: 0.4943 Acc: 0.7623\n",
      "val Loss: 0.2428 Acc: 0.9412\n",
      "\n",
      "Epoch 5/24\n",
      "----------\n",
      "train Loss: 0.4253 Acc: 0.8279\n",
      "val Loss: 0.2245 Acc: 0.9412\n",
      "\n",
      "Epoch 6/24\n",
      "----------\n",
      "train Loss: 0.4131 Acc: 0.8320\n",
      "val Loss: 0.2270 Acc: 0.9281\n",
      "\n",
      "Epoch 7/24\n",
      "----------\n",
      "train Loss: 0.3372 Acc: 0.8566\n",
      "val Loss: 0.2144 Acc: 0.9412\n",
      "\n",
      "Epoch 8/24\n",
      "----------\n",
      "train Loss: 0.3354 Acc: 0.8525\n",
      "val Loss: 0.2234 Acc: 0.9346\n",
      "\n",
      "Epoch 9/24\n",
      "----------\n",
      "train Loss: 0.3631 Acc: 0.8607\n",
      "val Loss: 0.2207 Acc: 0.9281\n",
      "\n",
      "Epoch 10/24\n",
      "----------\n",
      "train Loss: 0.3755 Acc: 0.8320\n",
      "val Loss: 0.2162 Acc: 0.9412\n",
      "\n",
      "Epoch 11/24\n",
      "----------\n",
      "train Loss: 0.4121 Acc: 0.8361\n",
      "val Loss: 0.2227 Acc: 0.9281\n",
      "\n",
      "Epoch 12/24\n",
      "----------\n",
      "train Loss: 0.3356 Acc: 0.8566\n",
      "val Loss: 0.2139 Acc: 0.9346\n",
      "\n",
      "Epoch 13/24\n",
      "----------\n",
      "train Loss: 0.3275 Acc: 0.8811\n",
      "val Loss: 0.2054 Acc: 0.9412\n",
      "\n",
      "Epoch 14/24\n",
      "----------\n",
      "train Loss: 0.3536 Acc: 0.8361\n",
      "val Loss: 0.2113 Acc: 0.9412\n",
      "\n",
      "Epoch 15/24\n",
      "----------\n",
      "train Loss: 0.3908 Acc: 0.8279\n",
      "val Loss: 0.2112 Acc: 0.9412\n",
      "\n",
      "Epoch 16/24\n",
      "----------\n",
      "train Loss: 0.3919 Acc: 0.8238\n",
      "val Loss: 0.2169 Acc: 0.9216\n",
      "\n",
      "Epoch 17/24\n",
      "----------\n",
      "train Loss: 0.3684 Acc: 0.8361\n",
      "val Loss: 0.2080 Acc: 0.9477\n",
      "\n",
      "Epoch 18/24\n",
      "----------\n",
      "train Loss: 0.3587 Acc: 0.8197\n",
      "val Loss: 0.2114 Acc: 0.9346\n",
      "\n",
      "Epoch 19/24\n",
      "----------\n",
      "train Loss: 0.2832 Acc: 0.8975\n",
      "val Loss: 0.2014 Acc: 0.9412\n",
      "\n",
      "Epoch 20/24\n",
      "----------\n",
      "train Loss: 0.3974 Acc: 0.7910\n",
      "val Loss: 0.2061 Acc: 0.9477\n",
      "\n",
      "Epoch 21/24\n",
      "----------\n",
      "train Loss: 0.3191 Acc: 0.8770\n",
      "val Loss: 0.2176 Acc: 0.9412\n",
      "\n",
      "Epoch 22/24\n",
      "----------\n",
      "train Loss: 0.3584 Acc: 0.8361\n",
      "val Loss: 0.2161 Acc: 0.9412\n",
      "\n",
      "Epoch 23/24\n",
      "----------\n",
      "train Loss: 0.3267 Acc: 0.8402\n",
      "val Loss: 0.2084 Acc: 0.9477\n",
      "\n",
      "Epoch 24/24\n",
      "----------\n",
      "train Loss: 0.3605 Acc: 0.8525\n",
      "val Loss: 0.2180 Acc: 0.9412\n",
      "\n",
      "Training complete in 1m 30s\n",
      "Best val Acc: 0.947712\n",
      "Epoch 0/24\n",
      "----------\n",
      "train Loss: 0.5763 Acc: 0.7008\n",
      "val Loss: 0.1833 Acc: 0.9542\n",
      "\n",
      "Epoch 1/24\n",
      "----------\n",
      "train Loss: 0.5216 Acc: 0.7664\n",
      "val Loss: 0.1976 Acc: 0.9346\n",
      "\n",
      "Epoch 2/24\n",
      "----------\n",
      "train Loss: 0.4934 Acc: 0.7910\n",
      "val Loss: 0.2406 Acc: 0.9216\n",
      "\n",
      "Epoch 3/24\n",
      "----------\n",
      "train Loss: 0.4379 Acc: 0.7910\n",
      "val Loss: 0.1889 Acc: 0.9477\n",
      "\n",
      "Epoch 4/24\n",
      "----------\n",
      "train Loss: 0.5015 Acc: 0.7828\n",
      "val Loss: 0.1866 Acc: 0.9477\n",
      "\n",
      "Epoch 5/24\n",
      "----------\n",
      "train Loss: 0.4684 Acc: 0.8033\n",
      "val Loss: 0.2839 Acc: 0.9020\n",
      "\n",
      "Epoch 6/24\n",
      "----------\n",
      "train Loss: 0.4603 Acc: 0.8115\n",
      "val Loss: 0.2123 Acc: 0.9346\n",
      "\n",
      "Epoch 7/24\n",
      "----------\n",
      "train Loss: 0.3589 Acc: 0.8361\n",
      "val Loss: 0.1892 Acc: 0.9412\n",
      "\n",
      "Epoch 8/24\n",
      "----------\n",
      "train Loss: 0.3146 Acc: 0.8689\n",
      "val Loss: 0.1778 Acc: 0.9477\n",
      "\n",
      "Epoch 9/24\n",
      "----------\n",
      "train Loss: 0.3727 Acc: 0.8402\n",
      "val Loss: 0.2042 Acc: 0.9412\n",
      "\n",
      "Epoch 10/24\n",
      "----------\n",
      "train Loss: 0.3716 Acc: 0.8443\n",
      "val Loss: 0.1976 Acc: 0.9412\n",
      "\n",
      "Epoch 11/24\n",
      "----------\n",
      "train Loss: 0.3410 Acc: 0.8402\n",
      "val Loss: 0.2011 Acc: 0.9346\n",
      "\n",
      "Epoch 12/24\n",
      "----------\n",
      "train Loss: 0.3213 Acc: 0.8607\n",
      "val Loss: 0.1864 Acc: 0.9542\n",
      "\n",
      "Epoch 13/24\n",
      "----------\n",
      "train Loss: 0.4718 Acc: 0.7828\n",
      "val Loss: 0.1974 Acc: 0.9477\n",
      "\n",
      "Epoch 14/24\n",
      "----------\n",
      "train Loss: 0.3899 Acc: 0.8279\n",
      "val Loss: 0.1824 Acc: 0.9477\n",
      "\n",
      "Epoch 15/24\n",
      "----------\n",
      "train Loss: 0.2885 Acc: 0.8770\n",
      "val Loss: 0.1820 Acc: 0.9412\n",
      "\n",
      "Epoch 16/24\n",
      "----------\n",
      "train Loss: 0.3358 Acc: 0.8607\n",
      "val Loss: 0.1790 Acc: 0.9477\n",
      "\n",
      "Epoch 17/24\n",
      "----------\n",
      "train Loss: 0.2859 Acc: 0.8852\n",
      "val Loss: 0.1793 Acc: 0.9412\n",
      "\n",
      "Epoch 18/24\n",
      "----------\n",
      "train Loss: 0.3722 Acc: 0.8402\n",
      "val Loss: 0.1906 Acc: 0.9412\n",
      "\n",
      "Epoch 19/24\n",
      "----------\n",
      "train Loss: 0.3835 Acc: 0.8279\n",
      "val Loss: 0.2131 Acc: 0.9346\n",
      "\n",
      "Epoch 20/24\n",
      "----------\n",
      "train Loss: 0.3686 Acc: 0.8402\n",
      "val Loss: 0.1968 Acc: 0.9412\n",
      "\n",
      "Epoch 21/24\n",
      "----------\n",
      "train Loss: 0.2788 Acc: 0.8893\n",
      "val Loss: 0.2005 Acc: 0.9412\n",
      "\n",
      "Epoch 22/24\n",
      "----------\n",
      "train Loss: 0.2924 Acc: 0.8730\n",
      "val Loss: 0.1783 Acc: 0.9346\n",
      "\n",
      "Epoch 23/24\n",
      "----------\n",
      "train Loss: 0.3389 Acc: 0.8525\n",
      "val Loss: 0.2017 Acc: 0.9346\n",
      "\n",
      "Epoch 24/24\n",
      "----------\n",
      "train Loss: 0.3429 Acc: 0.8525\n",
      "val Loss: 0.1810 Acc: 0.9542\n",
      "\n",
      "Training complete in 1m 22s\n",
      "Best val Acc: 0.954248\n"
     ]
    }
   ],
   "source": [
    "import torch\n",
    "import torch.nn as nn\n",
    "import torch.optim as optim\n",
    "from torch.optim import lr_scheduler\n",
    "import numpy as np\n",
    "import torchvision\n",
    "from torchvision import datasets, models, transforms\n",
    "import matplotlib.pyplot as plt\n",
    "import time\n",
    "import os\n",
    "import copy\n",
    "\n",
    "mean = np.array([0.5, 0.5, 0.5])\n",
    "std = np.array([0.25, 0.25, 0.25])\n",
    "\n",
    "data_transforms = {\n",
    "    'train': transforms.Compose([\n",
    "        transforms.RandomResizedCrop(224),\n",
    "        transforms.RandomHorizontalFlip(),\n",
    "        transforms.ToTensor(),\n",
    "        transforms.Normalize(mean, std)\n",
    "    ]),\n",
    "    'val': transforms.Compose([\n",
    "        transforms.Resize(256),\n",
    "        transforms.CenterCrop(224),\n",
    "        transforms.ToTensor(),\n",
    "        transforms.Normalize(mean, std)\n",
    "    ]),\n",
    "}\n",
    "\n",
    "\n",
    "data_dir = r'C:/Users/merug/pytourch/data/hymenoptera_data'\n",
    "image_datasets = {x: datasets.ImageFolder(os.path.join(data_dir, x),\n",
    "                                          data_transforms[x])\n",
    "                  for x in ['train', 'val']}\n",
    "dataloaders = {x: torch.utils.data.DataLoader(image_datasets[x], batch_size=4,\n",
    "                                             shuffle=True, num_workers=0)\n",
    "              for x in ['train', 'val']}\n",
    "dataset_sizes = {x: len(image_datasets[x]) for x in ['train', 'val']}\n",
    "class_names = image_datasets['train'].classes\n",
    "\n",
    "device = torch.device(\"cuda:0\" if torch.cuda.is_available() else \"cpu\")\n",
    "print(class_names)\n",
    "\n",
    "\n",
    "def imshow(inp, title):\n",
    "    \"\"\"Imshow for Tensor.\"\"\"\n",
    "    inp = inp.numpy().transpose((1, 2, 0))\n",
    "    inp = std * inp + mean\n",
    "    inp = np.clip(inp, 0, 1)\n",
    "    plt.imshow(inp)\n",
    "    plt.title(title)\n",
    "    plt.show()\n",
    "\n",
    "\n",
    "# Get a batch of training data\n",
    "inputs, classes = next(iter(dataloaders['train']))\n",
    "\n",
    "# Make a grid from batch\n",
    "out = torchvision.utils.make_grid(inputs)\n",
    "\n",
    "imshow(out, title=[class_names[x] for x in classes])\n",
    "\n",
    "def train_model(model, criterion, optimizer, scheduler, num_epochs=25):\n",
    "    since = time.time()\n",
    "\n",
    "    best_model_wts = copy.deepcopy(model.state_dict())\n",
    "    best_acc = 0.0\n",
    "\n",
    "    for epoch in range(num_epochs):\n",
    "        print('Epoch {}/{}'.format(epoch, num_epochs - 1))\n",
    "        print('-' * 10)\n",
    "\n",
    "        # Each epoch has a training and validation phase\n",
    "        for phase in ['train', 'val']:\n",
    "            if phase == 'train':\n",
    "                model.train()  # Set model to training mode\n",
    "            else:\n",
    "                model.eval()   # Set model to evaluate mode\n",
    "\n",
    "            running_loss = 0.0\n",
    "            running_corrects = 0\n",
    "\n",
    "            # Iterate over data.\n",
    "            for inputs, labels in dataloaders[phase]:\n",
    "                inputs = inputs.to(device)\n",
    "                labels = labels.to(device)\n",
    "\n",
    "                # forward\n",
    "                # track history if only in train\n",
    "                with torch.set_grad_enabled(phase == 'train'):\n",
    "                    outputs = model(inputs)\n",
    "                    _, preds = torch.max(outputs, 1)\n",
    "                    loss = criterion(outputs, labels)\n",
    "\n",
    "                    # backward + optimize only if in training phase\n",
    "                    if phase == 'train':\n",
    "                        optimizer.zero_grad()\n",
    "                        loss.backward()\n",
    "                        optimizer.step()\n",
    "\n",
    "                # statistics\n",
    "                running_loss += loss.item() * inputs.size(0)\n",
    "                running_corrects += torch.sum(preds == labels.data)\n",
    "\n",
    "            if phase == 'train':\n",
    "                scheduler.step()\n",
    "\n",
    "            epoch_loss = running_loss / dataset_sizes[phase]\n",
    "            epoch_acc = running_corrects.double() / dataset_sizes[phase]\n",
    "\n",
    "            print('{} Loss: {:.4f} Acc: {:.4f}'.format(\n",
    "                phase, epoch_loss, epoch_acc))\n",
    "\n",
    "            # deep copy the model\n",
    "            if phase == 'val' and epoch_acc > best_acc:\n",
    "                best_acc = epoch_acc\n",
    "                best_model_wts = copy.deepcopy(model.state_dict())\n",
    "\n",
    "        print()\n",
    "\n",
    "    time_elapsed = time.time() - since\n",
    "    print('Training complete in {:.0f}m {:.0f}s'.format(\n",
    "        time_elapsed // 60, time_elapsed % 60))\n",
    "    print('Best val Acc: {:4f}'.format(best_acc))\n",
    "\n",
    "    # load best model weights\n",
    "    model.load_state_dict(best_model_wts)\n",
    "    return model\n",
    "\n",
    "\n",
    "#### Finetuning the convnet ####\n",
    "# Load a pretrained model and reset final fully connected layer.\n",
    "\n",
    "model = models.resnet18(pretrained=True)\n",
    "num_ftrs = model.fc.in_features\n",
    "# Here the size of each output sample is set to 2.\n",
    "# Alternatively, it can be generalized to nn.Linear(num_ftrs, len(class_names)).\n",
    "model.fc = nn.Linear(num_ftrs, 2)\n",
    "\n",
    "model = model.to(device)\n",
    "\n",
    "criterion = nn.CrossEntropyLoss()\n",
    "\n",
    "# Observe that all parameters are being optimized\n",
    "optimizer = optim.SGD(model.parameters(), lr=0.001)\n",
    "\n",
    "# StepLR Decays the learning rate of each parameter group by gamma every step_size epochs\n",
    "# Decay LR by a factor of 0.1 every 7 epochs\n",
    "# Learning rate scheduling should be applied after optimizer’s update\n",
    "# e.g., you should write your code this way:\n",
    "# for epoch in range(100):\n",
    "#     train(...)\n",
    "#     validate(...)\n",
    "#     scheduler.step()\n",
    "\n",
    "step_lr_scheduler = lr_scheduler.StepLR(optimizer, step_size=7, gamma=0.1)\n",
    "\n",
    "model = train_model(model, criterion, optimizer, step_lr_scheduler, num_epochs=25)\n",
    "\n",
    "\n",
    "#### ConvNet as fixed feature extractor ####\n",
    "# Here, we need to freeze all the network except the final layer.\n",
    "# We need to set requires_grad == False to freeze the parameters so that the gradients are not computed in backward()\n",
    "model_conv = torchvision.models.resnet18(pretrained=True)\n",
    "for param in model_conv.parameters():\n",
    "    param.requires_grad = False\n",
    "\n",
    "# Parameters of newly constructed modules have requires_grad=True by default\n",
    "num_ftrs = model_conv.fc.in_features\n",
    "model_conv.fc = nn.Linear(num_ftrs, 2)\n",
    "\n",
    "model_conv = model_conv.to(device)\n",
    "\n",
    "criterion = nn.CrossEntropyLoss()\n",
    "\n",
    "# Observe that only parameters of final layer are being optimized as\n",
    "# opposed to before.\n",
    "optimizer_conv = optim.SGD(model_conv.fc.parameters(), lr=0.001, momentum=0.9)\n",
    "\n",
    "# Decay LR by a factor of 0.1 every 7 epochs\n",
    "exp_lr_scheduler = lr_scheduler.StepLR(optimizer_conv, step_size=7, gamma=0.1)\n",
    "\n",
    "model_conv = train_model(model_conv, criterion, optimizer_conv,\n",
    "                         exp_lr_scheduler, num_epochs=25)"
   ]
  },
  {
   "cell_type": "markdown",
   "id": "d37c05be-87f8-4343-bfbd-bd2d02ac9269",
   "metadata": {},
   "source": [
    "# Tensorboard"
   ]
  },
  {
   "cell_type": "code",
   "execution_count": 77,
   "id": "032e3945-454d-414f-af9c-7c8bdc551995",
   "metadata": {},
   "outputs": [
    {
     "name": "stdout",
     "output_type": "stream",
     "text": [
      "Requirement already satisfied: tensorboard in c:\\users\\merug\\appdata\\roaming\\python\\python311\\site-packages (2.13.0)\n",
      "Requirement already satisfied: absl-py>=0.4 in c:\\users\\merug\\appdata\\roaming\\python\\python311\\site-packages (from tensorboard) (1.4.0)\n",
      "Requirement already satisfied: grpcio>=1.48.2 in c:\\users\\merug\\appdata\\roaming\\python\\python311\\site-packages (from tensorboard) (1.58.0)\n",
      "Requirement already satisfied: google-auth<3,>=1.6.3 in c:\\users\\merug\\appdata\\roaming\\python\\python311\\site-packages (from tensorboard) (2.23.0)\n",
      "Requirement already satisfied: google-auth-oauthlib<1.1,>=0.5 in c:\\users\\merug\\appdata\\roaming\\python\\python311\\site-packages (from tensorboard) (1.0.0)\n",
      "Requirement already satisfied: markdown>=2.6.8 in c:\\users\\merug\\appdata\\roaming\\python\\python311\\site-packages (from tensorboard) (3.4.4)\n",
      "Requirement already satisfied: numpy>=1.12.0 in c:\\users\\merug\\anaconda3\\envs\\cuda\\lib\\site-packages (from tensorboard) (1.24.3)\n",
      "Requirement already satisfied: protobuf>=3.19.6 in c:\\users\\merug\\anaconda3\\envs\\cuda\\lib\\site-packages (from tensorboard) (4.25.2)\n",
      "Requirement already satisfied: requests<3,>=2.21.0 in c:\\users\\merug\\appdata\\roaming\\python\\python311\\site-packages (from tensorboard) (2.31.0)\n",
      "Requirement already satisfied: setuptools>=41.0.0 in c:\\users\\merug\\anaconda3\\envs\\cuda\\lib\\site-packages (from tensorboard) (68.0.0)\n",
      "Requirement already satisfied: tensorboard-data-server<0.8.0,>=0.7.0 in c:\\users\\merug\\anaconda3\\envs\\cuda\\lib\\site-packages (from tensorboard) (0.7.2)\n",
      "Requirement already satisfied: werkzeug>=1.0.1 in c:\\users\\merug\\anaconda3\\envs\\cuda\\lib\\site-packages (from tensorboard) (3.0.1)\n",
      "Requirement already satisfied: wheel>=0.26 in c:\\users\\merug\\anaconda3\\envs\\cuda\\lib\\site-packages (from tensorboard) (0.41.2)\n",
      "Requirement already satisfied: cachetools<6.0,>=2.0.0 in c:\\users\\merug\\appdata\\roaming\\python\\python311\\site-packages (from google-auth<3,>=1.6.3->tensorboard) (5.3.1)\n",
      "Requirement already satisfied: pyasn1-modules>=0.2.1 in c:\\users\\merug\\appdata\\roaming\\python\\python311\\site-packages (from google-auth<3,>=1.6.3->tensorboard) (0.3.0)\n",
      "Requirement already satisfied: rsa<5,>=3.1.4 in c:\\users\\merug\\appdata\\roaming\\python\\python311\\site-packages (from google-auth<3,>=1.6.3->tensorboard) (4.9)\n",
      "Requirement already satisfied: urllib3<2.0 in c:\\users\\merug\\anaconda3\\envs\\cuda\\lib\\site-packages (from google-auth<3,>=1.6.3->tensorboard) (1.26.18)\n",
      "Requirement already satisfied: requests-oauthlib>=0.7.0 in c:\\users\\merug\\appdata\\roaming\\python\\python311\\site-packages (from google-auth-oauthlib<1.1,>=0.5->tensorboard) (1.3.1)\n",
      "Requirement already satisfied: charset-normalizer<4,>=2 in c:\\users\\merug\\appdata\\roaming\\python\\python311\\site-packages (from requests<3,>=2.21.0->tensorboard) (3.2.0)\n",
      "Requirement already satisfied: idna<4,>=2.5 in c:\\users\\merug\\appdata\\roaming\\python\\python311\\site-packages (from requests<3,>=2.21.0->tensorboard) (3.4)\n",
      "Requirement already satisfied: certifi>=2017.4.17 in c:\\users\\merug\\appdata\\roaming\\python\\python311\\site-packages (from requests<3,>=2.21.0->tensorboard) (2023.7.22)\n",
      "Requirement already satisfied: MarkupSafe>=2.1.1 in c:\\users\\merug\\appdata\\roaming\\python\\python311\\site-packages (from werkzeug>=1.0.1->tensorboard) (2.1.3)\n",
      "Requirement already satisfied: pyasn1<0.6.0,>=0.4.6 in c:\\users\\merug\\anaconda3\\envs\\cuda\\lib\\site-packages (from pyasn1-modules>=0.2.1->google-auth<3,>=1.6.3->tensorboard) (0.5.1)\n",
      "Requirement already satisfied: oauthlib>=3.0.0 in c:\\users\\merug\\anaconda3\\envs\\cuda\\lib\\site-packages (from requests-oauthlib>=0.7.0->google-auth-oauthlib<1.1,>=0.5->tensorboard) (3.2.2)\n"
     ]
    }
   ],
   "source": [
    "!pip install tensorboard"
   ]
  },
  {
   "cell_type": "code",
   "execution_count": 79,
   "id": "f2b6b79d-3a03-46d6-a863-2afd28dbd901",
   "metadata": {},
   "outputs": [
    {
     "name": "stdout",
     "output_type": "stream",
     "text": [
      "Epoch [1/1], Step [100/938], Loss: 0.4260\n",
      "Epoch [1/1], Step [200/938], Loss: 0.3359\n",
      "Epoch [1/1], Step [300/938], Loss: 0.3744\n",
      "Epoch [1/1], Step [400/938], Loss: 0.1390\n",
      "Epoch [1/1], Step [500/938], Loss: 0.1679\n",
      "Epoch [1/1], Step [600/938], Loss: 0.1939\n",
      "Epoch [1/1], Step [700/938], Loss: 0.2198\n",
      "Epoch [1/1], Step [800/938], Loss: 0.2607\n",
      "Epoch [1/1], Step [900/938], Loss: 0.0520\n",
      "Accuracy of the network on the 10000 test images: 95.53 %\n"
     ]
    },
    {
     "data": {
      "image/png": "[encoded data removed]",
      "text/plain": [
       "<Figure size 640x480 with 6 Axes>"
      ]
     },
     "metadata": {},
     "output_type": "display_data"
    }
   ],
   "source": [
    "import torch\n",
    "import torch.nn as nn\n",
    "import torchvision\n",
    "import torchvision.transforms as transforms\n",
    "import matplotlib.pyplot as plt\n",
    "\n",
    "############## TENSORBOARD ########################\n",
    "import sys\n",
    "import torch.nn.functional as F\n",
    "from torch.utils.tensorboard import SummaryWriter\n",
    "# default `log_dir` is \"runs\" - we'll be more specific here\n",
    "writer = SummaryWriter('runs/mnist1')\n",
    "###################################################\n",
    "\n",
    "# Device configuration\n",
    "device = torch.device('cuda' if torch.cuda.is_available() else 'cpu')\n",
    "\n",
    "# Hyper-parameters \n",
    "input_size = 784 # 28x28\n",
    "hidden_size = 500 \n",
    "num_classes = 10\n",
    "num_epochs = 1\n",
    "batch_size = 64\n",
    "learning_rate = 0.001\n",
    "\n",
    "# MNIST dataset \n",
    "train_dataset = torchvision.datasets.MNIST(root='./data', \n",
    "                                           train=True, \n",
    "                                           transform=transforms.ToTensor(),  \n",
    "                                           download=True)\n",
    "\n",
    "test_dataset = torchvision.datasets.MNIST(root='./data', \n",
    "                                          train=False, \n",
    "                                          transform=transforms.ToTensor())\n",
    "\n",
    "# Data loader\n",
    "train_loader = torch.utils.data.DataLoader(dataset=train_dataset, \n",
    "                                           batch_size=batch_size, \n",
    "                                           shuffle=True)\n",
    "\n",
    "test_loader = torch.utils.data.DataLoader(dataset=test_dataset, \n",
    "                                          batch_size=batch_size, \n",
    "                                          shuffle=False)\n",
    "\n",
    "examples = iter(test_loader)\n",
    "example_data, example_targets = next(examples)\n",
    "\n",
    "for i in range(6):\n",
    "    plt.subplot(2,3,i+1)\n",
    "    plt.imshow(example_data[i][0], cmap='gray')\n",
    "#plt.show()\n",
    "\n",
    "############## TENSORBOARD ########################\n",
    "img_grid = torchvision.utils.make_grid(example_data)\n",
    "writer.add_image('mnist_images', img_grid)\n",
    "#writer.close()\n",
    "#sys.exit()\n",
    "###################################################\n",
    "\n",
    "# Fully connected neural network with one hidden layer\n",
    "class NeuralNet(nn.Module):\n",
    "    def __init__(self, input_size, hidden_size, num_classes):\n",
    "        super(NeuralNet, self).__init__()\n",
    "        self.input_size = input_size\n",
    "        self.l1 = nn.Linear(input_size, hidden_size) \n",
    "        self.relu = nn.ReLU()\n",
    "        self.l2 = nn.Linear(hidden_size, num_classes)  \n",
    "    \n",
    "    def forward(self, x):\n",
    "        out = self.l1(x)\n",
    "        out = self.relu(out)\n",
    "        out = self.l2(out)\n",
    "        # no activation and no softmax at the end\n",
    "        return out\n",
    "\n",
    "model = NeuralNet(input_size, hidden_size, num_classes).to(device)\n",
    "\n",
    "# Loss and optimizer\n",
    "criterion = nn.CrossEntropyLoss()\n",
    "optimizer = torch.optim.Adam(model.parameters(), lr=learning_rate)  \n",
    "\n",
    "############## TENSORBOARD ########################\n",
    "writer.add_graph(model, example_data.reshape(-1, 28*28).to(device))\n",
    "#writer.close()\n",
    "#sys.exit()\n",
    "###################################################\n",
    "\n",
    "# Train the model\n",
    "running_loss = 0.0\n",
    "running_correct = 0\n",
    "n_total_steps = len(train_loader)\n",
    "for epoch in range(num_epochs):\n",
    "    for i, (images, labels) in enumerate(train_loader):  \n",
    "        # origin shape: [100, 1, 28, 28]\n",
    "        # resized: [100, 784]\n",
    "        images = images.reshape(-1, 28*28).to(device)\n",
    "        labels = labels.to(device)\n",
    "        \n",
    "        # Forward pass\n",
    "        outputs = model(images)\n",
    "        loss = criterion(outputs, labels)\n",
    "        \n",
    "        # Backward and optimize\n",
    "        optimizer.zero_grad()\n",
    "        loss.backward()\n",
    "        optimizer.step()\n",
    "        \n",
    "        running_loss += loss.item()\n",
    "\n",
    "        _, predicted = torch.max(outputs.data, 1)\n",
    "        running_correct += (predicted == labels).sum().item()\n",
    "        if (i+1) % 100 == 0:\n",
    "            print (f'Epoch [{epoch+1}/{num_epochs}], Step [{i+1}/{n_total_steps}], Loss: {loss.item():.4f}')\n",
    "            ############## TENSORBOARD ########################\n",
    "            writer.add_scalar('training loss', running_loss / 100, epoch * n_total_steps + i)\n",
    "            running_accuracy = running_correct / 100 / predicted.size(0)\n",
    "            writer.add_scalar('accuracy', running_accuracy, epoch * n_total_steps + i)\n",
    "            running_correct = 0\n",
    "            running_loss = 0.0\n",
    "            ###################################################\n",
    "\n",
    "# Test the model\n",
    "# In test phase, we don't need to compute gradients (for memory efficiency)\n",
    "class_labels = []\n",
    "class_preds = []\n",
    "with torch.no_grad():\n",
    "    n_correct = 0\n",
    "    n_samples = 0\n",
    "    for images, labels in test_loader:\n",
    "        images = images.reshape(-1, 28*28).to(device)\n",
    "        labels = labels.to(device)\n",
    "        outputs = model(images)\n",
    "        # max returns (value ,index)\n",
    "        values, predicted = torch.max(outputs.data, 1)\n",
    "        n_samples += labels.size(0)\n",
    "        n_correct += (predicted == labels).sum().item()\n",
    "\n",
    "        class_probs_batch = [F.softmax(output, dim=0) for output in outputs]\n",
    "\n",
    "        class_preds.append(class_probs_batch)\n",
    "        class_labels.append(labels)\n",
    "\n",
    "    # 10000, 10, and 10000, 1\n",
    "    # stack concatenates tensors along a new dimension\n",
    "    # cat concatenates tensors in the given dimension\n",
    "    class_preds = torch.cat([torch.stack(batch) for batch in class_preds])\n",
    "    class_labels = torch.cat(class_labels)\n",
    "\n",
    "    acc = 100.0 * n_correct / n_samples\n",
    "    print(f'Accuracy of the network on the 10000 test images: {acc} %')\n",
    "\n",
    "    ############## TENSORBOARD ########################\n",
    "    classes = range(10)\n",
    "    for i in classes:\n",
    "        labels_i = class_labels == i\n",
    "        preds_i = class_preds[:, i]\n",
    "        writer.add_pr_curve(str(i), labels_i, preds_i, global_step=0)\n",
    "        writer.close()\n",
    "    ###################################################"
   ]
  },
  {
   "cell_type": "markdown",
   "id": "aafc09e0-f016-41b5-8ba2-5cd9200fd3dc",
   "metadata": {},
   "source": [
    "# save and load models"
   ]
  },
  {
   "cell_type": "code",
   "execution_count": 80,
   "id": "79956c9c-b34e-4cff-b3b6-3a020d5e6c78",
   "metadata": {},
   "outputs": [
    {
     "name": "stdout",
     "output_type": "stream",
     "text": [
      "Parameter containing:\n",
      "tensor([[ 0.2130,  0.1731, -0.0423, -0.4068,  0.1411, -0.2215]],\n",
      "       requires_grad=True)\n",
      "Parameter containing:\n",
      "tensor([-0.3947], requires_grad=True)\n",
      "Parameter containing:\n",
      "tensor([[ 0.2130,  0.1731, -0.0423, -0.4068,  0.1411, -0.2215]],\n",
      "       requires_grad=True)\n",
      "Parameter containing:\n",
      "tensor([-0.3947], requires_grad=True)\n",
      "OrderedDict([('linear.weight', tensor([[ 0.2130,  0.1731, -0.0423, -0.4068,  0.1411, -0.2215]])), ('linear.bias', tensor([-0.3947]))])\n",
      "OrderedDict([('linear.weight', tensor([[ 0.2130,  0.1731, -0.0423, -0.4068,  0.1411, -0.2215]])), ('linear.bias', tensor([-0.3947]))])\n",
      "{'state': {}, 'param_groups': [{'lr': 0.01, 'momentum': 0, 'dampening': 0, 'weight_decay': 0, 'nesterov': False, 'maximize': False, 'foreach': None, 'differentiable': False, 'params': [0, 1]}]}\n",
      "{'state': {}, 'param_groups': [{'lr': 0.01, 'momentum': 0, 'dampening': 0, 'weight_decay': 0, 'nesterov': False, 'maximize': False, 'foreach': None, 'differentiable': False, 'params': [0, 1]}]}\n"
     ]
    },
    {
     "data": {
      "text/plain": [
       "' SAVING ON GPU/CPU \\n\\n# 1) Save on GPU, Load on CPU\\ndevice = torch.device(\"cuda\")\\nmodel.to(device)\\ntorch.save(model.state_dict(), PATH)\\n\\ndevice = torch.device(\\'cpu\\')\\nmodel = Model(*args, **kwargs)\\nmodel.load_state_dict(torch.load(PATH, map_location=device))\\n\\n# 2) Save on GPU, Load on GPU\\ndevice = torch.device(\"cuda\")\\nmodel.to(device)\\ntorch.save(model.state_dict(), PATH)\\n\\nmodel = Model(*args, **kwargs)\\nmodel.load_state_dict(torch.load(PATH))\\nmodel.to(device)\\n\\n# Note: Be sure to use the .to(torch.device(\\'cuda\\')) function \\n# on all model inputs, too!\\n\\n# 3) Save on CPU, Load on GPU\\ntorch.save(model.state_dict(), PATH)\\n\\ndevice = torch.device(\"cuda\")\\nmodel = Model(*args, **kwargs)\\nmodel.load_state_dict(torch.load(PATH, map_location=\"cuda:0\"))  # Choose whatever GPU device number you want\\nmodel.to(device)\\n\\n# This loads the model to a given GPU device. \\n# Next, be sure to call model.to(torch.device(\\'cuda\\')) to convert the model’s parameter tensors to CUDA tensors\\n'"
      ]
     },
     "execution_count": 80,
     "metadata": {},
     "output_type": "execute_result"
    }
   ],
   "source": [
    "import torch\n",
    "import torch.nn as nn\n",
    "\n",
    "''' 3 DIFFERENT METHODS TO REMEMBER:\n",
    " - torch.save(arg, PATH) # can be model, tensor, or dictionary\n",
    " - torch.load(PATH)\n",
    " - torch.load_state_dict(arg)\n",
    "'''\n",
    "\n",
    "''' 2 DIFFERENT WAYS OF SAVING\n",
    "# 1) lazy way: save whole model\n",
    "torch.save(model, PATH)\n",
    "\n",
    "# model class must be defined somewhere\n",
    "model = torch.load(PATH)\n",
    "model.eval()\n",
    "\n",
    "# 2) recommended way: save only the state_dict\n",
    "torch.save(model.state_dict(), PATH)\n",
    "\n",
    "# model must be created again with parameters\n",
    "model = Model(*args, **kwargs)\n",
    "model.load_state_dict(torch.load(PATH))\n",
    "model.eval()\n",
    "'''\n",
    "\n",
    "\n",
    "class Model(nn.Module):\n",
    "    def __init__(self, n_input_features):\n",
    "        super(Model, self).__init__()\n",
    "        self.linear = nn.Linear(n_input_features, 1)\n",
    "\n",
    "    def forward(self, x):\n",
    "        y_pred = torch.sigmoid(self.linear(x))\n",
    "        return y_pred\n",
    "\n",
    "model = Model(n_input_features=6)\n",
    "# train your model...\n",
    "\n",
    "####################save all ######################################\n",
    "for param in model.parameters():\n",
    "    print(param)\n",
    "\n",
    "# save and load entire model\n",
    "\n",
    "FILE = \"model.pth\"\n",
    "torch.save(model, FILE)\n",
    "\n",
    "loaded_model = torch.load(FILE)\n",
    "loaded_model.eval()\n",
    "\n",
    "for param in loaded_model.parameters():\n",
    "    print(param)\n",
    "\n",
    "\n",
    "############save only state dict #########################\n",
    "\n",
    "# save only state dict\n",
    "FILE = \"model.pth\"\n",
    "torch.save(model.state_dict(), FILE)\n",
    "\n",
    "print(model.state_dict())\n",
    "loaded_model = Model(n_input_features=6)\n",
    "loaded_model.load_state_dict(torch.load(FILE)) # it takes the loaded dictionary, not the path file itself\n",
    "loaded_model.eval()\n",
    "\n",
    "print(loaded_model.state_dict())\n",
    "\n",
    "\n",
    "###########load checkpoint#####################\n",
    "learning_rate = 0.01\n",
    "optimizer = torch.optim.SGD(model.parameters(), lr=learning_rate)\n",
    "\n",
    "checkpoint = {\n",
    "\"epoch\": 90,\n",
    "\"model_state\": model.state_dict(),\n",
    "\"optim_state\": optimizer.state_dict()\n",
    "}\n",
    "print(optimizer.state_dict())\n",
    "FILE = \"checkpoint.pth\"\n",
    "torch.save(checkpoint, FILE)\n",
    "\n",
    "model = Model(n_input_features=6)\n",
    "optimizer = torch.optim.SGD(model.parameters(), lr=0)\n",
    "\n",
    "checkpoint = torch.load(FILE)\n",
    "model.load_state_dict(checkpoint['model_state'])\n",
    "optimizer.load_state_dict(checkpoint['optim_state'])\n",
    "epoch = checkpoint['epoch']\n",
    "\n",
    "model.eval()\n",
    "# - or -\n",
    "# model.train()\n",
    "\n",
    "print(optimizer.state_dict())\n",
    "\n",
    "# Remember that you must call model.eval() to set dropout and batch normalization layers \n",
    "# to evaluation mode before running inference. Failing to do this will yield \n",
    "# inconsistent inference results. If you wish to resuming training, \n",
    "# call model.train() to ensure these layers are in training mode.\n",
    "\n",
    "\"\"\" SAVING ON GPU/CPU \n",
    "\n",
    "# 1) Save on GPU, Load on CPU\n",
    "device = torch.device(\"cuda\")\n",
    "model.to(device)\n",
    "torch.save(model.state_dict(), PATH)\n",
    "\n",
    "device = torch.device('cpu')\n",
    "model = Model(*args, **kwargs)\n",
    "model.load_state_dict(torch.load(PATH, map_location=device))\n",
    "\n",
    "# 2) Save on GPU, Load on GPU\n",
    "device = torch.device(\"cuda\")\n",
    "model.to(device)\n",
    "torch.save(model.state_dict(), PATH)\n",
    "\n",
    "model = Model(*args, **kwargs)\n",
    "model.load_state_dict(torch.load(PATH))\n",
    "model.to(device)\n",
    "\n",
    "# Note: Be sure to use the .to(torch.device('cuda')) function \n",
    "# on all model inputs, too!\n",
    "\n",
    "# 3) Save on CPU, Load on GPU\n",
    "torch.save(model.state_dict(), PATH)\n",
    "\n",
    "device = torch.device(\"cuda\")\n",
    "model = Model(*args, **kwargs)\n",
    "model.load_state_dict(torch.load(PATH, map_location=\"cuda:0\"))  # Choose whatever GPU device number you want\n",
    "model.to(device)\n",
    "\n",
    "# This loads the model to a given GPU device. \n",
    "# Next, be sure to call model.to(torch.device('cuda')) to convert the model’s parameter tensors to CUDA tensors\n",
    "\"\"\"\n"
   ]
  },
  {
   "cell_type": "code",
   "execution_count": null,
   "id": "9453f6c8-ef31-4a98-8ade-78e238597427",
   "metadata": {},
   "outputs": [],
   "source": []
  }
 ],
 "metadata": {
  "kernelspec": {
   "display_name": "Python 3 (ipykernel)",
   "language": "python",
   "name": "python3"
  },
  "language_info": {
   "codemirror_mode": {
    "name": "ipython",
    "version": 3
   },
   "file_extension": ".py",
   "mimetype": "text/x-python",
   "name": "python",
   "nbconvert_exporter": "python",
   "pygments_lexer": "ipython3",
   "version": "3.11.5"
  }
 },
 "nbformat": 4,
 "nbformat_minor": 5
}
