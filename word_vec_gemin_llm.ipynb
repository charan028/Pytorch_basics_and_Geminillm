{
 "cells": [
  {
   "cell_type": "markdown",
   "id": "junior-valve",
   "metadata": {},
   "source": [
    "Linear (in x) model\n",
    "\n",
    "$ $$y^p$$ = m $$x$$ + b $, results in the following error\n",
    "\n",
    "$e(m, b)=\\sum_{i=0}^{n-1} ($$y^t_i$$ -m $$x_i$$ -b)^2$ <br>\n"
   ]
  },
  {
   "cell_type": "markdown",
   "id": "brutal-dancing",
   "metadata": {},
   "source": [
    "Non-linear (in x) model\n",
    "\n",
    "$ $$y^p$$ = r $$x^3$$ + s $$x^2$$  + m $$x$$ +b $, results in the following loss\n",
    "\n",
    "$e(r, s, m, b)=\\sum_{i=0}^{n-1} ($$y^t_i$$ -r \\space $$x^3_i$$ -s \\space $$x^2_i$$ -m \\space $$x_i$$ -b)^2$ <br>\n"
   ]
  },
  {
   "cell_type": "markdown",
   "id": "adverse-trial",
   "metadata": {},
   "source": [
    "$r, s, m$ and $b$ are constants. Superscript integers represent powers (exponentiation).\n",
    "\n",
    "Note that $ $$y^p$$ $ is still $\\underline {linear} $ in $r, s, m$ and $b$."
   ]
  },
  {
   "cell_type": "markdown",
   "id": "circular-california",
   "metadata": {},
   "source": [
    "$\\frac{\\partial e}{\\partial m}$ <br>\n",
    "\n",
    "\n",
    "= $\\frac {\\partial } {\\partial m} ( \\sum_{i=0}^{n-1} (y^t_i  -r \\space $$x^3_i$$ -s \\space $$x^2_i$$ -m \\space $$x_i$$ -b)^2 ) $\n",
    "\n",
    "\n",
    "$ = \\sum_{i=0}^{n-1} \\frac {\\partial (y^t_i -r \\space x^3_i -s \\space x^2_i -m \\space x_i -b)^2 } {\\partial m} $ <br>\n",
    "\n",
    "$ = \\sum_{i=0}^{n-1} 2(y^t_i -r \\space x^3_i -s \\space x^2_i -m \\space x_i -b) \\frac {\\partial (y^t_i -r \\space x^3_i -s \\space x^2_i -m \\space x_i -b) } {\\partial m} $ <br>\n",
    "\n",
    "\n",
    "$ = \\sum_{i=0}^{n-1} 2(y^t_i -r \\space x^3_i -s \\space x^2_i -m \\space x_i -b) (-x_i) $ <br>\n",
    "\n",
    "$ = -2 \\sum_{i=0}^{n-1}e_ix_i$\n",
    "\n",
    "where $ e_i = (y^t_i -r \\space x^3_i -s \\space x^2_i -m \\space x_i -b)$. Using the bar notation, where bar means average,\n",
    "\n",
    "$\\frac{1}{n} \\frac{\\partial e}{\\partial m} = -2 \\overline {ex} $. &emsp; &emsp;  &emsp; &emsp; &emsp; &emsp;  &emsp; &emsp;  &nbsp; $(1)$<br>\n",
    "\n",
    "Similarly, we can derive\n",
    "\n",
    "$\\frac{1}{n} \\frac{\\partial e}{\\partial b} = -2 \\overline {e} $, &emsp; &emsp;  &emsp; &emsp; &emsp; &emsp;  &emsp; &emsp;  &emsp; $(2)$\n",
    "\n",
    "$\\frac{1}{n} \\frac{\\partial e}{\\partial r} = -2 \\overline {ex^3} $, &emsp; &emsp;  &emsp; &emsp; &emsp; &emsp;  &emsp; &emsp;  $(3)$\n",
    "\n",
    "and\n",
    "\n",
    "$\\frac{1}{n} \\frac{\\partial e}{\\partial s} = -2 \\overline {ex^2} $. &emsp; &emsp;  &emsp; &emsp; &emsp; &emsp;  &emsp; &emsp;  $(4)$\n"
   ]
  },
  {
   "cell_type": "markdown",
   "id": "sought-favorite",
   "metadata": {},
   "source": [
    "Assume initial values for $m, b, r$ and $s$. Then iterate using,\n",
    "\n",
    "$m = m - C \\frac{\\partial e}{\\partial m}$\n",
    "\n",
    "$b = b - C \\frac{\\partial e}{\\partial b}$\n",
    "\n",
    "$r = r - C \\frac{\\partial e}{\\partial r}$\n",
    "\n",
    "$s = s - C \\frac{\\partial e}{\\partial s}$"
   ]
  },
  {
   "cell_type": "code",
   "execution_count": 36,
   "id": "acquired-limitation",
   "metadata": {},
   "outputs": [
    {
     "name": "stderr",
     "output_type": "stream",
     "text": [
      "[nltk_data] Downloading package stopwords to\n",
      "[nltk_data]     C:\\Users\\merug\\AppData\\Roaming\\nltk_data...\n",
      "[nltk_data]   Package stopwords is already up-to-date!\n",
      "[nltk_data] Downloading package punkt to\n",
      "[nltk_data]     C:\\Users\\merug\\AppData\\Roaming\\nltk_data...\n",
      "[nltk_data]   Package punkt is already up-to-date!\n"
     ]
    }
   ],
   "source": [
    "import numpy as np\n",
    "import pandas as pd\n",
    "import torch\n",
    "import matplotlib.pyplot as plt\n",
    "import math\n",
    "from torch import nn\n",
    "from torch import Tensor\n",
    "from torch.utils.data import Dataset, DataLoader\n",
    "import matplotlib.pyplot as plt\n",
    "import seaborn as sns\n",
    "import nltk\n",
    "nltk.download('stopwords')\n",
    "nltk.download('punkt')\n",
    "from nltk.corpus import stopwords\n",
    "from nltk.tokenize import word_tokenize\n",
    "import re\n",
    "import gensim.downloader as api\n",
    "from gensim.models import Word2Vec\n",
    "w2v_news_obj = api.load('word2vec-google-news-300')"
   ]
  },
  {
   "cell_type": "code",
   "execution_count": 37,
   "id": "failing-iceland",
   "metadata": {},
   "outputs": [
    {
     "name": "stdout",
     "output_type": "stream",
     "text": [
      "-5.675305481334444 5.563812220118603\n",
      "0.0 1.0\n"
     ]
    }
   ],
   "source": [
    "x, y = np.loadtxt('data.txt')\n",
    "xS = 12*x-6\n",
    "print(xS.min(), xS.max())\n",
    "df = pd.DataFrame({\"x\": x, \"y_true\": y})\n",
    "noise = np.random.normal(0, 0.05, len(df))\n",
    "df['y_true'] = 2*df['x']*df['x']*df['x'] + 0.5*df['x'] + 5 + noise\n",
    "df['x3'] = df['x']*df['x']*df['x']\n",
    "df['x2'] = df['x']*df['x']\n",
    "df['x0'] = np.ones(len(df))\n",
    "df['xS'] = xS\n",
    "yt_min = df.y_true.min()\n",
    "yt_range = df.y_true.max() - yt_min\n",
    "df['y_true'] = (df['y_true'] - yt_min)/yt_range\n",
    "print(df.y_true.min(), df.y_true.max())"
   ]
  },
  {
   "cell_type": "code",
   "execution_count": 38,
   "id": "minute-brave",
   "metadata": {},
   "outputs": [],
   "source": [
    "# tx = torch.tensor(df[['x3','x2','x', 'x0']].to_numpy())\n",
    "#tx = torch.tensor(df[['xS', 'x0']].to_numpy())\n",
    "tx = torch.tensor(df[['x']].to_numpy())\n",
    "y_true = torch.tensor(df['y_true'].to_numpy(), dtype=torch.float).unsqueeze(1)"
   ]
  },
  {
   "cell_type": "code",
   "execution_count": 39,
   "id": "moved-television",
   "metadata": {},
   "outputs": [],
   "source": [
    "C=0.1"
   ]
  },
  {
   "cell_type": "code",
   "execution_count": 40,
   "id": "unknown-workshop",
   "metadata": {},
   "outputs": [],
   "source": [
    "class LinearModel(nn.Module):\n",
    "    def __init__(self):\n",
    "        super(LinearModel, self).__init__()\n",
    "        self.lin = nn.Sequential(\n",
    "            nn.Linear(1, 4),\n",
    "            nn.ReLU(),\n",
    "            nn.Linear(4, 4),\n",
    "            nn.ReLU(),\n",
    "            nn.Linear(4, 1),\n",
    "            nn.Sigmoid()\n",
    "        )\n",
    "        \n",
    "    def forward(self, input: Tensor) -> Tensor:\n",
    "        input = input.float()\n",
    "        return self.lin(input)\n"
   ]
  },
  {
   "cell_type": "code",
   "execution_count": 41,
   "id": "greenhouse-rwanda",
   "metadata": {},
   "outputs": [],
   "source": [
    "# def loss_fn(y_pred, y_true):\n",
    "#     e = y_pred - y_true\n",
    "#     return (e*e).mean()\n",
    "loss_fn = nn.MSELoss()"
   ]
  },
  {
   "cell_type": "code",
   "execution_count": 42,
   "id": "sustainable-tennessee",
   "metadata": {},
   "outputs": [
    {
     "name": "stdout",
     "output_type": "stream",
     "text": [
      "pm before:  Parameter containing:\n",
      "tensor([[-0.2580],\n",
      "        [ 0.7558],\n",
      "        [-0.3918],\n",
      "        [ 0.1405]], requires_grad=True) None\n",
      "pm before:  Parameter containing:\n",
      "tensor([ 0.6149,  0.2266, -0.6179, -0.1998], requires_grad=True) None\n",
      "pm before:  Parameter containing:\n",
      "tensor([[ 0.0885,  0.4712, -0.2893,  0.0498],\n",
      "        [ 0.1773,  0.1198,  0.0410,  0.3134],\n",
      "        [ 0.2929, -0.2637,  0.2388, -0.2808],\n",
      "        [ 0.2829, -0.3565, -0.3640, -0.4859]], requires_grad=True) None\n",
      "pm before:  Parameter containing:\n",
      "tensor([-0.3043,  0.2026,  0.2544,  0.2483], requires_grad=True) None\n",
      "pm before:  Parameter containing:\n",
      "tensor([[-0.3677,  0.1362, -0.2839, -0.2362]], requires_grad=True) None\n",
      "pm before:  Parameter containing:\n",
      "tensor([0.3923], requires_grad=True) None\n",
      "iter, loss:  0 tensor(0.1417, grad_fn=<MseLossBackward0>)\n",
      "iter, loss:  500 tensor(0.0199, grad_fn=<MseLossBackward0>)\n",
      "iter, loss:  1000 tensor(0.0061, grad_fn=<MseLossBackward0>)\n",
      "iter, loss:  1500 tensor(0.0035, grad_fn=<MseLossBackward0>)\n",
      "iter, loss:  2000 tensor(0.0031, grad_fn=<MseLossBackward0>)\n",
      "iter, loss:  2500 tensor(0.0031, grad_fn=<MseLossBackward0>)\n",
      "iter, loss:  3000 tensor(0.0031, grad_fn=<MseLossBackward0>)\n",
      "iter, loss:  3500 tensor(0.0031, grad_fn=<MseLossBackward0>)\n",
      "iter, loss:  4000 tensor(0.0031, grad_fn=<MseLossBackward0>)\n",
      "iter, loss:  4500 tensor(0.0031, grad_fn=<MseLossBackward0>)\n",
      "iter, loss:  5000 tensor(0.0031, grad_fn=<MseLossBackward0>)\n",
      "pm after:  Parameter containing:\n",
      "tensor([[-0.8758],\n",
      "        [ 1.4015],\n",
      "        [-0.3918],\n",
      "        [ 0.1405]], requires_grad=True) tensor([[-6.7197e-06],\n",
      "        [ 3.6930e-06],\n",
      "        [ 0.0000e+00],\n",
      "        [ 0.0000e+00]])\n",
      "pm after:  Parameter containing:\n",
      "tensor([ 1.1759, -0.1490, -0.6179, -0.1998], requires_grad=True) tensor([-2.5281e-05, -7.6000e-05,  0.0000e+00,  0.0000e+00])\n",
      "pm after:  Parameter containing:\n",
      "tensor([[ 0.0453,  0.3474, -0.2893,  0.0498],\n",
      "        [ 0.1616,  0.4780,  0.0410,  0.3134],\n",
      "        [ 0.9927, -0.8512,  0.2388, -0.2808],\n",
      "        [ 0.9468, -0.8505, -0.3640, -0.4859]], requires_grad=True) tensor([[ 0.0000e+00,  0.0000e+00,  0.0000e+00,  0.0000e+00],\n",
      "        [ 5.5291e-06,  3.7486e-06,  0.0000e+00,  0.0000e+00],\n",
      "        [-1.2978e-05, -8.7990e-06,  0.0000e+00,  0.0000e+00],\n",
      "        [-1.2518e-05, -8.4872e-06,  0.0000e+00,  0.0000e+00]])\n",
      "pm after:  Parameter containing:\n",
      "tensor([-0.4326,  0.4308,  0.6933,  0.7080], requires_grad=True) tensor([ 0.0000e+00,  5.8624e-06, -1.3760e-05, -1.3273e-05])\n",
      "pm after:  Parameter containing:\n",
      "tensor([[-0.3500,  0.6102, -1.4322, -1.3815]], requires_grad=True) tensor([[0.0000e+00, 8.5400e-06, 1.0427e-05, 1.0157e-05]])\n",
      "pm after:  Parameter containing:\n",
      "tensor([0.9991], requires_grad=True) tensor([9.6078e-06])\n",
      "loss after:  tensor(0.0031, grad_fn=<MseLossBackward0>)\n"
     ]
    }
   ],
   "source": [
    "#print('pm before: ', pm1, pm2)\n",
    "y_pred = None\n",
    "loss = None\n",
    "lm = LinearModel()\n",
    "#lm = lm.double()\n",
    "optimizer = torch.optim.SGD(lm.parameters(), lr=C)\n",
    "for p in lm.parameters():\n",
    "    print('pm before: ', p, p.grad)\n",
    "for iter in range(5001):\n",
    "    #y_pred = forward(tx, pm1, pm2)\n",
    "    y_pred = lm(tx)\n",
    "    loss = loss_fn(y_pred, y_true)\n",
    "    if iter%500 == 0:\n",
    "        print('iter, loss: ', iter, loss)\n",
    "    optimizer.zero_grad()\n",
    "    loss.backward()\n",
    "    optimizer.step()\n",
    "\n",
    "#print('pm after: ', pm1, pm2)\n",
    "for p in lm.parameters():\n",
    "    print('pm after: ', p, p.grad)\n",
    "print('loss after: ', loss)"
   ]
  },
  {
   "cell_type": "code",
   "execution_count": 43,
   "id": "egyptian-cache",
   "metadata": {},
   "outputs": [],
   "source": [
    "df['y_pred'] = y_pred.detach().numpy()"
   ]
  },
  {
   "cell_type": "code",
   "execution_count": 44,
   "id": "numerical-mystery",
   "metadata": {},
   "outputs": [
    {
     "data": {
      "text/plain": [
       "<Axes: xlabel='x'>"
      ]
     },
     "execution_count": 44,
     "metadata": {},
     "output_type": "execute_result"
    },
    {
     "data": {
      "image/png": "[encoded data removed]",
      "text/plain": [
       "<Figure size 640x480 with 1 Axes>"
      ]
     },
     "metadata": {},
     "output_type": "display_data"
    }
   ],
   "source": [
    "df.sort_values('x').plot(x=\"x\", y=[\"y_true\", \"y_pred\"], style=['o','-'])"
   ]
  },
  {
   "cell_type": "code",
   "execution_count": 45,
   "id": "db30baa1-bf07-460d-8e2e-5bd7ab30ea43",
   "metadata": {},
   "outputs": [
    {
     "name": "stderr",
     "output_type": "stream",
     "text": [
      "C:\\Users\\merug\\AppData\\Local\\Temp\\ipykernel_11936\\515232985.py:1: ParserWarning: Falling back to the 'python' engine because the 'c' engine does not support regex separators (separators > 1 char and different from '\\s+' are interpreted as regex); you can avoid this warning by specifying engine='python'.\n",
      "  train_text=pd.read_csv('https://raw.githubusercontent.com/cardiffnlp/tweeteval/main/datasets/sentiment/val_text.txt',sep='delimiter',header=None,names=['text'])\n"
     ]
    }
   ],
   "source": [
    "train_text=pd.read_csv('https://raw.githubusercontent.com/cardiffnlp/tweeteval/main/datasets/sentiment/val_text.txt',sep='delimiter',header=None,names=['text'])\n",
    "label_train =pd.read_csv('https://raw.githubusercontent.com/cardiffnlp/tweeteval/main/datasets/sentiment/val_labels.txt',header=None,names=['label'])"
   ]
  },
  {
   "cell_type": "code",
   "execution_count": 46,
   "id": "50a716e2-2554-4b47-9fcb-9e235b6de8af",
   "metadata": {},
   "outputs": [],
   "source": [
    "stop_words = set(stopwords.words('english'))\n",
    "def preprocess(txt):\n",
    "    txt = txt.lower()\n",
    "    txt = re.sub(r'#\\w+', '', txt)\n",
    "    txt = re.sub(r'http\\S+', '', txt)\n",
    "    txt = re.sub(r'@\\w+', '', txt)\n",
    "    txt = re.sub(r'[^\\w\\s]', '', txt)\n",
    "    txt = re.sub(r'\\d+', '', txt)\n",
    "    tokens = word_tokenize(txt)\n",
    "    tokens_f=[]\n",
    "    for i in tokens:\n",
    "        if i not in tokens:\n",
    "            tokens_f.append(i)\n",
    "    return ' '.join(tokens)"
   ]
  },
  {
   "cell_type": "code",
   "execution_count": 47,
   "id": "19ab4608-9a35-44ea-9b14-4aca1bd87a17",
   "metadata": {},
   "outputs": [
    {
     "data": {
      "text/plain": [
       "0       dark souls april launch date confirmed with ne...\n",
       "1       national hot dog day national tequila day then...\n",
       "2       when girls become bandwagon fans of the packer...\n",
       "3          i may or may not have searched it up on google\n",
       "4       heres your starting tuesday morning line up at...\n",
       "                              ...                        \n",
       "1995    london ap prince george celebrates his second ...\n",
       "1996    harpers worst offense against refugees may be ...\n",
       "1997    hold on sam smith may do the theme to spectre ...\n",
       "1998    gon na watch final destination tonight i alway...\n",
       "1999    interview with devon alexander speed kills vid...\n",
       "Name: text, Length: 2000, dtype: object"
      ]
     },
     "execution_count": 47,
     "metadata": {},
     "output_type": "execute_result"
    }
   ],
   "source": [
    "train_text['text'].apply(preprocess)"
   ]
  },
  {
   "cell_type": "code",
   "execution_count": 48,
   "id": "5657229d-de06-4aff-9ac7-092ab72473cd",
   "metadata": {},
   "outputs": [],
   "source": [
    "data=pd.DataFrame({'text':train_text['text'].tolist(),'label':label_train['label'].tolist()})"
   ]
  },
  {
   "cell_type": "code",
   "execution_count": 49,
   "id": "790a3402-581f-4096-8d46-ad6e5b6d244f",
   "metadata": {},
   "outputs": [],
   "source": [
    "def get_embedding(text):\n",
    "    if isinstance(text, str):\n",
    "        wrd = text.split()\n",
    "    elif isinstance(text, list):\n",
    "        wrd = text\n",
    "    else:\n",
    "        wrd = [text]\n",
    "    emdbgs = []\n",
    "    for w in wrd:\n",
    "        if w in w2v_news_obj.key_to_index.keys():\n",
    "            emdbgs.append(w2v_news_obj[w])\n",
    "    if len(emdbgs) == 0:\n",
    "        return np.zeros(w2v_news_obj.vector_size)\n",
    "    else:\n",
    "        return np.mean(emdbgs, axis=0)\n",
    "\n"
   ]
  },
  {
   "cell_type": "code",
   "execution_count": 50,
   "id": "dc4f96ef-336f-4cfb-97b2-96c143454e66",
   "metadata": {},
   "outputs": [],
   "source": [
    "emdb_df=data['text'].apply(get_embedding)"
   ]
  },
  {
   "cell_type": "code",
   "execution_count": 51,
   "id": "17a2adf4-6862-4886-bc20-9fa8252f0050",
   "metadata": {},
   "outputs": [
    {
     "name": "stdout",
     "output_type": "stream",
     "text": [
      "-8.163281 -3.362235\n",
      "0.0 1.0\n"
     ]
    },
    {
     "name": "stderr",
     "output_type": "stream",
     "text": [
      "C:\\Users\\merug\\AppData\\Local\\Temp\\ipykernel_11936\\1780142972.py:1: FutureWarning: Returning a DataFrame from Series.apply when the supplied function returns a Series is deprecated and will be removed in a future version.\n",
      "  a, b = emdb_df.apply(lambda x: (x[0], x[1])).apply(pd.Series).values.T\n"
     ]
    }
   ],
   "source": [
    "a, b = emdb_df.apply(lambda x: (x[0], x[1])).apply(pd.Series).values.T\n",
    "aS = 12*a-6\n",
    "print(aS.min(), aS.max())\n",
    "df = pd.DataFrame({\"a\": a, \"b_true\": b})\n",
    "noise = np.random.normal(0, 0.05, len(df))\n",
    "df['b_true'] = 2*df['a']*df['a']*df['a'] + 0.5*df['a'] + 5 + noise\n",
    "df['a3'] = df['a']*df['a']*df['a']\n",
    "df['a2'] = df['a']*df['a']\n",
    "df['a0'] = np.ones(len(df))\n",
    "df['aS'] = aS\n",
    "bt_min = df.b_true.min()\n",
    "bt_range = df.b_true.max() - bt_min\n",
    "df['b_true'] = (df['b_true'] - bt_min)/bt_range\n",
    "print(df.b_true.min(), df.b_true.max())\n",
    "ta = torch.tensor(df[['a']].to_numpy())\n",
    "b_true = torch.tensor(df['b_true'].to_numpy(), dtype=torch.float).unsqueeze(1)\n",
    "C=0.1"
   ]
  },
  {
   "cell_type": "code",
   "execution_count": 52,
   "id": "9e7becee-f5c1-4a0d-8930-aa9df7f457ea",
   "metadata": {},
   "outputs": [],
   "source": [
    "class LinearModel(nn.Module):\n",
    "    def __init__(sf):\n",
    "        super(LinearModel, sf).__init__()\n",
    "        sf.lin = nn.Sequential(\n",
    "            nn.Linear(1, 4),\n",
    "            nn.ReLU(),\n",
    "            nn.Linear(4, 4),\n",
    "            nn.ReLU(),\n",
    "            nn.Linear(4, 1),\n",
    "            nn.Sigmoid()\n",
    "        )\n",
    "        \n",
    "    def forward(sf, input: Tensor) -> Tensor:\n",
    "        input = input.float()\n",
    "        return sf.lin(input)\n"
   ]
  },
  {
   "cell_type": "code",
   "execution_count": 53,
   "id": "f69763d0-3fa2-4754-b674-5ac1bb15c3de",
   "metadata": {},
   "outputs": [
    {
     "name": "stdout",
     "output_type": "stream",
     "text": [
      "pm before:  Parameter containing:\n",
      "tensor([[ 0.7019],\n",
      "        [ 0.6924],\n",
      "        [-0.9905],\n",
      "        [-0.7764]], requires_grad=True) None\n",
      "pm before:  Parameter containing:\n",
      "tensor([ 0.9521,  0.7836, -0.6942, -0.4726], requires_grad=True) None\n",
      "pm before:  Parameter containing:\n",
      "tensor([[-0.0145,  0.0308, -0.2253, -0.4901],\n",
      "        [-0.1842,  0.0249, -0.4161, -0.2832],\n",
      "        [-0.4466,  0.1228,  0.3948,  0.4218],\n",
      "        [-0.0960,  0.2625, -0.1367, -0.3298]], requires_grad=True) None\n",
      "pm before:  Parameter containing:\n",
      "tensor([-0.1877, -0.3322,  0.3255,  0.0891], requires_grad=True) None\n",
      "pm before:  Parameter containing:\n",
      "tensor([[ 0.0656,  0.2827,  0.0188, -0.3013]], requires_grad=True) None\n",
      "pm before:  Parameter containing:\n",
      "tensor([0.3551], requires_grad=True) None\n",
      "iter, loss:  0 tensor(0.0297, grad_fn=<MseLossBackward0>)\n",
      "iter, loss:  500 tensor(0.0247, grad_fn=<MseLossBackward0>)\n",
      "iter, loss:  1000 tensor(0.0247, grad_fn=<MseLossBackward0>)\n",
      "iter, loss:  1500 tensor(0.0247, grad_fn=<MseLossBackward0>)\n",
      "iter, loss:  2000 tensor(0.0247, grad_fn=<MseLossBackward0>)\n",
      "iter, loss:  2500 tensor(0.0247, grad_fn=<MseLossBackward0>)\n",
      "iter, loss:  3000 tensor(0.0247, grad_fn=<MseLossBackward0>)\n",
      "iter, loss:  3500 tensor(0.0247, grad_fn=<MseLossBackward0>)\n",
      "iter, loss:  4000 tensor(0.0247, grad_fn=<MseLossBackward0>)\n",
      "iter, loss:  4500 tensor(0.0246, grad_fn=<MseLossBackward0>)\n",
      "iter, loss:  5000 tensor(0.0246, grad_fn=<MseLossBackward0>)\n",
      "pm after:  Parameter containing:\n",
      "tensor([[ 0.7239],\n",
      "        [ 0.6352],\n",
      "        [-0.9905],\n",
      "        [-0.7764]], requires_grad=True) tensor([[-7.3721e-05],\n",
      "        [ 8.3069e-05],\n",
      "        [ 0.0000e+00],\n",
      "        [ 0.0000e+00]])\n",
      "pm after:  Parameter containing:\n",
      "tensor([ 0.9499,  0.8090, -0.6942, -0.4726], requires_grad=True) tensor([ 5.1791e-06, -7.5490e-06,  0.0000e+00,  0.0000e+00])\n",
      "pm after:  Parameter containing:\n",
      "tensor([[-0.0145,  0.0308, -0.2253, -0.4901],\n",
      "        [-0.1842,  0.0249, -0.4161, -0.2832],\n",
      "        [-0.4559,  0.1150,  0.3948,  0.4218],\n",
      "        [-0.1672,  0.1878, -0.1367, -0.3298]], requires_grad=True) tensor([[0.0000e+00, 0.0000e+00, 0.0000e+00, 0.0000e+00],\n",
      "        [0.0000e+00, 0.0000e+00, 0.0000e+00, 0.0000e+00],\n",
      "        [3.7003e-06, 3.1401e-06, 0.0000e+00, 0.0000e+00],\n",
      "        [2.7966e-04, 2.4645e-04, 0.0000e+00, 0.0000e+00]])\n",
      "pm after:  Parameter containing:\n",
      "tensor([-0.1877, -0.3322,  0.3151,  0.1844], requires_grad=True) tensor([ 0.0000e+00,  0.0000e+00,  4.3564e-06, -4.2852e-05])\n",
      "pm after:  Parameter containing:\n",
      "tensor([[ 0.0656,  0.2827,  0.0143, -0.3192]], requires_grad=True) tensor([[0.0000e+00, 0.0000e+00, 3.2985e-06, 2.6212e-05]])\n",
      "pm after:  Parameter containing:\n",
      "tensor([0.0651], requires_grad=True) tensor([0.0001])\n",
      "loss after:  tensor(0.0246, grad_fn=<MseLossBackward0>)\n"
     ]
    }
   ],
   "source": [
    "loss_fn = nn.MSELoss()\n",
    "#print('pm before: ', pm1, pm2)\n",
    "b_pred = None\n",
    "loss = None\n",
    "lmd = LinearModel()\n",
    "#lm = lm.double()\n",
    "optzr = torch.optim.SGD(lmd.parameters(), lr=C)\n",
    "for p in lmd.parameters():\n",
    "    print('pm before: ', p, p.grad)\n",
    "for iter in range(5001):\n",
    "    #y_pred = forward(tx, pm1, pm2)\n",
    "    b_pred = lmd(ta)\n",
    "    loss = loss_fn(b_pred, b_true)\n",
    "    if iter%500 == 0:\n",
    "        print('iter, loss: ', iter, loss)\n",
    "    optzr.zero_grad()\n",
    "    loss.backward()\n",
    "    optzr.step()\n",
    "\n",
    "#print('pm after: ', pm1, pm2)\n",
    "for p in lmd.parameters():\n",
    "    print('pm after: ', p, p.grad)\n",
    "print('loss after: ', loss)"
   ]
  },
  {
   "cell_type": "code",
   "execution_count": 54,
   "id": "ea0816fb-8214-4049-9106-b8f5ead71ed2",
   "metadata": {},
   "outputs": [
    {
     "data": {
      "text/plain": [
       "<Axes: xlabel='a'>"
      ]
     },
     "execution_count": 54,
     "metadata": {},
     "output_type": "execute_result"
    },
    {
     "data": {
      "image/png": "[encoded data removed]",
      "text/plain": [
       "<Figure size 640x480 with 1 Axes>"
      ]
     },
     "metadata": {},
     "output_type": "display_data"
    }
   ],
   "source": [
    "df['b_pred'] = b_pred.detach().numpy()\n",
    "df.sort_values('a').plot(x=\"a\", y=[\"b_true\", \"b_pred\"], style=['o','-'])"
   ]
  },
  {
   "cell_type": "code",
   "execution_count": 55,
   "id": "5dcd54dc-73a2-4d62-b200-4665578b534b",
   "metadata": {},
   "outputs": [
    {
     "name": "stdout",
     "output_type": "stream",
     "text": [
      "31\n"
     ]
    }
   ],
   "source": [
    "#data = pd.read_csv('data.txt', delimiter='\\t', header=None, names=['text', 'label'])\n",
    "#print(data)\n",
    "data['label'] = pd.factorize(data['label'])[0] \n",
    "labels = ['negative','neutral','positive']\n",
    "word2idx = {}\n",
    "idx = 0\n",
    "maxi=0\n",
    "for text in data['text']:\n",
    "    maxi=max(maxi,len(text.split()))\n",
    "    for word in text.split():\n",
    "        if word not in word2idx:\n",
    "            word2idx[word] = idx\n",
    "            idx += 1\n",
    "print(maxi)\n",
    "data['text'] = data['text'].apply(lambda x: [word2idx[word] for word in x.split()])\n"
   ]
  },
  {
   "cell_type": "code",
   "execution_count": 56,
   "id": "d3e6b64e-fa0b-4acd-8d89-74c74370ba5d",
   "metadata": {},
   "outputs": [
    {
     "data": {
      "text/plain": [
       "(2000, 2)"
      ]
     },
     "execution_count": 56,
     "metadata": {},
     "output_type": "execute_result"
    }
   ],
   "source": [
    "data.shape"
   ]
  },
  {
   "cell_type": "code",
   "execution_count": 57,
   "id": "f7de2e84-df4f-404c-8d01-5def0c34131c",
   "metadata": {},
   "outputs": [
    {
     "data": {
      "text/html": [
       "<div>\n",
       "<style scoped>\n",
       "    .dataframe tbody tr th:only-of-type {\n",
       "        vertical-align: middle;\n",
       "    }\n",
       "\n",
       "    .dataframe tbody tr th {\n",
       "        vertical-align: top;\n",
       "    }\n",
       "\n",
       "    .dataframe thead th {\n",
       "        text-align: right;\n",
       "    }\n",
       "</style>\n",
       "<table border=\"1\" class=\"dataframe\">\n",
       "  <thead>\n",
       "    <tr style=\"text-align: right;\">\n",
       "      <th></th>\n",
       "      <th>text</th>\n",
       "      <th>label</th>\n",
       "    </tr>\n",
       "  </thead>\n",
       "  <tbody>\n",
       "    <tr>\n",
       "      <th>0</th>\n",
       "      <td>[0, 1, 2, 3, 4, 5, 6, 7, 8, 9, 10, 11, 12]</td>\n",
       "      <td>0</td>\n",
       "    </tr>\n",
       "    <tr>\n",
       "      <th>1</th>\n",
       "      <td>[13, 14, 15, 16, 17, 18, 16, 19, 17, 20, 21, 2...</td>\n",
       "      <td>1</td>\n",
       "    </tr>\n",
       "    <tr>\n",
       "      <th>2</th>\n",
       "      <td>[27, 28, 29, 30, 31, 32, 11, 33, 34, 32, 35, 3...</td>\n",
       "      <td>2</td>\n",
       "    </tr>\n",
       "    <tr>\n",
       "      <th>3</th>\n",
       "      <td>[48, 49, 50, 51, 50, 52, 53, 54, 55, 56, 57, 58]</td>\n",
       "      <td>0</td>\n",
       "    </tr>\n",
       "    <tr>\n",
       "      <th>4</th>\n",
       "      <td>[59, 60, 61, 62, 63, 64, 56, 65, 66, 67, 68, 6...</td>\n",
       "      <td>0</td>\n",
       "    </tr>\n",
       "    <tr>\n",
       "      <th>...</th>\n",
       "      <td>...</td>\n",
       "      <td>...</td>\n",
       "    </tr>\n",
       "    <tr>\n",
       "      <th>1995</th>\n",
       "      <td>[11550, 11551, 2211, 2416, 736, 11552, 726, 31...</td>\n",
       "      <td>0</td>\n",
       "    </tr>\n",
       "    <tr>\n",
       "      <th>1996</th>\n",
       "      <td>[7534, 11555, 11556, 1739, 11557, 50, 228, 115...</td>\n",
       "      <td>0</td>\n",
       "    </tr>\n",
       "    <tr>\n",
       "      <th>1997</th>\n",
       "      <td>[11563, 5003, 2283, 3858, 50, 243, 11, 2671, 7...</td>\n",
       "      <td>1</td>\n",
       "    </tr>\n",
       "    <tr>\n",
       "      <th>1998</th>\n",
       "      <td>[555, 295, 11569, 11570, 414, 2508, 49, 1070, ...</td>\n",
       "      <td>0</td>\n",
       "    </tr>\n",
       "    <tr>\n",
       "      <th>1999</th>\n",
       "      <td>[11573, 68, 11574, 11575, 11576, 11577, 11578,...</td>\n",
       "      <td>0</td>\n",
       "    </tr>\n",
       "  </tbody>\n",
       "</table>\n",
       "<p>2000 rows × 2 columns</p>\n",
       "</div>"
      ],
      "text/plain": [
       "                                                   text  label\n",
       "0            [0, 1, 2, 3, 4, 5, 6, 7, 8, 9, 10, 11, 12]      0\n",
       "1     [13, 14, 15, 16, 17, 18, 16, 19, 17, 20, 21, 2...      1\n",
       "2     [27, 28, 29, 30, 31, 32, 11, 33, 34, 32, 35, 3...      2\n",
       "3      [48, 49, 50, 51, 50, 52, 53, 54, 55, 56, 57, 58]      0\n",
       "4     [59, 60, 61, 62, 63, 64, 56, 65, 66, 67, 68, 6...      0\n",
       "...                                                 ...    ...\n",
       "1995  [11550, 11551, 2211, 2416, 736, 11552, 726, 31...      0\n",
       "1996  [7534, 11555, 11556, 1739, 11557, 50, 228, 115...      0\n",
       "1997  [11563, 5003, 2283, 3858, 50, 243, 11, 2671, 7...      1\n",
       "1998  [555, 295, 11569, 11570, 414, 2508, 49, 1070, ...      0\n",
       "1999  [11573, 68, 11574, 11575, 11576, 11577, 11578,...      0\n",
       "\n",
       "[2000 rows x 2 columns]"
      ]
     },
     "execution_count": 57,
     "metadata": {},
     "output_type": "execute_result"
    }
   ],
   "source": [
    "data"
   ]
  },
  {
   "cell_type": "code",
   "execution_count": 58,
   "id": "c1f78b7a-e962-4730-858c-85df811d6963",
   "metadata": {},
   "outputs": [
    {
     "name": "stderr",
     "output_type": "stream",
     "text": [
      "C:\\Users\\merug\\AppData\\Local\\Temp\\ipykernel_11936\\3212239079.py:6: SettingWithCopyWarning: \n",
      "A value is trying to be set on a copy of a slice from a DataFrame\n",
      "\n",
      "See the caveats in the documentation: https://pandas.pydata.org/pandas-docs/stable/user_guide/indexing.html#returning-a-view-versus-a-copy\n",
      "  data.iloc[i]['text']=xl\n"
     ]
    }
   ],
   "source": [
    "for i in range(2000):\n",
    "    l=data.iloc[i]['text']\n",
    "    x=maxi-len(l)\n",
    "    xl=[0]*x\n",
    "    l.extend(xl)\n",
    "    data.iloc[i]['text']=xl\n",
    "    "
   ]
  },
  {
   "cell_type": "code",
   "execution_count": 59,
   "id": "c9f4e315-411d-4d58-a299-d77218941b60",
   "metadata": {},
   "outputs": [
    {
     "data": {
      "image/png": "[encoded data removed]",
      "text/plain": [
       "<Figure size 640x480 with 1 Axes>"
      ]
     },
     "metadata": {},
     "output_type": "display_data"
    }
   ],
   "source": [
    "plt.bar(labels,data['label'].value_counts(),color='green')\n",
    "plt.title('Distribution of labels')\n",
    "plt.show()\n"
   ]
  },
  {
   "cell_type": "code",
   "execution_count": 60,
   "id": "063da9f9-5322-4183-91d4-f753094fa71b",
   "metadata": {},
   "outputs": [],
   "source": [
    "from sklearn import metrics\n",
    "def evaluate_metric(model, ldr, crtr):\n",
    "    model.eval()\n",
    "    crrt=0\n",
    "    ttl=0\n",
    "    true_positive=0 \n",
    "    false_positive=0\n",
    "    true_negative=0\n",
    "    false_negative=0\n",
    "    loss_l = []\n",
    "    with torch.no_grad():\n",
    "        for text, lbl in ldr:\n",
    "            otp = model(text)\n",
    "            loss = crtr(otp, lbl)\n",
    "            loss_l.append(loss.item())\n",
    "            _, pdt = torch.max(otp.data, 1)\n",
    "            ttl += lbl.size(0)\n",
    "            crrt += (pdt == lbl).sum().item()\n",
    "            true_positive = true_positive+((pdt == 1) & (lbl == 1)).sum().item()\n",
    "            false_positive = false_positive+ ((pdt == 1) & (lbl == 0)).sum().item()\n",
    "            true_negative = true_negative+((pdt == 0) & (lbl == 0)).sum().item()\n",
    "            false_negative = false_negative+((pdt == 0) & (lbl == 1)).sum().item()\n",
    "\n",
    "    acc = crrt / ttl\n",
    "    precision = true_positive / (true_positive + false_positive)\n",
    "    recall = true_positive / (true_positive + false_negative)\n",
    "    f1_score = 2 * (precision * recall) / (precision + recall)\n",
    "    \n",
    "    return [acc, precision, recall, f1_score]"
   ]
  },
  {
   "cell_type": "code",
   "execution_count": 61,
   "id": "0719cef0-9bdd-4064-8ac4-cd8325c36b71",
   "metadata": {},
   "outputs": [],
   "source": [
    "from torch.utils.data import Dataset, DataLoader\n",
    "#we are initializing the model using single layer(linear) and softmax to rescale data\n",
    "#v_size is the size of word2idx which is the size of embeddings\n",
    "class Word2VecModel(nn.Module):\n",
    "    def __init__(slf, v_size, embd_dim, hd_dim, no_labels):\n",
    "        super(Word2VecModel, slf).__init__()\n",
    "        slf.embedding = nn.Embedding(v_size, embd_dim)\n",
    "        slf.fc1 = nn.Linear(embd_dim, hd_dim)\n",
    "        slf.relu = nn.ReLU()\n",
    "        slf.fc2 = nn.Linear(hd_dim, no_labels)\n",
    "        slf.softmax = nn.Softmax(dim=1)\n",
    "        \n",
    "    def forward(slf, aa):\n",
    "        aa = slf.embedding(aa)\n",
    "        aa = torch.mean(aa, dim=1)\n",
    "        aa = slf.fc1(aa)\n",
    "        aa= slf.relu(aa)\n",
    "        aa = slf.fc2(aa)\n",
    "        aa = slf.softmax(aa)\n",
    "        return aa\n",
    "class DatasetModel(Dataset):\n",
    "    def __init__(slf, data):\n",
    "        slf.data = data\n",
    "    def __getitem__(slf, idx):\n",
    "        label = torch.tensor(slf.data.iloc[idx]['label'])\n",
    "        text = torch.tensor(slf.data.iloc[idx]['text'])\n",
    "        return text, label\n",
    "    def __len__(slf):\n",
    "        return len(slf.data)"
   ]
  },
  {
   "cell_type": "code",
   "execution_count": 62,
   "id": "85d88a59-1c9c-4640-905c-363be6c4227a",
   "metadata": {},
   "outputs": [
    {
     "name": "stdout",
     "output_type": "stream",
     "text": [
      "Epoch 1, Loss: 107.5747013092041 accuracy:  53.65 precision:  57.391304347826086 recall:  96.7032967032967 F1-score:  72.03274215552524\n",
      "Epoch 2, Loss: 104.83098030090332 accuracy:  74.3 precision:  90.75297225891677 recall:  83.88278388278388 F1-score:  87.18274111675126\n",
      "Epoch 3, Loss: 82.67980813980103 accuracy:  86.6 precision:  95.83333333333334 recall:  98.531211750306 F1-score:  97.1635485817743\n",
      "Epoch 4, Loss: 57.69897699356079 accuracy:  94.15 precision:  98.8943488943489 recall:  98.29059829059828 F1-score:  98.59154929577466\n",
      "Epoch 5, Loss: 56.41598701477051 accuracy:  96.0 precision:  99.51100244498777 recall:  99.51100244498777 F1-score:  99.51100244498777\n",
      "Epoch 6, Loss: 66.81691408157349 accuracy:  98.45 precision:  99.39172749391727 recall:  99.87775061124694 F1-score:  99.6341463414634\n",
      "Epoch 7, Loss: 56.673043966293335 accuracy:  99.0 precision:  99.87760097919217 recall:  99.75550122249389 F1-score:  99.81651376146789\n",
      "Epoch 8, Loss: 55.69196343421936 accuracy:  99.35000000000001 precision:  99.87775061124694 recall:  99.75579975579976 F1-score:  99.8167379352474\n",
      "Epoch 9, Loss: 55.14845848083496 accuracy:  99.4 precision:  99.75579975579976 recall:  99.75579975579976 F1-score:  99.75579975579976\n",
      "Epoch 10, Loss: 55.180299282073975 accuracy:  99.5 precision:  99.87775061124694 recall:  99.75579975579976 F1-score:  99.8167379352474\n",
      "Epoch 11, Loss: 55.1554799079895 accuracy:  99.6 precision:  99.87775061124694 recall:  99.75579975579976 F1-score:  99.8167379352474\n",
      "Epoch 12, Loss: 55.149924755096436 accuracy:  99.6 precision:  100.0 recall:  99.75579975579976 F1-score:  99.87775061124694\n"
     ]
    }
   ],
   "source": [
    "dataobj = DatasetModel(data)\n",
    "ldr = DataLoader(dataobj, batch_size=32, shuffle=True)\n",
    "model = Word2VecModel(len(word2idx), 50, 100, 3)\n",
    "crtr = nn.CrossEntropyLoss()\n",
    "optzr = torch.optim.Adam(model.parameters(), lr=0.01)\n",
    "for epch in range(12):\n",
    "    for batch_idx, (text, lbl) in enumerate(ldr):\n",
    "        optzr.zero_grad()\n",
    "        otp = model(text)\n",
    "        loss = crtr(otp, lbl)\n",
    "        loss.backward()\n",
    "        optzr.step()\n",
    "    ccep=epch+1\n",
    "    metricl=evaluate_metric(model, ldr, crtr)\n",
    "    print(f\"Epoch {ccep}, Loss: {loss.item()*100}\",'accuracy: ',metricl[0]*100,'precision: ',metricl[1]*100,'recall: ',metricl[2]*100,'F1-score: ',metricl[3]*100)\n",
    "\n"
   ]
  },
  {
   "cell_type": "code",
   "execution_count": 63,
   "id": "7fa74107-687d-41f8-a771-90c6d6eb2005",
   "metadata": {},
   "outputs": [],
   "source": [
    "#After running model the model improving accuracy "
   ]
  },
  {
   "cell_type": "code",
   "execution_count": 64,
   "id": "970a1018-9ebc-43af-a63d-1da11b0678a7",
   "metadata": {},
   "outputs": [
    {
     "data": {
      "text/plain": [
       "\"test_text=pd.read_csv('https://github.com/cardiffnlp/tweeteval/blob/main/datasets/sentiment/test_text.txt?raw=true',sep='delimiter',header=None,names=['text'])\\nlabel_test =pd.read_csv('https://github.com/cardiffnlp/tweeteval/blob/main/datasets/sentiment/test_labels.txt?raw=true',header=None,names=['label'])\\ndata2=pd.DataFrame({'text':test_text['text'].tolist(),'label':label_test['label'].tolist()})\\nclasses = ['negative','neutral','positive']\\nword2idx = {}\\nidx = 0\\nmaxi=0\\nfor text in data2['text']:\\n    maxi=max(maxi,len(text.split()))\\n    for word in text.split():\\n        if word not in word2idx:\\n            word2idx[word] = idx\\n            idx += 1\\nprint(maxi)\\ndata2['text'] = data2['text'].apply(lambda x: [word2idx[word] for word in x.split()])\\nfor i in range(12284):\\n  l=data2.iloc[i]['text']\\n  x=maxi-len(l)\\n  xl=[0]*x\\n  l.extend(xl)\\n  data2.iloc[i]['text']=xl\\n\\n\""
      ]
     },
     "execution_count": 64,
     "metadata": {},
     "output_type": "execute_result"
    }
   ],
   "source": [
    "'''test_text=pd.read_csv('https://github.com/cardiffnlp/tweeteval/blob/main/datasets/sentiment/test_text.txt?raw=true',sep='delimiter',header=None,names=['text'])\n",
    "label_test =pd.read_csv('https://github.com/cardiffnlp/tweeteval/blob/main/datasets/sentiment/test_labels.txt?raw=true',header=None,names=['label'])\n",
    "data2=pd.DataFrame({'text':test_text['text'].tolist(),'label':label_test['label'].tolist()})\n",
    "classes = ['negative','neutral','positive']\n",
    "word2idx = {}\n",
    "idx = 0\n",
    "maxi=0\n",
    "for text in data2['text']:\n",
    "    maxi=max(maxi,len(text.split()))\n",
    "    for word in text.split():\n",
    "        if word not in word2idx:\n",
    "            word2idx[word] = idx\n",
    "            idx += 1\n",
    "print(maxi)\n",
    "data2['text'] = data2['text'].apply(lambda x: [word2idx[word] for word in x.split()])\n",
    "for i in range(12284):\n",
    "  l=data2.iloc[i]['text']\n",
    "  x=maxi-len(l)\n",
    "  xl=[0]*x\n",
    "  l.extend(xl)\n",
    "  data2.iloc[i]['text']=xl\n",
    "\n",
    "'''\n"
   ]
  },
  {
   "cell_type": "code",
   "execution_count": 65,
   "id": "442bc58b-fe5d-4aed-a2e7-50dbb71e140f",
   "metadata": {},
   "outputs": [
    {
     "name": "stdout",
     "output_type": "stream",
     "text": [
      "[[868   0   1]\n",
      " [  2 817   0]\n",
      " [  3   2 307]]\n"
     ]
    }
   ],
   "source": [
    "from sklearn.metrics import confusion_matrix\n",
    "model.eval()\n",
    "for text,label in ldr:\n",
    "    otp=model(torch.tensor(data['text']))\n",
    "    predict=torch.argmax(otp, dim=1).numpy()\n",
    "cfs_mat=confusion_matrix(data['label'].to_numpy(), predict)\n",
    "print(cfs_mat)"
   ]
  },
  {
   "cell_type": "code",
   "execution_count": 66,
   "id": "8d91b6dc-f83d-4c47-bf45-e3cef9a59ddc",
   "metadata": {},
   "outputs": [
    {
     "data": {
      "text/plain": [
       "tensor([[9.9999e-01, 1.9004e-06, 4.1811e-06],\n",
       "        [1.1631e-06, 1.0000e+00, 1.2449e-07],\n",
       "        [9.9992e-01, 7.1492e-05, 6.9108e-06],\n",
       "        ...,\n",
       "        [7.1746e-04, 9.9928e-01, 2.2558e-06],\n",
       "        [9.9997e-01, 1.9125e-05, 1.2810e-05],\n",
       "        [1.0000e+00, 4.5641e-11, 5.9402e-13]], grad_fn=<SoftmaxBackward0>)"
      ]
     },
     "execution_count": 66,
     "metadata": {},
     "output_type": "execute_result"
    }
   ],
   "source": [
    "otp"
   ]
  },
  {
   "cell_type": "code",
   "execution_count": 67,
   "id": "34538ba1-8755-4cb9-a5b1-18cfa4596a8f",
   "metadata": {},
   "outputs": [
    {
     "data": {
      "image/png": "[encoded data removed]",
      "text/plain": [
       "<Figure size 800x800 with 2 Axes>"
      ]
     },
     "metadata": {},
     "output_type": "display_data"
    }
   ],
   "source": [
    "plt.figure(figsize=(8, 8))\n",
    "sns.heatmap(cfs_mat, annot=True, cmap=\"Reds\")\n",
    "plt.xlabel(\"True Label\")\n",
    "plt.title(\"Confusion Matrix\")\n",
    "plt.ylabel(\"Predicted Label\")\n",
    "plt.show()\n"
   ]
  },
  {
   "cell_type": "code",
   "execution_count": null,
   "id": "c264afe7-a9fa-4c3f-95ef-d2da0bb14b3d",
   "metadata": {},
   "outputs": [],
   "source": []
  },
  {
   "cell_type": "code",
   "execution_count": null,
   "id": "2795d82d-9db2-4493-bc6a-2307de132e17",
   "metadata": {},
   "outputs": [],
   "source": []
  },
  {
   "cell_type": "code",
   "execution_count": null,
   "id": "bbc900a0-9d07-497f-8f8b-5b2152aeffc6",
   "metadata": {},
   "outputs": [],
   "source": []
  }
 ],
 "metadata": {
  "kernelspec": {
   "display_name": "Python 3 (ipykernel)",
   "language": "python",
   "name": "python3"
  },
  "language_info": {
   "codemirror_mode": {
    "name": "ipython",
    "version": 3
   },
   "file_extension": ".py",
   "mimetype": "text/x-python",
   "name": "python",
   "nbconvert_exporter": "python",
   "pygments_lexer": "ipython3",
   "version": "3.9.19"
  }
 },
 "nbformat": 4,
 "nbformat_minor": 5
}
