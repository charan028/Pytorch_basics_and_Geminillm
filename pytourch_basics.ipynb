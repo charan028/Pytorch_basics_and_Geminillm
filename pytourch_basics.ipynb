{
 "cells": [
  {
   "cell_type": "code",
   "execution_count": 1,
   "id": "38ba3371-c69b-492b-b4d3-d0a760e83072",
   "metadata": {},
   "outputs": [
    {
     "name": "stdout",
     "output_type": "stream",
     "text": [
      "tensor([[0.3315, 0.4192, 0.5727],\n",
      "        [0.8478, 0.0692, 0.8708],\n",
      "        [0.4752, 0.5004, 0.3081],\n",
      "        [0.1878, 0.7787, 0.5506],\n",
      "        [0.9546, 0.6391, 0.8657]])\n"
     ]
    },
    {
     "data": {
      "text/plain": [
       "tensor([0.], device='cuda:0')"
      ]
     },
     "execution_count": 1,
     "metadata": {},
     "output_type": "execute_result"
    }
   ],
   "source": [
    "import torch\n",
    "import pandas as pd\n",
    "import numpy as np\n",
    "import matplotlib.pyplot as plt\n",
    "x = torch.rand(5, 3)\n",
    "\n",
    "print(x)\n",
    "torch.zeros(1).cuda()"
   ]
  },
  {
   "cell_type": "code",
   "execution_count": 2,
   "id": "0bcf559b-76b2-4569-8706-d417a7e2ec17",
   "metadata": {},
   "outputs": [
    {
     "data": {
      "text/plain": [
       "2"
      ]
     },
     "execution_count": 2,
     "metadata": {},
     "output_type": "execute_result"
    }
   ],
   "source": [
    "vector=torch.Tensor([[1,2,3,0],[4,5,6,2],[7,8,9,5]])\n",
    "vector.ndim"
   ]
  },
  {
   "cell_type": "code",
   "execution_count": 3,
   "id": "bee418b3",
   "metadata": {},
   "outputs": [
    {
     "data": {
      "text/plain": [
       "torch.Size([3, 4])"
      ]
     },
     "execution_count": 3,
     "metadata": {},
     "output_type": "execute_result"
    }
   ],
   "source": [
    "vector.shape"
   ]
  },
  {
   "cell_type": "code",
   "execution_count": 4,
   "id": "8ef09608",
   "metadata": {},
   "outputs": [
    {
     "data": {
      "text/plain": [
       "tensor(3.)"
      ]
     },
     "execution_count": 4,
     "metadata": {},
     "output_type": "execute_result"
    }
   ],
   "source": [
    "vector[0][2]"
   ]
  },
  {
   "cell_type": "code",
   "execution_count": 5,
   "id": "4ea370f2",
   "metadata": {},
   "outputs": [
    {
     "data": {
      "text/plain": [
       "(3, torch.float32)"
      ]
     },
     "execution_count": 5,
     "metadata": {},
     "output_type": "execute_result"
    }
   ],
   "source": [
    "random_tensor=torch.rand(size=(224,224,3))\n",
    "random_tensor.ndim,random_tensor.dtype"
   ]
  },
  {
   "cell_type": "code",
   "execution_count": 6,
   "id": "7e3f9d39",
   "metadata": {},
   "outputs": [
    {
     "data": {
      "text/plain": [
       "tensor([[0., 0., 0.],\n",
       "        [0., 0., 0.],\n",
       "        [0., 0., 0.]])"
      ]
     },
     "execution_count": 6,
     "metadata": {},
     "output_type": "execute_result"
    }
   ],
   "source": [
    "torch.zeros(3,3)\n"
   ]
  },
  {
   "cell_type": "code",
   "execution_count": 7,
   "id": "636436b0",
   "metadata": {},
   "outputs": [
    {
     "data": {
      "text/plain": [
       "torch.float32"
      ]
     },
     "execution_count": 7,
     "metadata": {},
     "output_type": "execute_result"
    }
   ],
   "source": [
    "torch.ones(3,3).dtype"
   ]
  },
  {
   "cell_type": "code",
   "execution_count": 8,
   "id": "d6536e2a",
   "metadata": {},
   "outputs": [
    {
     "data": {
      "text/plain": [
       "tensor([0, 1, 2, 3, 4, 5, 6, 7, 8, 9])"
      ]
     },
     "execution_count": 8,
     "metadata": {},
     "output_type": "execute_result"
    }
   ],
   "source": [
    "torch.arange(0,10)"
   ]
  },
  {
   "cell_type": "code",
   "execution_count": 9,
   "id": "bb3dde01",
   "metadata": {},
   "outputs": [
    {
     "data": {
      "text/plain": [
       "<module 'torch.cuda' from 'c:\\\\Users\\\\merug\\\\anaconda3\\\\envs\\\\cuda\\\\Lib\\\\site-packages\\\\torch\\\\cuda\\\\__init__.py'>"
      ]
     },
     "execution_count": 9,
     "metadata": {},
     "output_type": "execute_result"
    }
   ],
   "source": [
    "torch.cuda"
   ]
  },
  {
   "cell_type": "code",
   "execution_count": 11,
   "id": "89df2e51",
   "metadata": {},
   "outputs": [],
   "source": [
    "zero_to_ten = torch.arange(start=0, end=10, step=1)"
   ]
  },
  {
   "cell_type": "code",
   "execution_count": 12,
   "id": "8c6b8de6",
   "metadata": {},
   "outputs": [
    {
     "data": {
      "text/plain": [
       "tensor([0, 0, 0, 0, 0, 0, 0, 0, 0, 0])"
      ]
     },
     "execution_count": 12,
     "metadata": {},
     "output_type": "execute_result"
    }
   ],
   "source": [
    "# Can also create a tensor of zeros similar to another tensor\n",
    "ten_zeros = torch.zeros_like(input=zero_to_ten) # will have same shape\n",
    "ten_zeros"
   ]
  },
  {
   "cell_type": "markdown",
   "id": "9bb683dd",
   "metadata": {},
   "source": [
    "<ul>\n",
    "<li>tensor are not right datatype </li>\n",
    "<li> tensor are not right shape</li>\n",
    " <li>tensor are not on the right device</li> </ul>"
   ]
  },
  {
   "cell_type": "code",
   "execution_count": 15,
   "id": "363b2551",
   "metadata": {},
   "outputs": [
    {
     "data": {
      "text/plain": [
       "(torch.Size([3]), torch.float32, device(type='cuda', index=0))"
      ]
     },
     "execution_count": 15,
     "metadata": {},
     "output_type": "execute_result"
    }
   ],
   "source": [
    "# Default datatype for tensors is float32\n",
    "float_32_tensor = torch.tensor([3.0, 6.0, 9.0],\n",
    "                               dtype=None, # defaults to None, which is torch.float32 or whatever datatype is passed\n",
    "                               device='cuda', # defaults to None, which uses the default tensor type\n",
    "                               requires_grad=False) # if True, operations performed on the tensor are recorded \n",
    "\n",
    "float_32_tensor.shape, float_32_tensor.dtype, float_32_tensor.device"
   ]
  },
  {
   "cell_type": "code",
   "execution_count": 18,
   "id": "24a38c4c",
   "metadata": {},
   "outputs": [
    {
     "data": {
      "text/plain": [
       "device(type='cuda', index=0)"
      ]
     },
     "execution_count": 18,
     "metadata": {},
     "output_type": "execute_result"
    }
   ],
   "source": [
    "float_32_tensor.device"
   ]
  },
  {
   "cell_type": "markdown",
   "id": "3cb39abd",
   "metadata": {},
   "source": [
    "### matrix multiplication\n",
    "1) element wise multiply\n",
    "2) matrix multiplication(dot product)\n",
    "* matmul is more optimized than for loop\n",
    "* a.T=transpose\n",
    "* matmul(t1,t2) alias mm\n",
    "* default dtype=float32"
   ]
  },
  {
   "cell_type": "markdown",
   "id": "6acae12d",
   "metadata": {},
   "source": [
    "### max,min,mean,sum,aggregation functions\n",
    "* mean only for float type basic concepts(t.type(torch.float32).mean()) or torch.mean(t.type(torch.float32))\n",
    "* torch.argmin()=> returns the minimum position of the list"
   ]
  },
  {
   "cell_type": "code",
   "execution_count": 27,
   "id": "eadf08f1",
   "metadata": {},
   "outputs": [],
   "source": [
    "x=torch.rand(size=(3,4))"
   ]
  },
  {
   "cell_type": "code",
   "execution_count": 63,
   "id": "3ee4bec8",
   "metadata": {},
   "outputs": [
    {
     "data": {
      "text/plain": [
       "tensor([0, 1, 2, 3, 4, 5, 6, 7, 8, 9])"
      ]
     },
     "execution_count": 63,
     "metadata": {},
     "output_type": "execute_result"
    }
   ],
   "source": [
    "x=torch.arange(0,10)\n",
    "x"
   ]
  },
  {
   "cell_type": "code",
   "execution_count": 66,
   "id": "04bdf55a",
   "metadata": {},
   "outputs": [
    {
     "data": {
      "text/plain": [
       "tensor(9)"
      ]
     },
     "execution_count": 66,
     "metadata": {},
     "output_type": "execute_result"
    }
   ],
   "source": [
    "x[x.argmin()]\n",
    "x[x.argmax()]\n"
   ]
  },
  {
   "cell_type": "markdown",
   "id": "b781dc89",
   "metadata": {},
   "source": [
    "### tensor squeezing,stacking,unsquezzing"
   ]
  },
  {
   "cell_type": "markdown",
   "id": "d9c7a2dc",
   "metadata": {},
   "source": []
  }
 ],
 "metadata": {
  "kernelspec": {
   "display_name": "Python 3 (ipykernel)",
   "language": "python",
   "name": "python3"
  },
  "language_info": {
   "codemirror_mode": {
    "name": "ipython",
    "version": 3
   },
   "file_extension": ".py",
   "mimetype": "text/x-python",
   "name": "python",
   "nbconvert_exporter": "python",
   "pygments_lexer": "ipython3",
   "version": "3.11.5"
  }
 },
 "nbformat": 4,
 "nbformat_minor": 5
}
